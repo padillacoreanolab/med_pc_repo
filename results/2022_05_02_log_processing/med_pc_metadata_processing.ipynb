{
 "cells": [
  {
   "cell_type": "markdown",
   "id": "ec0f0e72",
   "metadata": {},
   "source": [
    "# MED-PC Data Processing Notebook"
   ]
  },
  {
   "cell_type": "markdown",
   "id": "3e96b039",
   "metadata": {},
   "source": [
    "## Importing the Python Libraries"
   ]
  },
  {
   "cell_type": "code",
   "execution_count": 1,
   "id": "df497936",
   "metadata": {},
   "outputs": [],
   "source": [
    "from collections import defaultdict\n",
    "import numpy as np\n",
    "import pandas as pd\n",
    "import matplotlib.pyplot as plt"
   ]
  },
  {
   "cell_type": "code",
   "execution_count": 2,
   "id": "b6678428",
   "metadata": {},
   "outputs": [],
   "source": [
    "from medpc2excel.medpc_read import medpc_read"
   ]
  },
  {
   "cell_type": "code",
   "execution_count": 3,
   "id": "52a5a4ee",
   "metadata": {},
   "outputs": [],
   "source": [
    "# Increase size of plot in jupyter\n",
    "\n",
    "plt.rcParams[\"figure.figsize\"] = (10,6)"
   ]
  },
  {
   "cell_type": "markdown",
   "id": "dd4bc5a5",
   "metadata": {},
   "source": [
    "## Inputting the MED-PC log file"
   ]
  },
  {
   "cell_type": "code",
   "execution_count": 8,
   "id": "dcf6b36c",
   "metadata": {},
   "outputs": [],
   "source": [
    "data_path = \"./data/2022-05-04_13h06m_Subject 4.4 (4).txt\""
   ]
  },
  {
   "cell_type": "code",
   "execution_count": 11,
   "id": "9c5a1dbc",
   "metadata": {},
   "outputs": [],
   "source": [
    "meta_data_headers = [\"File\", \"Start Date\", \"End Date\", \"Subject\", \"Experiment\", \"Group\", \"Box\", \"Start Time\", \"End Time\", \"MSN\"]"
   ]
  },
  {
   "cell_type": "code",
   "execution_count": 18,
   "id": "904f1caa",
   "metadata": {},
   "outputs": [],
   "source": [
    "def get_med_pc_meta_data(file_path, meta_data_list=None):\n",
    "    \"\"\"\n",
    "    \"\"\"\n",
    "    # The default metadata found in MED-PC files\n",
    "    if meta_data_list is None:\n",
    "        meta_data_list = [\"File\", \"Start Date\", \"End Date\", \"Subject\", \"Experiment\", \"Group\", \"Box\", \"Start Time\", \"End Time\", \"MSN\"]\n",
    "    file_path_to_meta_data = defaultdict(dict)\n",
    "    # Going throught each line of the MED-PC data file\n",
    "    with open(file_path) as file:\n",
    "        for line in file.readlines():\n",
    "            # Going through \n",
    "            for header in meta_data_headers:\n",
    "                if line.strip().startswith(header):\n",
    "                    file_path_to_meta_data[data_path][header] = line.strip().strip(header).strip(\":\").strip()\n",
    "    return file_path_to_meta_data"
   ]
  },
  {
   "cell_type": "code",
   "execution_count": 19,
   "id": "bc4fa7f9",
   "metadata": {},
   "outputs": [
    {
     "data": {
      "text/plain": [
       "defaultdict(dict,\n",
       "            {'./data/2022-05-04_13h06m_Subject 4.4 (4).txt': {'File': 'C:\\\\MED-PC\\\\Data\\\\2022-05-04_13h06m_Subject 4.4 (4).txt',\n",
       "              'Start Date': '05/04/22',\n",
       "              'End Date': '05/04/22',\n",
       "              'Subject': '4.4 (4)',\n",
       "              'Experiment': 'Pilot of Pilo',\n",
       "              'Group': 'Cage 4',\n",
       "              'Box': '1',\n",
       "              'Start Time': '13:06:15',\n",
       "              'End Time': '14:10:05',\n",
       "              'MSN': 'levelNP_CS_reward_laserepochON1st_noshock'}})"
      ]
     },
     "execution_count": 19,
     "metadata": {},
     "output_type": "execute_result"
    }
   ],
   "source": [
    "get_med_pc_meta_data(file_path=data_path)\n"
   ]
  },
  {
   "cell_type": "code",
   "execution_count": 15,
   "id": "c39c5ae4",
   "metadata": {},
   "outputs": [
    {
     "data": {
      "text/plain": [
       "defaultdict(dict,\n",
       "            {'./data/2022-05-04_13h06m_Subject 4.4 (4).txt': {'File': 'C:\\\\MED-PC\\\\Data\\\\2022-05-04_13h06m_Subject 4.4 (4).txt',\n",
       "              'Start Date': '05/04/22',\n",
       "              'End Date': '05/04/22',\n",
       "              'Subject': '4.4 (4)',\n",
       "              'Experiment': 'Pilot of Pilo',\n",
       "              'Group': 'Cage 4',\n",
       "              'Box': '1',\n",
       "              'Start Time': '13:06:15',\n",
       "              'End Time': '14:10:05',\n",
       "              'MSN': 'levelNP_CS_reward_laserepochON1st_noshock'}})"
      ]
     },
     "execution_count": 15,
     "metadata": {},
     "output_type": "execute_result"
    }
   ],
   "source": [
    "file_path_to_meta_data"
   ]
  },
  {
   "cell_type": "code",
   "execution_count": null,
   "id": "2ef2a819",
   "metadata": {},
   "outputs": [],
   "source": []
  }
 ],
 "metadata": {
  "kernelspec": {
   "display_name": "Python 3 (ipykernel)",
   "language": "python",
   "name": "python3"
  },
  "language_info": {
   "codemirror_mode": {
    "name": "ipython",
    "version": 3
   },
   "file_extension": ".py",
   "mimetype": "text/x-python",
   "name": "python",
   "nbconvert_exporter": "python",
   "pygments_lexer": "ipython3",
   "version": "3.9.12"
  }
 },
 "nbformat": 4,
 "nbformat_minor": 5
}
