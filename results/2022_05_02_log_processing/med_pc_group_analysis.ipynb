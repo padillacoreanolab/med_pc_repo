{
 "cells": [
  {
   "cell_type": "markdown",
   "id": "ec0f0e72",
   "metadata": {},
   "source": [
    "# MED-PC Data Processing Notebook"
   ]
  },
  {
   "cell_type": "markdown",
   "id": "3e96b039",
   "metadata": {},
   "source": [
    "## Importing the Python Libraries"
   ]
  },
  {
   "cell_type": "code",
   "execution_count": 1,
   "id": "df497936",
   "metadata": {},
   "outputs": [],
   "source": [
    "import sys\n",
    "import glob\n",
    "from collections import defaultdict\n",
    "import os\n",
    "import numpy as np\n",
    "import pandas as pd\n",
    "import matplotlib.pyplot as plt"
   ]
  },
  {
   "cell_type": "code",
   "execution_count": 2,
   "id": "b6678428",
   "metadata": {},
   "outputs": [],
   "source": [
    "from medpc2excel.medpc_read import medpc_read"
   ]
  },
  {
   "cell_type": "code",
   "execution_count": 3,
   "id": "d2693f50",
   "metadata": {},
   "outputs": [],
   "source": [
    "# setting path\n",
    "sys.path.append('../../src')"
   ]
  },
  {
   "cell_type": "code",
   "execution_count": 4,
   "id": "2eca7742",
   "metadata": {},
   "outputs": [],
   "source": [
    "import extract.dataframe\n",
    "import processing.tone\n",
    "import extract.metadata"
   ]
  },
  {
   "cell_type": "code",
   "execution_count": 5,
   "id": "52a5a4ee",
   "metadata": {},
   "outputs": [],
   "source": [
    "# Increase size of plot in jupyter\n",
    "\n",
    "plt.rcParams[\"figure.figsize\"] = (10,6)"
   ]
  },
  {
   "cell_type": "markdown",
   "id": "52dd42ca",
   "metadata": {},
   "source": [
    "## Getting the Metadata from all the files"
   ]
  },
  {
   "cell_type": "code",
   "execution_count": 6,
   "id": "125bce44",
   "metadata": {},
   "outputs": [],
   "source": [
    "all_med_pc_file = glob.glob(\"./data/timestamp_dataframes/*.txt\")"
   ]
  },
  {
   "cell_type": "code",
   "execution_count": 7,
   "id": "29194eda",
   "metadata": {},
   "outputs": [
    {
     "data": {
      "text/plain": [
       "['./data/timestamp_dataframes/2022-05-06_12h59m_Subject 3.4 (2).txt',\n",
       " './data/timestamp_dataframes/2022-05-06_08h37m_Subject 2.3.txt',\n",
       " './data/timestamp_dataframes/2022-05-10_14h40m_Subject 4.3 (3).txt',\n",
       " './data/timestamp_dataframes/2022-05-06_12h59m_Subject 4.3 (3).txt',\n",
       " './data/timestamp_dataframes/2022-05-04_08h43m_Subject 2.3.txt',\n",
       " './data/timestamp_dataframes/2022-05-03_12h52m_Subject 2.1.txt',\n",
       " './data/timestamp_dataframes/2022-05-04_10h11m_Subject 1.2.txt',\n",
       " './data/timestamp_dataframes/2022-05-06_08h37m_Subject 1.1.txt',\n",
       " './data/timestamp_dataframes/2022-05-03_13h19m_Subject 1.2.txt',\n",
       " './data/timestamp_dataframes/2022-05-03_12h52m_Subject 2.4.txt']"
      ]
     },
     "execution_count": 7,
     "metadata": {},
     "output_type": "execute_result"
    }
   ],
   "source": [
    "all_med_pc_file[:10]"
   ]
  },
  {
   "cell_type": "code",
   "execution_count": 8,
   "id": "67503081",
   "metadata": {},
   "outputs": [],
   "source": [
    "file_path_to_meta_data = extract.metadata.get_all_med_pc_meta_data_from_files(list_of_files=all_med_pc_file)"
   ]
  },
  {
   "cell_type": "markdown",
   "id": "2c00edf5",
   "metadata": {},
   "source": [
    "## Making a Dataframe out of the Metadata"
   ]
  },
  {
   "cell_type": "code",
   "execution_count": 9,
   "id": "6fcb3201",
   "metadata": {},
   "outputs": [],
   "source": [
    "metadata_df = pd.DataFrame.from_dict(file_path_to_meta_data, orient=\"index\")\n",
    "metadata_df = metadata_df.reset_index()"
   ]
  },
  {
   "cell_type": "code",
   "execution_count": 10,
   "id": "b98fcaf2",
   "metadata": {},
   "outputs": [
    {
     "data": {
      "text/html": [
       "<div>\n",
       "<style scoped>\n",
       "    .dataframe tbody tr th:only-of-type {\n",
       "        vertical-align: middle;\n",
       "    }\n",
       "\n",
       "    .dataframe tbody tr th {\n",
       "        vertical-align: top;\n",
       "    }\n",
       "\n",
       "    .dataframe thead th {\n",
       "        text-align: right;\n",
       "    }\n",
       "</style>\n",
       "<table border=\"1\" class=\"dataframe\">\n",
       "  <thead>\n",
       "    <tr style=\"text-align: right;\">\n",
       "      <th></th>\n",
       "      <th>index</th>\n",
       "      <th>File</th>\n",
       "      <th>Start Date</th>\n",
       "      <th>End Date</th>\n",
       "      <th>Subject</th>\n",
       "      <th>Experiment</th>\n",
       "      <th>Group</th>\n",
       "      <th>Box</th>\n",
       "      <th>Start Time</th>\n",
       "      <th>End Time</th>\n",
       "      <th>MSN</th>\n",
       "    </tr>\n",
       "  </thead>\n",
       "  <tbody>\n",
       "    <tr>\n",
       "      <th>0</th>\n",
       "      <td>./data/timestamp_dataframes/2022-05-06_12h59m_...</td>\n",
       "      <td>C:\\MED-PC\\Data\\2022-05-06_12h59m_Subject 3.4 (...</td>\n",
       "      <td>05/06/22</td>\n",
       "      <td>05/06/22</td>\n",
       "      <td>3.4 (2)</td>\n",
       "      <td>Pilot of Pilot</td>\n",
       "      <td>Cage 4</td>\n",
       "      <td>1</td>\n",
       "      <td>12:59:58</td>\n",
       "      <td>14:02:38</td>\n",
       "      <td>levelNP_CS_reward_laserepochON1st_noshock</td>\n",
       "    </tr>\n",
       "    <tr>\n",
       "      <th>1</th>\n",
       "      <td>./data/timestamp_dataframes/2022-05-06_08h37m_...</td>\n",
       "      <td>C:\\MED-PC\\Data\\2022-05-06_08h37m_Subject 2.3.txt</td>\n",
       "      <td>05/06/22</td>\n",
       "      <td>05/06/22</td>\n",
       "      <td>2.3</td>\n",
       "      <td>Pilot of Pilot</td>\n",
       "      <td>Cage 1</td>\n",
       "      <td>1</td>\n",
       "      <td>08:37:09</td>\n",
       "      <td>09:53:25</td>\n",
       "      <td>levelNP_CS_reward_laserepochON1st_noshock</td>\n",
       "    </tr>\n",
       "    <tr>\n",
       "      <th>2</th>\n",
       "      <td>./data/timestamp_dataframes/2022-05-10_14h40m_...</td>\n",
       "      <td>C:\\MED-PC\\Data\\2022-05-10_14h40m_Subject 4.3 (...</td>\n",
       "      <td>05/10/22</td>\n",
       "      <td>05/10/22</td>\n",
       "      <td>4.3 (3)</td>\n",
       "      <td>Pilot of Pilot</td>\n",
       "      <td>Cage 4</td>\n",
       "      <td>2</td>\n",
       "      <td>14:40:24</td>\n",
       "      <td>15:43:18</td>\n",
       "      <td>levelNP_CS_reward_laserepochON1st_noshock</td>\n",
       "    </tr>\n",
       "    <tr>\n",
       "      <th>3</th>\n",
       "      <td>./data/timestamp_dataframes/2022-05-06_12h59m_...</td>\n",
       "      <td>C:\\MED-PC\\Data\\2022-05-06_12h59m_Subject 4.3 (...</td>\n",
       "      <td>05/06/22</td>\n",
       "      <td>05/06/22</td>\n",
       "      <td>4.3 (3)</td>\n",
       "      <td>Pilot of Pilot</td>\n",
       "      <td>Cage 4</td>\n",
       "      <td>2</td>\n",
       "      <td>12:59:58</td>\n",
       "      <td>14:02:38</td>\n",
       "      <td>levelNP_CS_reward_laserepochON1st_noshock</td>\n",
       "    </tr>\n",
       "    <tr>\n",
       "      <th>4</th>\n",
       "      <td>./data/timestamp_dataframes/2022-05-04_08h43m_...</td>\n",
       "      <td>C:\\MED-PC\\Data\\2022-05-04_08h43m_Subject 2.3.txt</td>\n",
       "      <td>05/04/22</td>\n",
       "      <td>05/04/22</td>\n",
       "      <td>2.3</td>\n",
       "      <td>Pilot of Pilot</td>\n",
       "      <td>Cage 1</td>\n",
       "      <td>3</td>\n",
       "      <td>08:43:11</td>\n",
       "      <td>09:54:22</td>\n",
       "      <td>levelNP_CS_reward_laserepochON1st_noshock</td>\n",
       "    </tr>\n",
       "  </tbody>\n",
       "</table>\n",
       "</div>"
      ],
      "text/plain": [
       "                                               index  \\\n",
       "0  ./data/timestamp_dataframes/2022-05-06_12h59m_...   \n",
       "1  ./data/timestamp_dataframes/2022-05-06_08h37m_...   \n",
       "2  ./data/timestamp_dataframes/2022-05-10_14h40m_...   \n",
       "3  ./data/timestamp_dataframes/2022-05-06_12h59m_...   \n",
       "4  ./data/timestamp_dataframes/2022-05-04_08h43m_...   \n",
       "\n",
       "                                                File Start Date  End Date  \\\n",
       "0  C:\\MED-PC\\Data\\2022-05-06_12h59m_Subject 3.4 (...   05/06/22  05/06/22   \n",
       "1   C:\\MED-PC\\Data\\2022-05-06_08h37m_Subject 2.3.txt   05/06/22  05/06/22   \n",
       "2  C:\\MED-PC\\Data\\2022-05-10_14h40m_Subject 4.3 (...   05/10/22  05/10/22   \n",
       "3  C:\\MED-PC\\Data\\2022-05-06_12h59m_Subject 4.3 (...   05/06/22  05/06/22   \n",
       "4   C:\\MED-PC\\Data\\2022-05-04_08h43m_Subject 2.3.txt   05/04/22  05/04/22   \n",
       "\n",
       "   Subject      Experiment   Group Box Start Time  End Time  \\\n",
       "0  3.4 (2)  Pilot of Pilot  Cage 4   1   12:59:58  14:02:38   \n",
       "1      2.3  Pilot of Pilot  Cage 1   1   08:37:09  09:53:25   \n",
       "2  4.3 (3)  Pilot of Pilot  Cage 4   2   14:40:24  15:43:18   \n",
       "3  4.3 (3)  Pilot of Pilot  Cage 4   2   12:59:58  14:02:38   \n",
       "4      2.3  Pilot of Pilot  Cage 1   3   08:43:11  09:54:22   \n",
       "\n",
       "                                         MSN  \n",
       "0  levelNP_CS_reward_laserepochON1st_noshock  \n",
       "1  levelNP_CS_reward_laserepochON1st_noshock  \n",
       "2  levelNP_CS_reward_laserepochON1st_noshock  \n",
       "3  levelNP_CS_reward_laserepochON1st_noshock  \n",
       "4  levelNP_CS_reward_laserepochON1st_noshock  "
      ]
     },
     "execution_count": 10,
     "metadata": {},
     "output_type": "execute_result"
    }
   ],
   "source": [
    "metadata_df.head()"
   ]
  },
  {
   "cell_type": "code",
   "execution_count": 11,
   "id": "6285ade1",
   "metadata": {
    "scrolled": true
   },
   "outputs": [
    {
     "data": {
      "text/html": [
       "<div>\n",
       "<style scoped>\n",
       "    .dataframe tbody tr th:only-of-type {\n",
       "        vertical-align: middle;\n",
       "    }\n",
       "\n",
       "    .dataframe tbody tr th {\n",
       "        vertical-align: top;\n",
       "    }\n",
       "\n",
       "    .dataframe thead th {\n",
       "        text-align: right;\n",
       "    }\n",
       "</style>\n",
       "<table border=\"1\" class=\"dataframe\">\n",
       "  <thead>\n",
       "    <tr style=\"text-align: right;\">\n",
       "      <th></th>\n",
       "      <th>index</th>\n",
       "      <th>File</th>\n",
       "      <th>Start Date</th>\n",
       "      <th>End Date</th>\n",
       "      <th>Experiment</th>\n",
       "      <th>Group</th>\n",
       "      <th>Box</th>\n",
       "      <th>Start Time</th>\n",
       "      <th>End Time</th>\n",
       "      <th>MSN</th>\n",
       "    </tr>\n",
       "    <tr>\n",
       "      <th>Subject</th>\n",
       "      <th></th>\n",
       "      <th></th>\n",
       "      <th></th>\n",
       "      <th></th>\n",
       "      <th></th>\n",
       "      <th></th>\n",
       "      <th></th>\n",
       "      <th></th>\n",
       "      <th></th>\n",
       "      <th></th>\n",
       "    </tr>\n",
       "  </thead>\n",
       "  <tbody>\n",
       "    <tr>\n",
       "      <th>1.1</th>\n",
       "      <td>9</td>\n",
       "      <td>9</td>\n",
       "      <td>9</td>\n",
       "      <td>9</td>\n",
       "      <td>9</td>\n",
       "      <td>9</td>\n",
       "      <td>9</td>\n",
       "      <td>9</td>\n",
       "      <td>9</td>\n",
       "      <td>9</td>\n",
       "    </tr>\n",
       "    <tr>\n",
       "      <th>1.2</th>\n",
       "      <td>9</td>\n",
       "      <td>9</td>\n",
       "      <td>9</td>\n",
       "      <td>9</td>\n",
       "      <td>9</td>\n",
       "      <td>9</td>\n",
       "      <td>9</td>\n",
       "      <td>9</td>\n",
       "      <td>9</td>\n",
       "      <td>9</td>\n",
       "    </tr>\n",
       "    <tr>\n",
       "      <th>1.3</th>\n",
       "      <td>9</td>\n",
       "      <td>9</td>\n",
       "      <td>9</td>\n",
       "      <td>9</td>\n",
       "      <td>9</td>\n",
       "      <td>9</td>\n",
       "      <td>9</td>\n",
       "      <td>9</td>\n",
       "      <td>9</td>\n",
       "      <td>9</td>\n",
       "    </tr>\n",
       "    <tr>\n",
       "      <th>1.4</th>\n",
       "      <td>9</td>\n",
       "      <td>9</td>\n",
       "      <td>9</td>\n",
       "      <td>9</td>\n",
       "      <td>9</td>\n",
       "      <td>9</td>\n",
       "      <td>9</td>\n",
       "      <td>9</td>\n",
       "      <td>9</td>\n",
       "      <td>9</td>\n",
       "    </tr>\n",
       "    <tr>\n",
       "      <th>2.1</th>\n",
       "      <td>10</td>\n",
       "      <td>10</td>\n",
       "      <td>10</td>\n",
       "      <td>10</td>\n",
       "      <td>10</td>\n",
       "      <td>10</td>\n",
       "      <td>10</td>\n",
       "      <td>10</td>\n",
       "      <td>10</td>\n",
       "      <td>10</td>\n",
       "    </tr>\n",
       "    <tr>\n",
       "      <th>2.2</th>\n",
       "      <td>9</td>\n",
       "      <td>9</td>\n",
       "      <td>9</td>\n",
       "      <td>9</td>\n",
       "      <td>9</td>\n",
       "      <td>9</td>\n",
       "      <td>9</td>\n",
       "      <td>9</td>\n",
       "      <td>9</td>\n",
       "      <td>9</td>\n",
       "    </tr>\n",
       "    <tr>\n",
       "      <th>2.3</th>\n",
       "      <td>9</td>\n",
       "      <td>9</td>\n",
       "      <td>9</td>\n",
       "      <td>9</td>\n",
       "      <td>9</td>\n",
       "      <td>9</td>\n",
       "      <td>9</td>\n",
       "      <td>9</td>\n",
       "      <td>9</td>\n",
       "      <td>9</td>\n",
       "    </tr>\n",
       "    <tr>\n",
       "      <th>2.4</th>\n",
       "      <td>9</td>\n",
       "      <td>9</td>\n",
       "      <td>9</td>\n",
       "      <td>9</td>\n",
       "      <td>9</td>\n",
       "      <td>9</td>\n",
       "      <td>9</td>\n",
       "      <td>9</td>\n",
       "      <td>9</td>\n",
       "      <td>9</td>\n",
       "    </tr>\n",
       "    <tr>\n",
       "      <th>3.1 (1)</th>\n",
       "      <td>8</td>\n",
       "      <td>8</td>\n",
       "      <td>8</td>\n",
       "      <td>8</td>\n",
       "      <td>8</td>\n",
       "      <td>8</td>\n",
       "      <td>8</td>\n",
       "      <td>8</td>\n",
       "      <td>8</td>\n",
       "      <td>8</td>\n",
       "    </tr>\n",
       "    <tr>\n",
       "      <th>3.2 (2)</th>\n",
       "      <td>8</td>\n",
       "      <td>8</td>\n",
       "      <td>8</td>\n",
       "      <td>8</td>\n",
       "      <td>8</td>\n",
       "      <td>8</td>\n",
       "      <td>8</td>\n",
       "      <td>8</td>\n",
       "      <td>8</td>\n",
       "      <td>8</td>\n",
       "    </tr>\n",
       "    <tr>\n",
       "      <th>3.3 (4)</th>\n",
       "      <td>8</td>\n",
       "      <td>8</td>\n",
       "      <td>8</td>\n",
       "      <td>8</td>\n",
       "      <td>8</td>\n",
       "      <td>8</td>\n",
       "      <td>8</td>\n",
       "      <td>8</td>\n",
       "      <td>8</td>\n",
       "      <td>8</td>\n",
       "    </tr>\n",
       "    <tr>\n",
       "      <th>3.4 (2)</th>\n",
       "      <td>8</td>\n",
       "      <td>8</td>\n",
       "      <td>8</td>\n",
       "      <td>8</td>\n",
       "      <td>8</td>\n",
       "      <td>8</td>\n",
       "      <td>8</td>\n",
       "      <td>8</td>\n",
       "      <td>8</td>\n",
       "      <td>8</td>\n",
       "    </tr>\n",
       "    <tr>\n",
       "      <th>4.1 (1)</th>\n",
       "      <td>8</td>\n",
       "      <td>8</td>\n",
       "      <td>8</td>\n",
       "      <td>8</td>\n",
       "      <td>8</td>\n",
       "      <td>8</td>\n",
       "      <td>8</td>\n",
       "      <td>8</td>\n",
       "      <td>8</td>\n",
       "      <td>8</td>\n",
       "    </tr>\n",
       "    <tr>\n",
       "      <th>4.2 (3)</th>\n",
       "      <td>8</td>\n",
       "      <td>8</td>\n",
       "      <td>8</td>\n",
       "      <td>8</td>\n",
       "      <td>8</td>\n",
       "      <td>8</td>\n",
       "      <td>8</td>\n",
       "      <td>8</td>\n",
       "      <td>8</td>\n",
       "      <td>8</td>\n",
       "    </tr>\n",
       "    <tr>\n",
       "      <th>4.3 (3)</th>\n",
       "      <td>8</td>\n",
       "      <td>8</td>\n",
       "      <td>8</td>\n",
       "      <td>8</td>\n",
       "      <td>8</td>\n",
       "      <td>8</td>\n",
       "      <td>8</td>\n",
       "      <td>8</td>\n",
       "      <td>8</td>\n",
       "      <td>8</td>\n",
       "    </tr>\n",
       "    <tr>\n",
       "      <th>4.4 (4)</th>\n",
       "      <td>8</td>\n",
       "      <td>8</td>\n",
       "      <td>8</td>\n",
       "      <td>8</td>\n",
       "      <td>8</td>\n",
       "      <td>8</td>\n",
       "      <td>8</td>\n",
       "      <td>8</td>\n",
       "      <td>8</td>\n",
       "      <td>8</td>\n",
       "    </tr>\n",
       "  </tbody>\n",
       "</table>\n",
       "</div>"
      ],
      "text/plain": [
       "         index  File  Start Date  End Date  Experiment  Group  Box  \\\n",
       "Subject                                                              \n",
       "1.1          9     9           9         9           9      9    9   \n",
       "1.2          9     9           9         9           9      9    9   \n",
       "1.3          9     9           9         9           9      9    9   \n",
       "1.4          9     9           9         9           9      9    9   \n",
       "2.1         10    10          10        10          10     10   10   \n",
       "2.2          9     9           9         9           9      9    9   \n",
       "2.3          9     9           9         9           9      9    9   \n",
       "2.4          9     9           9         9           9      9    9   \n",
       "3.1 (1)      8     8           8         8           8      8    8   \n",
       "3.2 (2)      8     8           8         8           8      8    8   \n",
       "3.3 (4)      8     8           8         8           8      8    8   \n",
       "3.4 (2)      8     8           8         8           8      8    8   \n",
       "4.1 (1)      8     8           8         8           8      8    8   \n",
       "4.2 (3)      8     8           8         8           8      8    8   \n",
       "4.3 (3)      8     8           8         8           8      8    8   \n",
       "4.4 (4)      8     8           8         8           8      8    8   \n",
       "\n",
       "         Start Time  End Time  MSN  \n",
       "Subject                             \n",
       "1.1               9         9    9  \n",
       "1.2               9         9    9  \n",
       "1.3               9         9    9  \n",
       "1.4               9         9    9  \n",
       "2.1              10        10   10  \n",
       "2.2               9         9    9  \n",
       "2.3               9         9    9  \n",
       "2.4               9         9    9  \n",
       "3.1 (1)           8         8    8  \n",
       "3.2 (2)           8         8    8  \n",
       "3.3 (4)           8         8    8  \n",
       "3.4 (2)           8         8    8  \n",
       "4.1 (1)           8         8    8  \n",
       "4.2 (3)           8         8    8  \n",
       "4.3 (3)           8         8    8  \n",
       "4.4 (4)           8         8    8  "
      ]
     },
     "execution_count": 11,
     "metadata": {},
     "output_type": "execute_result"
    }
   ],
   "source": [
    "metadata_df.groupby(\"Subject\").count()"
   ]
  },
  {
   "cell_type": "markdown",
   "id": "d07e9ed5",
   "metadata": {},
   "source": []
  },
  {
   "cell_type": "code",
   "execution_count": 12,
   "id": "e4229115",
   "metadata": {},
   "outputs": [
    {
     "data": {
      "text/plain": [
       "array(['3.4 (2)', '2.3', '4.3 (3)', '2.1', '1.2', '1.1', '2.4', '4.1 (1)',\n",
       "       '4.4 (4)', '3.3 (4)', '3.2 (2)', '1.4', '1.3', '3.1 (1)', '2.2',\n",
       "       '4.2 (3)'], dtype=object)"
      ]
     },
     "execution_count": 12,
     "metadata": {},
     "output_type": "execute_result"
    }
   ],
   "source": [
    "metadata_df[\"Subject\"].unique()"
   ]
  },
  {
   "cell_type": "markdown",
   "id": "dd4bc5a5",
   "metadata": {},
   "source": [
    "## Inputting all the MED-PC log files"
   ]
  },
  {
   "cell_type": "markdown",
   "id": "3480b276",
   "metadata": {},
   "source": [
    "- **Please make sure that the corresponding `.mpc` file (aka the MED-PC script) that was ran to create the log file, is also in the same folder**"
   ]
  },
  {
   "cell_type": "code",
   "execution_count": 13,
   "id": "0c38d1eb",
   "metadata": {
    "scrolled": true
   },
   "outputs": [
    {
     "name": "stdout",
     "output_type": "stream",
     "text": [
      "Traceback (most recent call last):\n",
      "  File \"/home/riwata/Projects/med_pc_repo/results/2022_05_02_log_processing/../../src/extract/dataframe.py\", line 71, in get_medpc_dataframe_from_list_of_files\n",
      "    ts_df, medpc_log = medpc_read(file=file_path, override=True, replace=False)\n",
      "  File \"/home/riwata/Projects/med_pc_repo/bin/conda_environments/env/med_pc_env/lib/python3.9/site-packages/medpc2excel/medpc_read.py\", line 114, in medpc_read\n",
      "    temp += re.split('\\s+',d.split(':')[1])\n",
      "IndexError: list index out of range\n",
      "\n",
      "Invalid Formatting for file: ./data/timestamp_dataframes/2022-05-03_13h19m_Subject 1.2.txt\n",
      "Traceback (most recent call last):\n",
      "  File \"/home/riwata/Projects/med_pc_repo/results/2022_05_02_log_processing/../../src/extract/dataframe.py\", line 71, in get_medpc_dataframe_from_list_of_files\n",
      "    ts_df, medpc_log = medpc_read(file=file_path, override=True, replace=False)\n",
      "  File \"/home/riwata/Projects/med_pc_repo/bin/conda_environments/env/med_pc_env/lib/python3.9/site-packages/medpc2excel/medpc_read.py\", line 114, in medpc_read\n",
      "    temp += re.split('\\s+',d.split(':')[1])\n",
      "IndexError: list index out of range\n",
      "\n",
      "Invalid Formatting for file: ./data/timestamp_dataframes/2022-05-03_13h19m_Subject 2.1.txt\n",
      "Traceback (most recent call last):\n",
      "  File \"/home/riwata/Projects/med_pc_repo/results/2022_05_02_log_processing/../../src/extract/dataframe.py\", line 71, in get_medpc_dataframe_from_list_of_files\n",
      "    ts_df, medpc_log = medpc_read(file=file_path, override=True, replace=False)\n",
      "  File \"/home/riwata/Projects/med_pc_repo/bin/conda_environments/env/med_pc_env/lib/python3.9/site-packages/medpc2excel/medpc_read.py\", line 114, in medpc_read\n",
      "    temp += re.split('\\s+',d.split(':')[1])\n",
      "IndexError: list index out of range\n",
      "\n",
      "Invalid Formatting for file: ./data/timestamp_dataframes/2022-05-03_11h42m_Subject 2.3.txt\n",
      "Traceback (most recent call last):\n",
      "  File \"/home/riwata/Projects/med_pc_repo/results/2022_05_02_log_processing/../../src/extract/dataframe.py\", line 71, in get_medpc_dataframe_from_list_of_files\n",
      "    ts_df, medpc_log = medpc_read(file=file_path, override=True, replace=False)\n",
      "  File \"/home/riwata/Projects/med_pc_repo/bin/conda_environments/env/med_pc_env/lib/python3.9/site-packages/medpc2excel/medpc_read.py\", line 114, in medpc_read\n",
      "    temp += re.split('\\s+',d.split(':')[1])\n",
      "IndexError: list index out of range\n",
      "\n",
      "Invalid Formatting for file: ./data/timestamp_dataframes/2022-05-03_11h42m_Subject 2.2.txt\n",
      "Traceback (most recent call last):\n",
      "  File \"/home/riwata/Projects/med_pc_repo/results/2022_05_02_log_processing/../../src/extract/dataframe.py\", line 71, in get_medpc_dataframe_from_list_of_files\n",
      "    ts_df, medpc_log = medpc_read(file=file_path, override=True, replace=False)\n",
      "  File \"/home/riwata/Projects/med_pc_repo/bin/conda_environments/env/med_pc_env/lib/python3.9/site-packages/medpc2excel/medpc_read.py\", line 114, in medpc_read\n",
      "    temp += re.split('\\s+',d.split(':')[1])\n",
      "IndexError: list index out of range\n",
      "\n",
      "Invalid Formatting for file: ./data/timestamp_dataframes/2022-05-03_11h42m_Subject 1.1.txt\n",
      "Traceback (most recent call last):\n",
      "  File \"/home/riwata/Projects/med_pc_repo/results/2022_05_02_log_processing/../../src/extract/dataframe.py\", line 71, in get_medpc_dataframe_from_list_of_files\n",
      "    ts_df, medpc_log = medpc_read(file=file_path, override=True, replace=False)\n",
      "  File \"/home/riwata/Projects/med_pc_repo/bin/conda_environments/env/med_pc_env/lib/python3.9/site-packages/medpc2excel/medpc_read.py\", line 114, in medpc_read\n",
      "    temp += re.split('\\s+',d.split(':')[1])\n",
      "IndexError: list index out of range\n",
      "\n",
      "Invalid Formatting for file: ./data/timestamp_dataframes/2022-05-03_13h19m_Subject 2.4.txt\n",
      "Traceback (most recent call last):\n",
      "  File \"/home/riwata/Projects/med_pc_repo/results/2022_05_02_log_processing/../../src/extract/dataframe.py\", line 71, in get_medpc_dataframe_from_list_of_files\n",
      "    ts_df, medpc_log = medpc_read(file=file_path, override=True, replace=False)\n",
      "  File \"/home/riwata/Projects/med_pc_repo/bin/conda_environments/env/med_pc_env/lib/python3.9/site-packages/medpc2excel/medpc_read.py\", line 114, in medpc_read\n",
      "    temp += re.split('\\s+',d.split(':')[1])\n",
      "IndexError: list index out of range\n",
      "\n",
      "Invalid Formatting for file: ./data/timestamp_dataframes/2022-05-03_13h19m_Subject 1.3.txt\n",
      "Traceback (most recent call last):\n",
      "  File \"/home/riwata/Projects/med_pc_repo/results/2022_05_02_log_processing/../../src/extract/dataframe.py\", line 71, in get_medpc_dataframe_from_list_of_files\n",
      "    ts_df, medpc_log = medpc_read(file=file_path, override=True, replace=False)\n",
      "  File \"/home/riwata/Projects/med_pc_repo/bin/conda_environments/env/med_pc_env/lib/python3.9/site-packages/medpc2excel/medpc_read.py\", line 114, in medpc_read\n",
      "    temp += re.split('\\s+',d.split(':')[1])\n",
      "IndexError: list index out of range\n",
      "\n",
      "Invalid Formatting for file: ./data/timestamp_dataframes/2022-05-03_11h42m_Subject 1.4.txt\n"
     ]
    }
   ],
   "source": [
    "concatted_medpc_df = extract.dataframe.get_medpc_dataframe_from_list_of_files(medpc_files=all_med_pc_file)"
   ]
  },
  {
   "cell_type": "code",
   "execution_count": 14,
   "id": "c0067591",
   "metadata": {},
   "outputs": [
    {
     "data": {
      "text/html": [
       "<div>\n",
       "<style scoped>\n",
       "    .dataframe tbody tr th:only-of-type {\n",
       "        vertical-align: middle;\n",
       "    }\n",
       "\n",
       "    .dataframe tbody tr th {\n",
       "        vertical-align: top;\n",
       "    }\n",
       "\n",
       "    .dataframe thead th {\n",
       "        text-align: right;\n",
       "    }\n",
       "</style>\n",
       "<table border=\"1\" class=\"dataframe\">\n",
       "  <thead>\n",
       "    <tr style=\"text-align: right;\">\n",
       "      <th></th>\n",
       "      <th>(P)Portentry</th>\n",
       "      <th>(Q)USdelivery</th>\n",
       "      <th>(R)UStime</th>\n",
       "      <th>(W)ITIvalues</th>\n",
       "      <th>(S)CSpresentation</th>\n",
       "      <th>(N)Portexit</th>\n",
       "      <th>(K)CStype</th>\n",
       "      <th>(B)shockintensity</th>\n",
       "      <th>date_key</th>\n",
       "      <th>subject_key</th>\n",
       "      <th>file_path</th>\n",
       "    </tr>\n",
       "  </thead>\n",
       "  <tbody>\n",
       "    <tr>\n",
       "      <th>0</th>\n",
       "      <td>12.34</td>\n",
       "      <td>64.0</td>\n",
       "      <td>399.0</td>\n",
       "      <td>0.0</td>\n",
       "      <td>60.01</td>\n",
       "      <td>12.39</td>\n",
       "      <td>1.0</td>\n",
       "      <td>0.0</td>\n",
       "      <td>20220506</td>\n",
       "      <td>3.4 (2)</td>\n",
       "      <td>./data/timestamp_dataframes/2022-05-06_12h59m_...</td>\n",
       "    </tr>\n",
       "    <tr>\n",
       "      <th>1</th>\n",
       "      <td>14.60</td>\n",
       "      <td>144.0</td>\n",
       "      <td>399.0</td>\n",
       "      <td>0.0</td>\n",
       "      <td>140.01</td>\n",
       "      <td>14.79</td>\n",
       "      <td>1.0</td>\n",
       "      <td>0.0</td>\n",
       "      <td>20220506</td>\n",
       "      <td>3.4 (2)</td>\n",
       "      <td>./data/timestamp_dataframes/2022-05-06_12h59m_...</td>\n",
       "    </tr>\n",
       "    <tr>\n",
       "      <th>2</th>\n",
       "      <td>23.95</td>\n",
       "      <td>234.0</td>\n",
       "      <td>399.0</td>\n",
       "      <td>0.0</td>\n",
       "      <td>230.01</td>\n",
       "      <td>24.88</td>\n",
       "      <td>1.0</td>\n",
       "      <td>0.0</td>\n",
       "      <td>20220506</td>\n",
       "      <td>3.4 (2)</td>\n",
       "      <td>./data/timestamp_dataframes/2022-05-06_12h59m_...</td>\n",
       "    </tr>\n",
       "    <tr>\n",
       "      <th>3</th>\n",
       "      <td>31.83</td>\n",
       "      <td>314.0</td>\n",
       "      <td>399.0</td>\n",
       "      <td>0.0</td>\n",
       "      <td>310.01</td>\n",
       "      <td>31.90</td>\n",
       "      <td>1.0</td>\n",
       "      <td>0.0</td>\n",
       "      <td>20220506</td>\n",
       "      <td>3.4 (2)</td>\n",
       "      <td>./data/timestamp_dataframes/2022-05-06_12h59m_...</td>\n",
       "    </tr>\n",
       "    <tr>\n",
       "      <th>4</th>\n",
       "      <td>31.99</td>\n",
       "      <td>389.0</td>\n",
       "      <td>399.0</td>\n",
       "      <td>0.0</td>\n",
       "      <td>385.01</td>\n",
       "      <td>32.09</td>\n",
       "      <td>1.0</td>\n",
       "      <td>0.0</td>\n",
       "      <td>20220506</td>\n",
       "      <td>3.4 (2)</td>\n",
       "      <td>./data/timestamp_dataframes/2022-05-06_12h59m_...</td>\n",
       "    </tr>\n",
       "    <tr>\n",
       "      <th>...</th>\n",
       "      <td>...</td>\n",
       "      <td>...</td>\n",
       "      <td>...</td>\n",
       "      <td>...</td>\n",
       "      <td>...</td>\n",
       "      <td>...</td>\n",
       "      <td>...</td>\n",
       "      <td>...</td>\n",
       "      <td>...</td>\n",
       "      <td>...</td>\n",
       "      <td>...</td>\n",
       "    </tr>\n",
       "    <tr>\n",
       "      <th>2536</th>\n",
       "      <td>NaN</td>\n",
       "      <td>NaN</td>\n",
       "      <td>NaN</td>\n",
       "      <td>NaN</td>\n",
       "      <td>NaN</td>\n",
       "      <td>NaN</td>\n",
       "      <td>1.0</td>\n",
       "      <td>NaN</td>\n",
       "      <td>20220508</td>\n",
       "      <td>1.3</td>\n",
       "      <td>./data/timestamp_dataframes/2022-05-08_11h14m_...</td>\n",
       "    </tr>\n",
       "    <tr>\n",
       "      <th>2537</th>\n",
       "      <td>NaN</td>\n",
       "      <td>NaN</td>\n",
       "      <td>NaN</td>\n",
       "      <td>NaN</td>\n",
       "      <td>NaN</td>\n",
       "      <td>NaN</td>\n",
       "      <td>1.0</td>\n",
       "      <td>NaN</td>\n",
       "      <td>20220508</td>\n",
       "      <td>1.3</td>\n",
       "      <td>./data/timestamp_dataframes/2022-05-08_11h14m_...</td>\n",
       "    </tr>\n",
       "    <tr>\n",
       "      <th>2538</th>\n",
       "      <td>NaN</td>\n",
       "      <td>NaN</td>\n",
       "      <td>NaN</td>\n",
       "      <td>NaN</td>\n",
       "      <td>NaN</td>\n",
       "      <td>NaN</td>\n",
       "      <td>1.0</td>\n",
       "      <td>NaN</td>\n",
       "      <td>20220508</td>\n",
       "      <td>1.3</td>\n",
       "      <td>./data/timestamp_dataframes/2022-05-08_11h14m_...</td>\n",
       "    </tr>\n",
       "    <tr>\n",
       "      <th>2539</th>\n",
       "      <td>NaN</td>\n",
       "      <td>NaN</td>\n",
       "      <td>NaN</td>\n",
       "      <td>NaN</td>\n",
       "      <td>NaN</td>\n",
       "      <td>NaN</td>\n",
       "      <td>1.0</td>\n",
       "      <td>NaN</td>\n",
       "      <td>20220508</td>\n",
       "      <td>1.3</td>\n",
       "      <td>./data/timestamp_dataframes/2022-05-08_11h14m_...</td>\n",
       "    </tr>\n",
       "    <tr>\n",
       "      <th>2540</th>\n",
       "      <td>NaN</td>\n",
       "      <td>NaN</td>\n",
       "      <td>NaN</td>\n",
       "      <td>NaN</td>\n",
       "      <td>NaN</td>\n",
       "      <td>NaN</td>\n",
       "      <td>1.0</td>\n",
       "      <td>NaN</td>\n",
       "      <td>20220508</td>\n",
       "      <td>1.3</td>\n",
       "      <td>./data/timestamp_dataframes/2022-05-08_11h14m_...</td>\n",
       "    </tr>\n",
       "  </tbody>\n",
       "</table>\n",
       "<p>345249 rows × 11 columns</p>\n",
       "</div>"
      ],
      "text/plain": [
       "      (P)Portentry  (Q)USdelivery  (R)UStime  (W)ITIvalues  (S)CSpresentation  \\\n",
       "0            12.34           64.0      399.0           0.0              60.01   \n",
       "1            14.60          144.0      399.0           0.0             140.01   \n",
       "2            23.95          234.0      399.0           0.0             230.01   \n",
       "3            31.83          314.0      399.0           0.0             310.01   \n",
       "4            31.99          389.0      399.0           0.0             385.01   \n",
       "...            ...            ...        ...           ...                ...   \n",
       "2536           NaN            NaN        NaN           NaN                NaN   \n",
       "2537           NaN            NaN        NaN           NaN                NaN   \n",
       "2538           NaN            NaN        NaN           NaN                NaN   \n",
       "2539           NaN            NaN        NaN           NaN                NaN   \n",
       "2540           NaN            NaN        NaN           NaN                NaN   \n",
       "\n",
       "      (N)Portexit  (K)CStype  (B)shockintensity  date_key subject_key  \\\n",
       "0           12.39        1.0                0.0  20220506     3.4 (2)   \n",
       "1           14.79        1.0                0.0  20220506     3.4 (2)   \n",
       "2           24.88        1.0                0.0  20220506     3.4 (2)   \n",
       "3           31.90        1.0                0.0  20220506     3.4 (2)   \n",
       "4           32.09        1.0                0.0  20220506     3.4 (2)   \n",
       "...           ...        ...                ...       ...         ...   \n",
       "2536          NaN        1.0                NaN  20220508         1.3   \n",
       "2537          NaN        1.0                NaN  20220508         1.3   \n",
       "2538          NaN        1.0                NaN  20220508         1.3   \n",
       "2539          NaN        1.0                NaN  20220508         1.3   \n",
       "2540          NaN        1.0                NaN  20220508         1.3   \n",
       "\n",
       "                                              file_path  \n",
       "0     ./data/timestamp_dataframes/2022-05-06_12h59m_...  \n",
       "1     ./data/timestamp_dataframes/2022-05-06_12h59m_...  \n",
       "2     ./data/timestamp_dataframes/2022-05-06_12h59m_...  \n",
       "3     ./data/timestamp_dataframes/2022-05-06_12h59m_...  \n",
       "4     ./data/timestamp_dataframes/2022-05-06_12h59m_...  \n",
       "...                                                 ...  \n",
       "2536  ./data/timestamp_dataframes/2022-05-08_11h14m_...  \n",
       "2537  ./data/timestamp_dataframes/2022-05-08_11h14m_...  \n",
       "2538  ./data/timestamp_dataframes/2022-05-08_11h14m_...  \n",
       "2539  ./data/timestamp_dataframes/2022-05-08_11h14m_...  \n",
       "2540  ./data/timestamp_dataframes/2022-05-08_11h14m_...  \n",
       "\n",
       "[345249 rows x 11 columns]"
      ]
     },
     "execution_count": 14,
     "metadata": {},
     "output_type": "execute_result"
    }
   ],
   "source": [
    "concatted_medpc_df"
   ]
  },
  {
   "cell_type": "markdown",
   "id": "2a7e86ca",
   "metadata": {},
   "source": [
    "## Getting the Latency for Each Test Session"
   ]
  },
  {
   "cell_type": "code",
   "execution_count": 15,
   "id": "569afa4a",
   "metadata": {},
   "outputs": [
    {
     "ename": "TypeError",
     "evalue": "object of type 'int' has no len()",
     "output_type": "error",
     "traceback": [
      "\u001b[0;31m---------------------------------------------------------------------------\u001b[0m",
      "\u001b[0;31mTypeError\u001b[0m                                 Traceback (most recent call last)",
      "Input \u001b[0;32mIn [15]\u001b[0m, in \u001b[0;36m<cell line: 1>\u001b[0;34m()\u001b[0m\n\u001b[0;32m----> 1\u001b[0m \u001b[38;5;28;43mlen\u001b[39;49m\u001b[43m(\u001b[49m\u001b[38;5;241;43m1\u001b[39;49m\u001b[43m)\u001b[49m\n",
      "\u001b[0;31mTypeError\u001b[0m: object of type 'int' has no len()"
     ]
    }
   ],
   "source": [
    "len(1)"
   ]
  },
  {
   "cell_type": "code",
   "execution_count": 17,
   "id": "4260f605",
   "metadata": {},
   "outputs": [],
   "source": [
    "concatted_first_porty_entry_dataframe = processing.tone.get_concatted_first_porty_entry_dataframe(concatted_medpc_df=concatted_medpc_df)"
   ]
  },
  {
   "cell_type": "code",
   "execution_count": 32,
   "id": "4eac03fe",
   "metadata": {},
   "outputs": [
    {
     "data": {
      "text/html": [
       "<div>\n",
       "<style scoped>\n",
       "    .dataframe tbody tr th:only-of-type {\n",
       "        vertical-align: middle;\n",
       "    }\n",
       "\n",
       "    .dataframe tbody tr th {\n",
       "        vertical-align: top;\n",
       "    }\n",
       "\n",
       "    .dataframe thead th {\n",
       "        text-align: right;\n",
       "    }\n",
       "</style>\n",
       "<table border=\"1\" class=\"dataframe\">\n",
       "  <thead>\n",
       "    <tr style=\"text-align: right;\">\n",
       "      <th></th>\n",
       "      <th>current_tone_time</th>\n",
       "      <th>first_port_entry_after_tone</th>\n",
       "      <th>file_path</th>\n",
       "      <th>date_key</th>\n",
       "      <th>subject_key</th>\n",
       "      <th>latency</th>\n",
       "      <th>latency_adjusted</th>\n",
       "      <th>latency_less_than_10_seconds</th>\n",
       "    </tr>\n",
       "  </thead>\n",
       "  <tbody>\n",
       "    <tr>\n",
       "      <th>0</th>\n",
       "      <td>60.01</td>\n",
       "      <td>69.00</td>\n",
       "      <td>./data/timestamp_dataframes/2022-05-06_12h59m_...</td>\n",
       "      <td>20220506</td>\n",
       "      <td>3.4 (2)</td>\n",
       "      <td>8.99</td>\n",
       "      <td>8.99</td>\n",
       "      <td>1</td>\n",
       "    </tr>\n",
       "    <tr>\n",
       "      <th>1</th>\n",
       "      <td>140.01</td>\n",
       "      <td>148.27</td>\n",
       "      <td>./data/timestamp_dataframes/2022-05-06_12h59m_...</td>\n",
       "      <td>20220506</td>\n",
       "      <td>3.4 (2)</td>\n",
       "      <td>8.26</td>\n",
       "      <td>8.26</td>\n",
       "      <td>1</td>\n",
       "    </tr>\n",
       "    <tr>\n",
       "      <th>2</th>\n",
       "      <td>230.01</td>\n",
       "      <td>231.91</td>\n",
       "      <td>./data/timestamp_dataframes/2022-05-06_12h59m_...</td>\n",
       "      <td>20220506</td>\n",
       "      <td>3.4 (2)</td>\n",
       "      <td>1.90</td>\n",
       "      <td>1.90</td>\n",
       "      <td>1</td>\n",
       "    </tr>\n",
       "    <tr>\n",
       "      <th>3</th>\n",
       "      <td>310.01</td>\n",
       "      <td>320.97</td>\n",
       "      <td>./data/timestamp_dataframes/2022-05-06_12h59m_...</td>\n",
       "      <td>20220506</td>\n",
       "      <td>3.4 (2)</td>\n",
       "      <td>10.96</td>\n",
       "      <td>10.96</td>\n",
       "      <td>0</td>\n",
       "    </tr>\n",
       "    <tr>\n",
       "      <th>4</th>\n",
       "      <td>385.01</td>\n",
       "      <td>394.75</td>\n",
       "      <td>./data/timestamp_dataframes/2022-05-06_12h59m_...</td>\n",
       "      <td>20220506</td>\n",
       "      <td>3.4 (2)</td>\n",
       "      <td>9.74</td>\n",
       "      <td>9.74</td>\n",
       "      <td>1</td>\n",
       "    </tr>\n",
       "    <tr>\n",
       "      <th>...</th>\n",
       "      <td>...</td>\n",
       "      <td>...</td>\n",
       "      <td>...</td>\n",
       "      <td>...</td>\n",
       "      <td>...</td>\n",
       "      <td>...</td>\n",
       "      <td>...</td>\n",
       "      <td>...</td>\n",
       "    </tr>\n",
       "    <tr>\n",
       "      <th>4944</th>\n",
       "      <td>3160.01</td>\n",
       "      <td>3161.89</td>\n",
       "      <td>./data/timestamp_dataframes/2022-05-08_11h14m_...</td>\n",
       "      <td>20220508</td>\n",
       "      <td>1.3</td>\n",
       "      <td>1.88</td>\n",
       "      <td>1.88</td>\n",
       "      <td>1</td>\n",
       "    </tr>\n",
       "    <tr>\n",
       "      <th>4945</th>\n",
       "      <td>3255.01</td>\n",
       "      <td>3255.09</td>\n",
       "      <td>./data/timestamp_dataframes/2022-05-08_11h14m_...</td>\n",
       "      <td>20220508</td>\n",
       "      <td>1.3</td>\n",
       "      <td>0.08</td>\n",
       "      <td>0.08</td>\n",
       "      <td>1</td>\n",
       "    </tr>\n",
       "    <tr>\n",
       "      <th>4946</th>\n",
       "      <td>3345.01</td>\n",
       "      <td>3351.67</td>\n",
       "      <td>./data/timestamp_dataframes/2022-05-08_11h14m_...</td>\n",
       "      <td>20220508</td>\n",
       "      <td>1.3</td>\n",
       "      <td>6.66</td>\n",
       "      <td>6.66</td>\n",
       "      <td>1</td>\n",
       "    </tr>\n",
       "    <tr>\n",
       "      <th>4947</th>\n",
       "      <td>3425.01</td>\n",
       "      <td>3431.15</td>\n",
       "      <td>./data/timestamp_dataframes/2022-05-08_11h14m_...</td>\n",
       "      <td>20220508</td>\n",
       "      <td>1.3</td>\n",
       "      <td>6.14</td>\n",
       "      <td>6.14</td>\n",
       "      <td>1</td>\n",
       "    </tr>\n",
       "    <tr>\n",
       "      <th>4948</th>\n",
       "      <td>3515.01</td>\n",
       "      <td>3520.45</td>\n",
       "      <td>./data/timestamp_dataframes/2022-05-08_11h14m_...</td>\n",
       "      <td>20220508</td>\n",
       "      <td>1.3</td>\n",
       "      <td>5.44</td>\n",
       "      <td>5.44</td>\n",
       "      <td>1</td>\n",
       "    </tr>\n",
       "  </tbody>\n",
       "</table>\n",
       "<p>4949 rows × 8 columns</p>\n",
       "</div>"
      ],
      "text/plain": [
       "      current_tone_time  first_port_entry_after_tone  \\\n",
       "0                 60.01                        69.00   \n",
       "1                140.01                       148.27   \n",
       "2                230.01                       231.91   \n",
       "3                310.01                       320.97   \n",
       "4                385.01                       394.75   \n",
       "...                 ...                          ...   \n",
       "4944            3160.01                      3161.89   \n",
       "4945            3255.01                      3255.09   \n",
       "4946            3345.01                      3351.67   \n",
       "4947            3425.01                      3431.15   \n",
       "4948            3515.01                      3520.45   \n",
       "\n",
       "                                              file_path  date_key subject_key  \\\n",
       "0     ./data/timestamp_dataframes/2022-05-06_12h59m_...  20220506     3.4 (2)   \n",
       "1     ./data/timestamp_dataframes/2022-05-06_12h59m_...  20220506     3.4 (2)   \n",
       "2     ./data/timestamp_dataframes/2022-05-06_12h59m_...  20220506     3.4 (2)   \n",
       "3     ./data/timestamp_dataframes/2022-05-06_12h59m_...  20220506     3.4 (2)   \n",
       "4     ./data/timestamp_dataframes/2022-05-06_12h59m_...  20220506     3.4 (2)   \n",
       "...                                                 ...       ...         ...   \n",
       "4944  ./data/timestamp_dataframes/2022-05-08_11h14m_...  20220508         1.3   \n",
       "4945  ./data/timestamp_dataframes/2022-05-08_11h14m_...  20220508         1.3   \n",
       "4946  ./data/timestamp_dataframes/2022-05-08_11h14m_...  20220508         1.3   \n",
       "4947  ./data/timestamp_dataframes/2022-05-08_11h14m_...  20220508         1.3   \n",
       "4948  ./data/timestamp_dataframes/2022-05-08_11h14m_...  20220508         1.3   \n",
       "\n",
       "      latency  latency_adjusted  latency_less_than_10_seconds  \n",
       "0        8.99              8.99                             1  \n",
       "1        8.26              8.26                             1  \n",
       "2        1.90              1.90                             1  \n",
       "3       10.96             10.96                             0  \n",
       "4        9.74              9.74                             1  \n",
       "...       ...               ...                           ...  \n",
       "4944     1.88              1.88                             1  \n",
       "4945     0.08              0.08                             1  \n",
       "4946     6.66              6.66                             1  \n",
       "4947     6.14              6.14                             1  \n",
       "4948     5.44              5.44                             1  \n",
       "\n",
       "[4949 rows x 8 columns]"
      ]
     },
     "execution_count": 32,
     "metadata": {},
     "output_type": "execute_result"
    }
   ],
   "source": [
    "concatted_first_porty_entry_dataframe.reset_index(drop=\"True\")"
   ]
  },
  {
   "cell_type": "code",
   "execution_count": 24,
   "id": "3be4037a",
   "metadata": {},
   "outputs": [],
   "source": [
    "concatted_first_porty_entry_dataframe[\"latency\"] = concatted_first_porty_entry_dataframe[\"first_port_entry_after_tone\"] - concatted_first_porty_entry_dataframe[\"current_tone_time\"]"
   ]
  },
  {
   "cell_type": "code",
   "execution_count": 25,
   "id": "4ef6e00b",
   "metadata": {},
   "outputs": [],
   "source": [
    "concatted_first_porty_entry_dataframe[\"latency_adjusted\"] = concatted_first_porty_entry_dataframe[\"latency\"].apply(lambda x: 30 if x >= 30 else x)"
   ]
  },
  {
   "cell_type": "code",
   "execution_count": 26,
   "id": "e560c4f3",
   "metadata": {},
   "outputs": [
    {
     "data": {
      "text/html": [
       "<div>\n",
       "<style scoped>\n",
       "    .dataframe tbody tr th:only-of-type {\n",
       "        vertical-align: middle;\n",
       "    }\n",
       "\n",
       "    .dataframe tbody tr th {\n",
       "        vertical-align: top;\n",
       "    }\n",
       "\n",
       "    .dataframe thead th {\n",
       "        text-align: right;\n",
       "    }\n",
       "</style>\n",
       "<table border=\"1\" class=\"dataframe\">\n",
       "  <thead>\n",
       "    <tr style=\"text-align: right;\">\n",
       "      <th></th>\n",
       "      <th>current_tone_time</th>\n",
       "      <th>first_port_entry_after_tone</th>\n",
       "      <th>file_path</th>\n",
       "      <th>date_key</th>\n",
       "      <th>subject_key</th>\n",
       "      <th>latency</th>\n",
       "      <th>latency_adjusted</th>\n",
       "    </tr>\n",
       "  </thead>\n",
       "  <tbody>\n",
       "    <tr>\n",
       "      <th>8</th>\n",
       "      <td>750.01</td>\n",
       "      <td>777.83</td>\n",
       "      <td>./data/timestamp_dataframes/2022-05-06_12h59m_...</td>\n",
       "      <td>20220506</td>\n",
       "      <td>3.4 (2)</td>\n",
       "      <td>27.82</td>\n",
       "      <td>27.82</td>\n",
       "    </tr>\n",
       "    <tr>\n",
       "      <th>12</th>\n",
       "      <td>1150.01</td>\n",
       "      <td>1224.44</td>\n",
       "      <td>./data/timestamp_dataframes/2022-05-06_12h59m_...</td>\n",
       "      <td>20220506</td>\n",
       "      <td>3.4 (2)</td>\n",
       "      <td>74.43</td>\n",
       "      <td>30.00</td>\n",
       "    </tr>\n",
       "    <tr>\n",
       "      <th>23</th>\n",
       "      <td>2130.01</td>\n",
       "      <td>2192.23</td>\n",
       "      <td>./data/timestamp_dataframes/2022-05-06_12h59m_...</td>\n",
       "      <td>20220506</td>\n",
       "      <td>3.4 (2)</td>\n",
       "      <td>62.22</td>\n",
       "      <td>30.00</td>\n",
       "    </tr>\n",
       "    <tr>\n",
       "      <th>28</th>\n",
       "      <td>2585.01</td>\n",
       "      <td>2615.82</td>\n",
       "      <td>./data/timestamp_dataframes/2022-05-10_14h40m_...</td>\n",
       "      <td>20220510</td>\n",
       "      <td>4.3 (3)</td>\n",
       "      <td>30.81</td>\n",
       "      <td>30.00</td>\n",
       "    </tr>\n",
       "    <tr>\n",
       "      <th>10</th>\n",
       "      <td>940.01</td>\n",
       "      <td>982.59</td>\n",
       "      <td>./data/timestamp_dataframes/2022-05-06_12h59m_...</td>\n",
       "      <td>20220506</td>\n",
       "      <td>4.3 (3)</td>\n",
       "      <td>42.58</td>\n",
       "      <td>30.00</td>\n",
       "    </tr>\n",
       "    <tr>\n",
       "      <th>...</th>\n",
       "      <td>...</td>\n",
       "      <td>...</td>\n",
       "      <td>...</td>\n",
       "      <td>...</td>\n",
       "      <td>...</td>\n",
       "      <td>...</td>\n",
       "      <td>...</td>\n",
       "    </tr>\n",
       "    <tr>\n",
       "      <th>23</th>\n",
       "      <td>2130.01</td>\n",
       "      <td>2158.80</td>\n",
       "      <td>./data/timestamp_dataframes/2022-05-09_09h48m_...</td>\n",
       "      <td>20220509</td>\n",
       "      <td>1.1</td>\n",
       "      <td>28.79</td>\n",
       "      <td>28.79</td>\n",
       "    </tr>\n",
       "    <tr>\n",
       "      <th>3</th>\n",
       "      <td>310.01</td>\n",
       "      <td>351.06</td>\n",
       "      <td>./data/timestamp_dataframes/2022-05-08_11h14m_...</td>\n",
       "      <td>20220508</td>\n",
       "      <td>1.3</td>\n",
       "      <td>41.05</td>\n",
       "      <td>30.00</td>\n",
       "    </tr>\n",
       "    <tr>\n",
       "      <th>5</th>\n",
       "      <td>485.01</td>\n",
       "      <td>517.08</td>\n",
       "      <td>./data/timestamp_dataframes/2022-05-08_11h14m_...</td>\n",
       "      <td>20220508</td>\n",
       "      <td>1.3</td>\n",
       "      <td>32.07</td>\n",
       "      <td>30.00</td>\n",
       "    </tr>\n",
       "    <tr>\n",
       "      <th>12</th>\n",
       "      <td>1150.01</td>\n",
       "      <td>1182.36</td>\n",
       "      <td>./data/timestamp_dataframes/2022-05-08_11h14m_...</td>\n",
       "      <td>20220508</td>\n",
       "      <td>1.3</td>\n",
       "      <td>32.35</td>\n",
       "      <td>30.00</td>\n",
       "    </tr>\n",
       "    <tr>\n",
       "      <th>18</th>\n",
       "      <td>1710.01</td>\n",
       "      <td>1749.51</td>\n",
       "      <td>./data/timestamp_dataframes/2022-05-08_11h14m_...</td>\n",
       "      <td>20220508</td>\n",
       "      <td>1.3</td>\n",
       "      <td>39.50</td>\n",
       "      <td>30.00</td>\n",
       "    </tr>\n",
       "  </tbody>\n",
       "</table>\n",
       "<p>628 rows × 7 columns</p>\n",
       "</div>"
      ],
      "text/plain": [
       "    current_tone_time  first_port_entry_after_tone  \\\n",
       "8              750.01                       777.83   \n",
       "12            1150.01                      1224.44   \n",
       "23            2130.01                      2192.23   \n",
       "28            2585.01                      2615.82   \n",
       "10             940.01                       982.59   \n",
       "..                ...                          ...   \n",
       "23            2130.01                      2158.80   \n",
       "3              310.01                       351.06   \n",
       "5              485.01                       517.08   \n",
       "12            1150.01                      1182.36   \n",
       "18            1710.01                      1749.51   \n",
       "\n",
       "                                            file_path  date_key subject_key  \\\n",
       "8   ./data/timestamp_dataframes/2022-05-06_12h59m_...  20220506     3.4 (2)   \n",
       "12  ./data/timestamp_dataframes/2022-05-06_12h59m_...  20220506     3.4 (2)   \n",
       "23  ./data/timestamp_dataframes/2022-05-06_12h59m_...  20220506     3.4 (2)   \n",
       "28  ./data/timestamp_dataframes/2022-05-10_14h40m_...  20220510     4.3 (3)   \n",
       "10  ./data/timestamp_dataframes/2022-05-06_12h59m_...  20220506     4.3 (3)   \n",
       "..                                                ...       ...         ...   \n",
       "23  ./data/timestamp_dataframes/2022-05-09_09h48m_...  20220509         1.1   \n",
       "3   ./data/timestamp_dataframes/2022-05-08_11h14m_...  20220508         1.3   \n",
       "5   ./data/timestamp_dataframes/2022-05-08_11h14m_...  20220508         1.3   \n",
       "12  ./data/timestamp_dataframes/2022-05-08_11h14m_...  20220508         1.3   \n",
       "18  ./data/timestamp_dataframes/2022-05-08_11h14m_...  20220508         1.3   \n",
       "\n",
       "    latency  latency_adjusted  \n",
       "8     27.82             27.82  \n",
       "12    74.43             30.00  \n",
       "23    62.22             30.00  \n",
       "28    30.81             30.00  \n",
       "10    42.58             30.00  \n",
       "..      ...               ...  \n",
       "23    28.79             28.79  \n",
       "3     41.05             30.00  \n",
       "5     32.07             30.00  \n",
       "12    32.35             30.00  \n",
       "18    39.50             30.00  \n",
       "\n",
       "[628 rows x 7 columns]"
      ]
     },
     "execution_count": 26,
     "metadata": {},
     "output_type": "execute_result"
    }
   ],
   "source": [
    "concatted_first_porty_entry_dataframe[concatted_first_porty_entry_dataframe[\"latency\"] >= 25]"
   ]
  },
  {
   "cell_type": "code",
   "execution_count": 27,
   "id": "d292bc30",
   "metadata": {},
   "outputs": [],
   "source": [
    "concatted_first_porty_entry_dataframe[\"latency_less_than_10_seconds\"] = concatted_first_porty_entry_dataframe[\"latency\"].apply(lambda x: 1 if x <= 10 else 0)"
   ]
  },
  {
   "cell_type": "code",
   "execution_count": 30,
   "id": "04c9dff7",
   "metadata": {},
   "outputs": [
    {
     "data": {
      "text/html": [
       "<div>\n",
       "<style scoped>\n",
       "    .dataframe tbody tr th:only-of-type {\n",
       "        vertical-align: middle;\n",
       "    }\n",
       "\n",
       "    .dataframe tbody tr th {\n",
       "        vertical-align: top;\n",
       "    }\n",
       "\n",
       "    .dataframe thead th {\n",
       "        text-align: right;\n",
       "    }\n",
       "</style>\n",
       "<table border=\"1\" class=\"dataframe\">\n",
       "  <thead>\n",
       "    <tr style=\"text-align: right;\">\n",
       "      <th></th>\n",
       "      <th>current_tone_time</th>\n",
       "      <th>first_port_entry_after_tone</th>\n",
       "      <th>file_path</th>\n",
       "      <th>date_key</th>\n",
       "      <th>subject_key</th>\n",
       "      <th>latency</th>\n",
       "      <th>latency_adjusted</th>\n",
       "      <th>latency_less_than_10_seconds</th>\n",
       "    </tr>\n",
       "  </thead>\n",
       "  <tbody>\n",
       "    <tr>\n",
       "      <th>12</th>\n",
       "      <td>1150.01</td>\n",
       "      <td>1224.44</td>\n",
       "      <td>./data/timestamp_dataframes/2022-05-06_12h59m_...</td>\n",
       "      <td>20220506</td>\n",
       "      <td>3.4 (2)</td>\n",
       "      <td>74.43</td>\n",
       "      <td>30.0</td>\n",
       "      <td>0</td>\n",
       "    </tr>\n",
       "    <tr>\n",
       "      <th>23</th>\n",
       "      <td>2130.01</td>\n",
       "      <td>2192.23</td>\n",
       "      <td>./data/timestamp_dataframes/2022-05-06_12h59m_...</td>\n",
       "      <td>20220506</td>\n",
       "      <td>3.4 (2)</td>\n",
       "      <td>62.22</td>\n",
       "      <td>30.0</td>\n",
       "      <td>0</td>\n",
       "    </tr>\n",
       "    <tr>\n",
       "      <th>28</th>\n",
       "      <td>2585.01</td>\n",
       "      <td>2615.82</td>\n",
       "      <td>./data/timestamp_dataframes/2022-05-10_14h40m_...</td>\n",
       "      <td>20220510</td>\n",
       "      <td>4.3 (3)</td>\n",
       "      <td>30.81</td>\n",
       "      <td>30.0</td>\n",
       "      <td>0</td>\n",
       "    </tr>\n",
       "    <tr>\n",
       "      <th>10</th>\n",
       "      <td>940.01</td>\n",
       "      <td>982.59</td>\n",
       "      <td>./data/timestamp_dataframes/2022-05-06_12h59m_...</td>\n",
       "      <td>20220506</td>\n",
       "      <td>4.3 (3)</td>\n",
       "      <td>42.58</td>\n",
       "      <td>30.0</td>\n",
       "      <td>0</td>\n",
       "    </tr>\n",
       "    <tr>\n",
       "      <th>32</th>\n",
       "      <td>2985.01</td>\n",
       "      <td>3023.64</td>\n",
       "      <td>./data/timestamp_dataframes/2022-05-06_12h59m_...</td>\n",
       "      <td>20220506</td>\n",
       "      <td>4.3 (3)</td>\n",
       "      <td>38.63</td>\n",
       "      <td>30.0</td>\n",
       "      <td>0</td>\n",
       "    </tr>\n",
       "    <tr>\n",
       "      <th>...</th>\n",
       "      <td>...</td>\n",
       "      <td>...</td>\n",
       "      <td>...</td>\n",
       "      <td>...</td>\n",
       "      <td>...</td>\n",
       "      <td>...</td>\n",
       "      <td>...</td>\n",
       "      <td>...</td>\n",
       "    </tr>\n",
       "    <tr>\n",
       "      <th>35</th>\n",
       "      <td>3255.01</td>\n",
       "      <td>3306.80</td>\n",
       "      <td>./data/timestamp_dataframes/2022-05-07_13h54m_...</td>\n",
       "      <td>20220507</td>\n",
       "      <td>4.3 (3)</td>\n",
       "      <td>51.79</td>\n",
       "      <td>30.0</td>\n",
       "      <td>0</td>\n",
       "    </tr>\n",
       "    <tr>\n",
       "      <th>3</th>\n",
       "      <td>310.01</td>\n",
       "      <td>351.06</td>\n",
       "      <td>./data/timestamp_dataframes/2022-05-08_11h14m_...</td>\n",
       "      <td>20220508</td>\n",
       "      <td>1.3</td>\n",
       "      <td>41.05</td>\n",
       "      <td>30.0</td>\n",
       "      <td>0</td>\n",
       "    </tr>\n",
       "    <tr>\n",
       "      <th>5</th>\n",
       "      <td>485.01</td>\n",
       "      <td>517.08</td>\n",
       "      <td>./data/timestamp_dataframes/2022-05-08_11h14m_...</td>\n",
       "      <td>20220508</td>\n",
       "      <td>1.3</td>\n",
       "      <td>32.07</td>\n",
       "      <td>30.0</td>\n",
       "      <td>0</td>\n",
       "    </tr>\n",
       "    <tr>\n",
       "      <th>12</th>\n",
       "      <td>1150.01</td>\n",
       "      <td>1182.36</td>\n",
       "      <td>./data/timestamp_dataframes/2022-05-08_11h14m_...</td>\n",
       "      <td>20220508</td>\n",
       "      <td>1.3</td>\n",
       "      <td>32.35</td>\n",
       "      <td>30.0</td>\n",
       "      <td>0</td>\n",
       "    </tr>\n",
       "    <tr>\n",
       "      <th>18</th>\n",
       "      <td>1710.01</td>\n",
       "      <td>1749.51</td>\n",
       "      <td>./data/timestamp_dataframes/2022-05-08_11h14m_...</td>\n",
       "      <td>20220508</td>\n",
       "      <td>1.3</td>\n",
       "      <td>39.50</td>\n",
       "      <td>30.0</td>\n",
       "      <td>0</td>\n",
       "    </tr>\n",
       "  </tbody>\n",
       "</table>\n",
       "<p>493 rows × 8 columns</p>\n",
       "</div>"
      ],
      "text/plain": [
       "    current_tone_time  first_port_entry_after_tone  \\\n",
       "12            1150.01                      1224.44   \n",
       "23            2130.01                      2192.23   \n",
       "28            2585.01                      2615.82   \n",
       "10             940.01                       982.59   \n",
       "32            2985.01                      3023.64   \n",
       "..                ...                          ...   \n",
       "35            3255.01                      3306.80   \n",
       "3              310.01                       351.06   \n",
       "5              485.01                       517.08   \n",
       "12            1150.01                      1182.36   \n",
       "18            1710.01                      1749.51   \n",
       "\n",
       "                                            file_path  date_key subject_key  \\\n",
       "12  ./data/timestamp_dataframes/2022-05-06_12h59m_...  20220506     3.4 (2)   \n",
       "23  ./data/timestamp_dataframes/2022-05-06_12h59m_...  20220506     3.4 (2)   \n",
       "28  ./data/timestamp_dataframes/2022-05-10_14h40m_...  20220510     4.3 (3)   \n",
       "10  ./data/timestamp_dataframes/2022-05-06_12h59m_...  20220506     4.3 (3)   \n",
       "32  ./data/timestamp_dataframes/2022-05-06_12h59m_...  20220506     4.3 (3)   \n",
       "..                                                ...       ...         ...   \n",
       "35  ./data/timestamp_dataframes/2022-05-07_13h54m_...  20220507     4.3 (3)   \n",
       "3   ./data/timestamp_dataframes/2022-05-08_11h14m_...  20220508         1.3   \n",
       "5   ./data/timestamp_dataframes/2022-05-08_11h14m_...  20220508         1.3   \n",
       "12  ./data/timestamp_dataframes/2022-05-08_11h14m_...  20220508         1.3   \n",
       "18  ./data/timestamp_dataframes/2022-05-08_11h14m_...  20220508         1.3   \n",
       "\n",
       "    latency  latency_adjusted  latency_less_than_10_seconds  \n",
       "12    74.43              30.0                             0  \n",
       "23    62.22              30.0                             0  \n",
       "28    30.81              30.0                             0  \n",
       "10    42.58              30.0                             0  \n",
       "32    38.63              30.0                             0  \n",
       "..      ...               ...                           ...  \n",
       "35    51.79              30.0                             0  \n",
       "3     41.05              30.0                             0  \n",
       "5     32.07              30.0                             0  \n",
       "12    32.35              30.0                             0  \n",
       "18    39.50              30.0                             0  \n",
       "\n",
       "[493 rows x 8 columns]"
      ]
     },
     "execution_count": 30,
     "metadata": {},
     "output_type": "execute_result"
    }
   ],
   "source": [
    "concatted_first_porty_entry_dataframe[concatted_first_porty_entry_dataframe[\"latency\"] >= 30]"
   ]
  },
  {
   "cell_type": "code",
   "execution_count": null,
   "id": "63275eb4",
   "metadata": {},
   "outputs": [],
   "source": []
  },
  {
   "cell_type": "code",
   "execution_count": null,
   "id": "22a96867",
   "metadata": {},
   "outputs": [],
   "source": [
    "combined_latency_df.to_csv(\"./data/latency_dataframes/all_latencies.csv\")\n",
    "combined_latency_df.to_excel(\"./data/latency_dataframes/all_latencies.xlsx\")\n"
   ]
  },
  {
   "cell_type": "code",
   "execution_count": null,
   "id": "f3eac0f1",
   "metadata": {},
   "outputs": [],
   "source": [
    "metadata_df[\"Group\"]"
   ]
  },
  {
   "cell_type": "code",
   "execution_count": null,
   "id": "95905fe2",
   "metadata": {},
   "outputs": [],
   "source": [
    "metadata_df[\"Group_processed\"] = metadata_df[\"Group\"].apply(lambda x: x.strip(\"Cage\").strip())"
   ]
  },
  {
   "cell_type": "code",
   "execution_count": null,
   "id": "bf34f9f5",
   "metadata": {},
   "outputs": [],
   "source": [
    "subject_to_cage_dict = dict(zip(metadata_df[\"Subject\"], metadata_df[\"Group_processed\"]))"
   ]
  },
  {
   "cell_type": "code",
   "execution_count": null,
   "id": "325d84f9",
   "metadata": {},
   "outputs": [],
   "source": [
    "subject_to_cage_dict"
   ]
  },
  {
   "cell_type": "code",
   "execution_count": null,
   "id": "ac6f1d09",
   "metadata": {},
   "outputs": [],
   "source": [
    "grouped_averaged_latency_df = combined_latency_df.groupby([\"subject_key\", \"date_key\"]).mean()"
   ]
  },
  {
   "cell_type": "code",
   "execution_count": null,
   "id": "bea94749",
   "metadata": {},
   "outputs": [],
   "source": [
    "grouped_averaged_latency_df = grouped_averaged_latency_df.reset_index()"
   ]
  },
  {
   "cell_type": "code",
   "execution_count": null,
   "id": "113617c5",
   "metadata": {},
   "outputs": [],
   "source": [
    "grouped_averaged_latency_df[\"cage\"] = grouped_averaged_latency_df[\"subject_key\"].map(subject_to_cage_dict)"
   ]
  },
  {
   "cell_type": "code",
   "execution_count": null,
   "id": "0d3d148b",
   "metadata": {},
   "outputs": [],
   "source": [
    "grouped_averaged_latency_df[\"date_int\"] = grouped_averaged_latency_df[\"date_key\"].astype(int)"
   ]
  },
  {
   "cell_type": "code",
   "execution_count": null,
   "id": "7f69b8c7",
   "metadata": {
    "scrolled": true
   },
   "outputs": [],
   "source": [
    "grouped_averaged_latency_df"
   ]
  },
  {
   "cell_type": "code",
   "execution_count": null,
   "id": "60fd5e16",
   "metadata": {
    "scrolled": true
   },
   "outputs": [],
   "source": [
    "for cage in grouped_averaged_latency_df[\"cage\"].unique():\n",
    "    fig, ax = plt.subplots()\n",
    "\n",
    "    cage_df = grouped_averaged_latency_df[grouped_averaged_latency_df[\"cage\"] == cage]\n",
    "    for subject in cage_df[\"subject_key\"].unique():\n",
    "        subject_df = cage_df[cage_df[\"subject_key\"] == subject]\n",
    "        \n",
    "        \n",
    "        \n",
    "        ax.plot(subject_df[\"date_int\"] - subject_df[\"date_int\"].min() + 1, subject_df[\"latency_adjusted\"], '-o', label=subject)\n",
    "    \n",
    "    ax.set_xlabel(\"The Days After the First Session\")\n",
    "    ax.set_ylabel(\"Adjusted Average Latency of First Entry to Tone Onset\")\n",
    "    ax.set_title(\"Latency of Port Entry to Tone: Cage {}\".format(cage))\n",
    "\n",
    "    ax.set_ylim(0, 30)\n",
    "    ax.legend()\n",
    "    plt.savefig(\"./data/plots/average_latency_plots/average_port_entry_latency_cage_{}_date_20220503_20220510.png\".format(cage))\n",
    "    "
   ]
  },
  {
   "cell_type": "code",
   "execution_count": null,
   "id": "c7d71202",
   "metadata": {},
   "outputs": [],
   "source": [
    "for cage in grouped_averaged_latency_df[\"cage\"].unique():\n",
    "    fig, ax = plt.subplots()\n",
    "\n",
    "    cage_df = grouped_averaged_latency_df[grouped_averaged_latency_df[\"cage\"] == cage]\n",
    "    for subject in cage_df[\"subject_key\"].unique():\n",
    "        subject_df = cage_df[cage_df[\"subject_key\"] == subject]\n",
    "        \n",
    "        \n",
    "        \n",
    "        ax.plot(subject_df[\"date_int\"] - subject_df[\"date_int\"].min() + 1, subject_df[\"latency_less_than_10_seconds\"], '-o', label=subject)\n",
    "    \n",
    "    ax.set_xlabel(\"The Days After the First Session\")\n",
    "    ax.set_ylabel(\"Proportion of Latencies\")\n",
    "    ax.set_title(\"Less Than 10 Seconds Latencies from Tone Onset: Cage {}\".format(cage))\n",
    "\n",
    "    ax.set_ylim(0, 1)\n",
    "    ax.legend()\n",
    "    plt.savefig(\"./data/plots/proportion_of_latencies_less_than_10_seconds/less_than_10_seconds_latency_proportion_cage_{}_date_20220503_20220510.png\".format(cage))\n",
    "    "
   ]
  },
  {
   "cell_type": "code",
   "execution_count": null,
   "id": "f4d1dfdb",
   "metadata": {},
   "outputs": [],
   "source": []
  },
  {
   "cell_type": "code",
   "execution_count": null,
   "id": "c743d8e0",
   "metadata": {},
   "outputs": [],
   "source": []
  },
  {
   "cell_type": "code",
   "execution_count": null,
   "id": "e0ef47fd",
   "metadata": {},
   "outputs": [],
   "source": []
  },
  {
   "cell_type": "code",
   "execution_count": null,
   "id": "d684a273",
   "metadata": {},
   "outputs": [],
   "source": []
  },
  {
   "cell_type": "code",
   "execution_count": null,
   "id": "5faf04fa",
   "metadata": {},
   "outputs": [],
   "source": [
    "grouped_averaged_latency_df.merge(metadata_df, left_on=\"subject_key\", right_on='Subject')"
   ]
  },
  {
   "cell_type": "code",
   "execution_count": null,
   "id": "3e900edb",
   "metadata": {},
   "outputs": [],
   "source": [
    "metadata_df[\"Subject\"]"
   ]
  },
  {
   "cell_type": "code",
   "execution_count": null,
   "id": "0f7c235b",
   "metadata": {},
   "outputs": [],
   "source": [
    "latency_pivot_plot = combined_latency_df.pivot_table(\n",
    "        values='latency_adjusted', \n",
    "        index=['subject_key'], \n",
    "        columns='date_key', \n",
    "        aggfunc=np.mean)"
   ]
  },
  {
   "cell_type": "code",
   "execution_count": null,
   "id": "ae06ea26",
   "metadata": {},
   "outputs": [],
   "source": [
    "latency_pivot_plot"
   ]
  },
  {
   "cell_type": "code",
   "execution_count": null,
   "id": "b07568a3",
   "metadata": {},
   "outputs": [],
   "source": [
    "latency_pivot_plot.to_csv(\"./data/latency_dataframes/adjusted_latency_pivot_table.csv\")\n",
    "latency_pivot_plot.to_excel(\"./data/latency_dataframes/adjusted_latency_pivot_table.xlsx\")"
   ]
  },
  {
   "cell_type": "code",
   "execution_count": null,
   "id": "27f4b760",
   "metadata": {},
   "outputs": [],
   "source": [
    "latency_pivot_plot.plot(y=[\"20220503\", \"20220504\", \"20220505\", \"20220506\"], kind=\"bar\", ylabel=\"Latency\", xlabel=\"Subjects\", title=\"Adjusted Latency to Port from Tone Onset\")"
   ]
  },
  {
   "cell_type": "code",
   "execution_count": null,
   "id": "94ef0f91",
   "metadata": {},
   "outputs": [],
   "source": [
    "less_than_10_latency_pivot_plot = combined_latency_df.pivot_table(\n",
    "        values='latency_less_than_10_seconds', \n",
    "        index=['subject_key'], \n",
    "        columns='date_key', \n",
    "        aggfunc=np.mean)"
   ]
  },
  {
   "cell_type": "code",
   "execution_count": null,
   "id": "bca24a52",
   "metadata": {},
   "outputs": [],
   "source": [
    "less_than_10_latency_pivot_plot"
   ]
  },
  {
   "cell_type": "code",
   "execution_count": null,
   "id": "2b149ba9",
   "metadata": {},
   "outputs": [],
   "source": [
    "less_than_10_latency_pivot_plot.to_csv(\"./data/latency_dataframes/less_than_10_latency_pivot_table.csv\")\n",
    "less_than_10_latency_pivot_plot.to_excel(\"./data/latency_dataframes/less_than_10_latency_pivot_table.xlsx\")"
   ]
  },
  {
   "cell_type": "code",
   "execution_count": null,
   "id": "d7880494",
   "metadata": {
    "scrolled": true
   },
   "outputs": [],
   "source": [
    "less_than_10_latency_pivot_plot.plot(y=[\"20220503\", \"20220504\", \"20220505\", \"20220506\", \"20220507\", \"20220508\", \"20220510\"], kind=\"bar\", ylabel=\"Ratio of Latencies less than 10 Seconds\", xlabel=\"Subjects\", title=\"Ratio of Latencies Less than 10 Seconds Over Time\")"
   ]
  },
  {
   "cell_type": "markdown",
   "id": "d83b443d",
   "metadata": {},
   "source": [
    "# Combining the Plots"
   ]
  },
  {
   "cell_type": "code",
   "execution_count": null,
   "id": "c117b344",
   "metadata": {},
   "outputs": [],
   "source": [
    "latency_and_metadata_df = latency_pivot_plot.join(other=metadata_df.set_index(\"Subject\"))"
   ]
  },
  {
   "cell_type": "code",
   "execution_count": null,
   "id": "11cc3e7f",
   "metadata": {},
   "outputs": [],
   "source": [
    "latency_and_metadata_df[\"Group\"].unique()"
   ]
  },
  {
   "cell_type": "code",
   "execution_count": null,
   "id": "2fabd733",
   "metadata": {},
   "outputs": [],
   "source": [
    "latency_and_metadata_df[\"Group_processed\"] = latency_and_metadata_df[\"Group\"].apply(lambda x: x.strip(\"Cage\").strip())"
   ]
  },
  {
   "cell_type": "code",
   "execution_count": null,
   "id": "37265fab",
   "metadata": {},
   "outputs": [],
   "source": [
    "latency_and_metadata_df"
   ]
  },
  {
   "cell_type": "code",
   "execution_count": null,
   "id": "c4bd0126",
   "metadata": {},
   "outputs": [],
   "source": [
    "for group in latency_and_metadata_df[\"Group_processed\"].unique():\n",
    "    print(latency_and_metadata_df[latency_and_metadata_df[\"Group_processed\"] == group])\n",
    "    break"
   ]
  },
  {
   "cell_type": "code",
   "execution_count": null,
   "id": "d2d63a52",
   "metadata": {},
   "outputs": [],
   "source": [
    "latency_pivot_plot_resetted_index = latency_pivot_plot.reset_index()"
   ]
  },
  {
   "cell_type": "code",
   "execution_count": null,
   "id": "09d5b249",
   "metadata": {},
   "outputs": [],
   "source": [
    "metadata_df"
   ]
  },
  {
   "cell_type": "markdown",
   "id": "29cb4a79",
   "metadata": {},
   "source": [
    "# Getting the port entry precision"
   ]
  },
  {
   "cell_type": "markdown",
   "id": "911d6611",
   "metadata": {},
   "source": [
    "## 1. Get all the numbers that are within the duration"
   ]
  },
  {
   "cell_type": "markdown",
   "id": "972050a8",
   "metadata": {},
   "source": [
    "### 1.1 Processing the Dataframe to remove all rows with NaNs"
   ]
  },
  {
   "cell_type": "code",
   "execution_count": null,
   "id": "ad70165e",
   "metadata": {},
   "outputs": [],
   "source": [
    "example_med_pc_df = file_path_to_med_pc_data[\"./data/timestamp_dataframes/2022-05-03_14h49m_Subject 3.2 (2).txt\"][\"med_pc_df\"]\n",
    "example_med_pc_df = example_med_pc_df.dropna(subset=(\"(P)Portentry\", \"(N)Portexit\"))"
   ]
  },
  {
   "cell_type": "code",
   "execution_count": null,
   "id": "ae253548",
   "metadata": {},
   "outputs": [],
   "source": [
    "example_med_pc_df"
   ]
  },
  {
   "cell_type": "markdown",
   "id": "439772a2",
   "metadata": {},
   "source": [
    "### 1.2 Making All the Times Into Whole Numbers"
   ]
  },
  {
   "cell_type": "code",
   "execution_count": null,
   "id": "fcec3639",
   "metadata": {},
   "outputs": [],
   "source": [
    "def scale_time_to_whole_number(time, multiplier=100):\n",
    "    \"\"\"\n",
    "    Function used to convert times that are floats into whole numbers by scaling it. i.e. from 71.36 to 7136\n",
    "    This is used with pandas.DataFrame.apply/pandas.Series.apply to convert a column of float times to integer times.\n",
    "\n",
    "    Args:\n",
    "        time: float\n",
    "            - The time in seconds that something is happening\n",
    "    Returns: \n",
    "        int:\n",
    "            - Converted whole number time\n",
    "    \"\"\"\n",
    "    try:\n",
    "        if np.isnan(time):\n",
    "            return 0\n",
    "        else:\n",
    "            return int(time * multiplier)\n",
    "    except:\n",
    "        return 0"
   ]
  },
  {
   "cell_type": "code",
   "execution_count": null,
   "id": "3bd7bbb5",
   "metadata": {},
   "outputs": [],
   "source": [
    "example_med_pc_df[\"port_entry_scaled\"] = example_med_pc_df[\"(P)Portentry\"].apply(lambda x: scale_time_to_whole_number(x))\n",
    "example_med_pc_df[\"port_exit_scaled\"] = example_med_pc_df[\"(N)Portexit\"].apply(lambda x: scale_time_to_whole_number(x))\n",
    "example_med_pc_df[\"tone_start_scaled\"] = example_med_pc_df[\"(S)CSpresentation\"].apply(lambda x: scale_time_to_whole_number(x))"
   ]
  },
  {
   "cell_type": "code",
   "execution_count": null,
   "id": "472775d3",
   "metadata": {
    "scrolled": true
   },
   "outputs": [],
   "source": [
    "example_med_pc_df.head(n=25)"
   ]
  },
  {
   "cell_type": "code",
   "execution_count": null,
   "id": "a3c4fcce",
   "metadata": {},
   "outputs": [],
   "source": [
    "def get_all_port_entry_increments(port_entry_scaled, port_exit_scaled):\n",
    "    \"\"\"\n",
    "    Gets all the numbers that are in the duration of the port entry and port exit times. \n",
    "    i.e. If the port entry was 7136 and port exit was 7142, we'd get [7136, 7137, 7138, 7139, 7140, 7141, 7142]\n",
    "    This is done for all port entry and port exit times pairs between two Pandas Series\n",
    "\n",
    "    Args:\n",
    "        port_entry_scaled: Pandas Series\n",
    "            - A column from a MED-PC Dataframe that has all the port entry times scaled\n",
    "            (usually with the scale_time_to_whole_number function)\n",
    "        port_exit_scaled: Pandas Series\n",
    "            - A column from a MED-PC Dataframe that has all the port exit times scaled\n",
    "            (usually with the scale_time_to_whole_number function)\n",
    "    Returns: \n",
    "        Numpy array:\n",
    "            - 1D Numpy Array of all the numbers that are in the duration of all the port entry and port exit times\n",
    "    \"\"\"\n",
    "    all_port_entry_ranges = [np.arange(port_entry, port_exit+1) for port_entry, port_exit in zip(port_entry_scaled, port_exit_scaled)]\n",
    "    return np.concatenate(all_port_entry_ranges)"
   ]
  },
  {
   "cell_type": "code",
   "execution_count": null,
   "id": "515d4ece",
   "metadata": {},
   "outputs": [],
   "source": [
    "example_port_entry_times = get_all_port_entry_increments(port_entry_scaled=example_med_pc_df[\"port_entry_scaled\"], port_exit_scaled=example_med_pc_df[\"port_exit_scaled\"])"
   ]
  },
  {
   "cell_type": "code",
   "execution_count": null,
   "id": "327e2b39",
   "metadata": {},
   "outputs": [],
   "source": [
    "example_port_entry_times[:10]"
   ]
  },
  {
   "cell_type": "markdown",
   "id": "8cb4441b",
   "metadata": {},
   "source": [
    "## 2. Make a set and see which numbers are in that set"
   ]
  },
  {
   "cell_type": "markdown",
   "id": "646250c8",
   "metadata": {},
   "source": [
    "### 2.1 Getting all the numbers from 0 to the time of the last tone plus 2000(or 20 seconds)"
   ]
  },
  {
   "cell_type": "code",
   "execution_count": null,
   "id": "135116c2",
   "metadata": {},
   "outputs": [],
   "source": [
    "example_valid_tone_times = processing.tone.get_valid_tones(tone_pd_series=example_med_pc_df[\"tone_start_scaled\"]).astype(int)"
   ]
  },
  {
   "cell_type": "code",
   "execution_count": null,
   "id": "ba29dafa",
   "metadata": {},
   "outputs": [],
   "source": [
    "# Using the last tone and adding 2000(or 20 seconds to it)\n",
    "example_experiment_interval = np.arange(example_valid_tone_times.max() + 2001)"
   ]
  },
  {
   "cell_type": "code",
   "execution_count": null,
   "id": "b788df6d",
   "metadata": {},
   "outputs": [],
   "source": [
    "example_experiment_interval"
   ]
  },
  {
   "cell_type": "markdown",
   "id": "4f06ac2c",
   "metadata": {},
   "source": [
    "### 2.2 Getting a mask of all the numbers that are within a port entry and port exit time"
   ]
  },
  {
   "cell_type": "code",
   "execution_count": null,
   "id": "39cf3852",
   "metadata": {},
   "outputs": [],
   "source": [
    "example_port_entry_mask = np.isin(example_experiment_interval, example_port_entry_times)"
   ]
  },
  {
   "cell_type": "code",
   "execution_count": null,
   "id": "fe537698",
   "metadata": {},
   "outputs": [],
   "source": [
    "example_port_entry_mask"
   ]
  },
  {
   "cell_type": "code",
   "execution_count": null,
   "id": "3a2c5a17",
   "metadata": {
    "scrolled": true
   },
   "outputs": [],
   "source": [
    "example_experiment_interval[np.isin(example_experiment_interval, example_port_entry_times)]"
   ]
  },
  {
   "cell_type": "markdown",
   "id": "5a1ae561",
   "metadata": {},
   "source": [
    "### 2.3 Or just using a function to do all of this for us"
   ]
  },
  {
   "cell_type": "code",
   "execution_count": null,
   "id": "1ac4c3a5",
   "metadata": {},
   "outputs": [],
   "source": [
    "def get_inside_port_mask(max_time, inside_port_numbers):\n",
    "    \"\"\"\n",
    "    Gets a mask of all the times that the subject is inside the port. \n",
    "    First a range of number from 1 to the number for the max time is created.\n",
    "    Then, a mask is created by seeing which numbers are within the inside port duration\n",
    "\n",
    "    Args:\n",
    "        max_time: int\n",
    "            - The number that represents the largest number for the time. \n",
    "                - Usually this will be the number for the last tone played.  \n",
    "            - We recommend adding 2001 if you are just using the number for the last tone played\n",
    "                - This is because we are looking 20 seconds before and after. \n",
    "                - And 20 seconds becomes 2000 when scaled with our method.\n",
    "        inside_port_numbers: Numpy Array\n",
    "            - All the increments of of the duration that the subject is within the port\n",
    "    Returns: \n",
    "        session_time_increments: Numpy Array\n",
    "            - Range of number from 1 to max time \n",
    "        inside_port_mask: Numpy Array\n",
    "            - The mask of True or False if the subject is in the port during the time of that index\n",
    "    \"\"\"\n",
    "    session_time_increments = np.arange(1, max_time+1)\n",
    "    inside_port_mask = np.isin(session_time_increments, inside_port_numbers)\n",
    "    return session_time_increments, inside_port_mask"
   ]
  },
  {
   "cell_type": "code",
   "execution_count": null,
   "id": "eb62f59c",
   "metadata": {},
   "outputs": [],
   "source": [
    "max_time = example_valid_tone_times.max() + 2001"
   ]
  },
  {
   "cell_type": "code",
   "execution_count": null,
   "id": "9c482924",
   "metadata": {},
   "outputs": [],
   "source": [
    "example_experiment_interval, example_port_entry_mask = get_inside_port_mask(max_time=max_time, inside_port_numbers=example_port_entry_times)"
   ]
  },
  {
   "cell_type": "code",
   "execution_count": null,
   "id": "35fa4314",
   "metadata": {},
   "outputs": [],
   "source": [
    "example_port_entry_mask"
   ]
  },
  {
   "cell_type": "code",
   "execution_count": null,
   "id": "4b405794",
   "metadata": {},
   "outputs": [],
   "source": [
    "example_experiment_interval[example_port_entry_mask]"
   ]
  },
  {
   "cell_type": "markdown",
   "id": "f11d9b95",
   "metadata": {},
   "source": [
    "## 3. Find the Overlap between the Tone Times and the Port Entries"
   ]
  },
  {
   "cell_type": "markdown",
   "id": "334864c3",
   "metadata": {},
   "source": [
    "### 3.1 Calculating the probability that the subject is in the port for each time increment between sessions"
   ]
  },
  {
   "cell_type": "code",
   "execution_count": null,
   "id": "44a004b9",
   "metadata": {},
   "outputs": [],
   "source": [
    "tone_time_to_mask = defaultdict(dict)\n",
    "example_all_tone_time_masks = []\n",
    "for index, tone_start in example_valid_tone_times.iteritems():\n",
    "    tone_start_int = int(tone_start)\n",
    "#     print(tone_start_int)\n",
    "#     print(example_port_entry_mask[tone_start_int - 2000: tone_start_int + 2000])  \n",
    "    example_all_tone_time_masks.append(example_port_entry_mask[tone_start_int - 2000: tone_start_int + 2000])\n",
    "    tone_time_to_mask[tone_start_int] = example_port_entry_mask[tone_start_int - 2000: tone_start_int + 2000]\n",
    "np.stack(example_all_tone_time_masks)"
   ]
  },
  {
   "cell_type": "code",
   "execution_count": null,
   "id": "43600853",
   "metadata": {},
   "outputs": [],
   "source": [
    "tone_time_to_mask"
   ]
  },
  {
   "cell_type": "code",
   "execution_count": null,
   "id": "f5b60135",
   "metadata": {},
   "outputs": [],
   "source": [
    "stacked_example_all_tone_time_masks = np.stack(example_all_tone_time_masks)"
   ]
  },
  {
   "cell_type": "code",
   "execution_count": null,
   "id": "0a07d8df",
   "metadata": {},
   "outputs": [],
   "source": [
    "mean_example_all_tone_time_masks = stacked_example_all_tone_time_masks.mean(axis=0)"
   ]
  },
  {
   "cell_type": "code",
   "execution_count": null,
   "id": "cbf4422e",
   "metadata": {},
   "outputs": [],
   "source": [
    "mean_example_all_tone_time_masks"
   ]
  },
  {
   "cell_type": "markdown",
   "id": "4d293756",
   "metadata": {},
   "source": [
    "### 3.2 Doing it with a function"
   ]
  },
  {
   "cell_type": "code",
   "execution_count": null,
   "id": "b0d8deff",
   "metadata": {},
   "outputs": [],
   "source": [
    "def get_inside_port_probability_averages_for_all_increments(tone_times, inside_port_mask, before_tone_duration=2000, after_tone_duration=2000):\n",
    "    \"\"\"\n",
    "    Calculates the average probability that a subject is in the port between sessions. \n",
    "    This is calculated by seeing the ratio that a subject is in the port at a given time increment \n",
    "    that's the same time difference to the tone with all the other sessions. \n",
    "    i.e. The time increment of 10.01 seconds after the tone for all sessions.\n",
    "    \n",
    "    Args:\n",
    "        tone_times: list or Pandas Series\n",
    "            - An array of the times that the tone has played\n",
    "        inside_port_mask: Numpy Array\n",
    "            - The mask where the subject is in the port based on the index being the time increment\n",
    "        before_tone_duration: int\n",
    "            - The number of increments before the tone to be analyzed\n",
    "        after_tone_duration: int\n",
    "            - The number of increments after the tone to be analyzed\n",
    "    Returns: \n",
    "        Numpy Array\n",
    "            - The averages of the probabilities that the subject is inside the port for all increments\n",
    "    \"\"\"\n",
    "    result = []\n",
    "    for tone_start in tone_times:\n",
    "        tone_start_int = int(tone_start)\n",
    "        result.append(inside_port_mask[tone_start_int - before_tone_duration: tone_start_int + after_tone_duration])\n",
    "    return np.stack(result).mean(axis=0)"
   ]
  },
  {
   "cell_type": "code",
   "execution_count": null,
   "id": "963ee09c",
   "metadata": {},
   "outputs": [],
   "source": [
    "get_inside_port_probability_averages_for_all_increments(tone_times=example_valid_tone_times, inside_port_mask=example_port_entry_mask)"
   ]
  },
  {
   "cell_type": "markdown",
   "id": "1a077c73",
   "metadata": {},
   "source": [
    "### 3.3 Plotting all the probailities"
   ]
  },
  {
   "cell_type": "code",
   "execution_count": null,
   "id": "b4475bb6",
   "metadata": {},
   "outputs": [],
   "source": [
    "plt.plot(np.linspace(-20,20,4000), mean_example_all_tone_time_masks)\n",
    "plt.xlabel(\"Seconds from the start of the tone\")\n",
    "plt.ylabel(\"Probability Inside Port\")\n",
    "plt.title(\"Probability Inside Port for 10ms Increments 20 Seconds Before and After Tone\")"
   ]
  },
  {
   "cell_type": "markdown",
   "id": "966101d5",
   "metadata": {},
   "source": [
    "# 4. Plotting for Multiple Training Sessions"
   ]
  },
  {
   "cell_type": "markdown",
   "id": "c806a2a6",
   "metadata": {},
   "source": [
    "### 4.1 Combining Dataframes"
   ]
  },
  {
   "cell_type": "code",
   "execution_count": null,
   "id": "675ef256",
   "metadata": {},
   "outputs": [],
   "source": [
    "file_path_to_med_pc_data_for_probability = defaultdict(dict)\n",
    "\n",
    "for key, value in file_path_to_med_pc_data.items():\n",
    "    \n",
    "    valid_tones = processing.tone.get_valid_tones(tone_pd_series= value[\"med_pc_df\"][\"(S)CSpresentation\"])\n",
    "    if not valid_tones.empty:\n",
    "        file_path_to_med_pc_data_for_probability[key][\"med_pc_df\"] = value[\"med_pc_df\"]\n",
    "\n",
    "        file_path_to_med_pc_data_for_probability[key][\"med_pc_df\"][\"date_key\"] = value[\"date_key\"]\n",
    "        file_path_to_med_pc_data_for_probability[key][\"med_pc_df\"][\"subject_key\"] = value[\"subject_key\"]\n",
    "        file_path_to_med_pc_data_for_probability[key][\"med_pc_df\"][\"file_path\"] = key \n",
    "    else:\n",
    "        print(\"Skipped {}\".format(key))"
   ]
  },
  {
   "cell_type": "code",
   "execution_count": null,
   "id": "7e050c15",
   "metadata": {},
   "outputs": [],
   "source": [
    "all_med_pc_df = []\n",
    "for key, value in file_path_to_med_pc_data_for_probability.items():\n",
    "    all_med_pc_df.append(value[\"med_pc_df\"])"
   ]
  },
  {
   "cell_type": "code",
   "execution_count": null,
   "id": "30ea846f",
   "metadata": {},
   "outputs": [],
   "source": [
    "combined_med_pc_df = pd.concat(all_med_pc_df)"
   ]
  },
  {
   "cell_type": "code",
   "execution_count": null,
   "id": "d9c32e9a",
   "metadata": {},
   "outputs": [],
   "source": [
    "combined_med_pc_df"
   ]
  },
  {
   "cell_type": "markdown",
   "id": "0845302c",
   "metadata": {},
   "source": [
    "### 4.2 Get the port probability for one mice"
   ]
  },
  {
   "cell_type": "code",
   "execution_count": null,
   "id": "b1983f11",
   "metadata": {},
   "outputs": [],
   "source": [
    "combined_med_pc_df[\"subject_key\"].unique()"
   ]
  },
  {
   "cell_type": "code",
   "execution_count": null,
   "id": "d16e0531",
   "metadata": {},
   "outputs": [],
   "source": [
    "example_one_subject_all_days = combined_med_pc_df[combined_med_pc_df[\"subject_key\"] == \"4.1 (1)\"]"
   ]
  },
  {
   "cell_type": "code",
   "execution_count": null,
   "id": "e931da1d",
   "metadata": {},
   "outputs": [],
   "source": [
    "example_one_subject_all_days"
   ]
  },
  {
   "cell_type": "code",
   "execution_count": null,
   "id": "86f91041",
   "metadata": {},
   "outputs": [],
   "source": [
    "subject_to_date_to_average_probability = defaultdict(dict)\n",
    "for subject in combined_med_pc_df[\"subject_key\"].unique():\n",
    "#     subject_to_date_to_average_probability[\"subject\"] = subject\n",
    "    one_subject_all_days = combined_med_pc_df[combined_med_pc_df[\"subject_key\"] == subject]\n",
    "\n",
    "\n",
    "    for date in one_subject_all_days[\"date_key\"].unique():\n",
    "        \n",
    "        one_day_df = one_subject_all_days[one_subject_all_days[\"date_key\"] == date].copy()\n",
    "        ### Scaling all the dataframes\n",
    "        one_day_df[\"port_entry_scaled\"] = one_day_df[\"(P)Portentry\"].apply(lambda x: scale_time_to_whole_number(x))\n",
    "        one_day_df[\"port_exit_scaled\"] = one_day_df[\"(N)Portexit\"].apply(lambda x: scale_time_to_whole_number(x))\n",
    "        one_day_df[\"tone_start_scaled\"] = one_day_df[\"(S)CSpresentation\"].apply(lambda x: scale_time_to_whole_number(x))\n",
    "        ### All the numbers of times inside port\n",
    "        one_day_entry_times = get_all_port_entry_increments(port_entry_scaled=one_day_df[\"port_entry_scaled\"], port_exit_scaled=one_day_df[\"port_exit_scaled\"])\n",
    "        ### Getting all the valid tone times and the max tone time\n",
    "        one_day_valid_tone_times = processing.tone.get_valid_tones(tone_pd_series=one_day_df[\"tone_start_scaled\"]).astype(int)\n",
    "        one_day_max_time = one_day_valid_tone_times.max() + 2001\n",
    "        ### Getting a mask of all the times in the port\n",
    "        one_day_experiment_interval, one_day_entry_mask = get_inside_port_mask(max_time=one_day_max_time, inside_port_numbers=one_day_entry_times)\n",
    "        ### Getting the average probility\n",
    "        one_day_average_all_tone_time_masks = get_inside_port_probability_averages_for_all_increments(tone_times=one_day_valid_tone_times, inside_port_mask=one_day_entry_mask)\n",
    "        subject_to_date_to_average_probability[subject][date] = one_day_average_all_tone_time_masks\n",
    "        ### Plotting\n",
    "#         plt.plot(np.linspace(-20,20,4000), one_day_average_all_tone_time_masks)\n",
    "#         plt.xlabel(\"Seconds from the start of the tone\")\n",
    "#         plt.ylabel(\"Probability Inside Port\")\n",
    "#         plt.title(\"Probability Inside Port for 10ms Increments 20 Seconds Before and After Tone\")\n",
    "#         break\n",
    "#     break"
   ]
  },
  {
   "cell_type": "code",
   "execution_count": null,
   "id": "1affc2f1",
   "metadata": {},
   "outputs": [],
   "source": [
    "subject_to_date_to_average_probability[\"3.4 (2)\"]"
   ]
  },
  {
   "cell_type": "code",
   "execution_count": null,
   "id": "d13c84b8",
   "metadata": {
    "scrolled": true
   },
   "outputs": [],
   "source": [
    "subject_to_date_to_average_probability[\"3.3 (4)\"]"
   ]
  },
  {
   "cell_type": "code",
   "execution_count": null,
   "id": "1f2ebe35",
   "metadata": {
    "scrolled": true
   },
   "outputs": [],
   "source": [
    "\"b\", \"g\", \"r\", \"c\", \"m\", \"y\", \"k\""
   ]
  },
  {
   "cell_type": "code",
   "execution_count": null,
   "id": "98be41e2",
   "metadata": {},
   "outputs": [],
   "source": [
    "subject_to_cage_dict = dict(zip(metadata_df[\"Subject\"], metadata_df[\"Group\"]))\n"
   ]
  },
  {
   "cell_type": "code",
   "execution_count": null,
   "id": "733d402e",
   "metadata": {},
   "outputs": [],
   "source": [
    "subject_to_cage_dict"
   ]
  },
  {
   "cell_type": "code",
   "execution_count": null,
   "id": "af2180d0",
   "metadata": {},
   "outputs": [],
   "source": [
    "combined_med_pc_df"
   ]
  },
  {
   "cell_type": "code",
   "execution_count": null,
   "id": "48638ace",
   "metadata": {},
   "outputs": [],
   "source": [
    "\n",
    "all_colors = [\"k\", \"b\", \"m\", \"c\",\"g\", \"y\", \"darkorange\", \"r\"]\n",
    "for subject_id in combined_med_pc_df[\"subject_key\"].unique():\n",
    "    fig, ax = plt.subplots()\n",
    "    cage = subject_to_cage_dict[subject_id].strip(\"Cage\").strip()\n",
    "    ax.set_xlabel(\"Seconds from the start of the tone\")\n",
    "    ax.set_ylabel(\"Probability Inside Port\")\n",
    "    ax.set_title(\"Probability Inside Port Before/After Tone for Subject: {} in Cage {}\".format(subject_id, cage))\n",
    "    counter = 0\n",
    "\n",
    "    for key in sorted(subject_to_date_to_average_probability[subject_id].keys()):\n",
    "        ax.plot(np.linspace(-20,20,4000), subject_to_date_to_average_probability[subject_id][key], label=key, color=all_colors[counter])\n",
    "        counter += 1\n",
    "    handles, labels = ax.get_legend_handles_labels()\n",
    "    labels, handles = zip(*sorted(zip(labels, handles), key=lambda t: t[0]))\n",
    "    ax.set_ylim(0, 1)\n",
    "    ax.legend(handles, labels)\n",
    "    fig.savefig(\"./data/plots/probability_inside_port/probability_inside_port_cage_{}_subject_{}_date_20220503_20220510.png\".format(cage, subject_id))"
   ]
  },
  {
   "cell_type": "markdown",
   "id": "910f10ef",
   "metadata": {},
   "source": [
    "# TODO: 4. Licking Specifity Average"
   ]
  },
  {
   "cell_type": "code",
   "execution_count": null,
   "id": "613aa093",
   "metadata": {},
   "outputs": [],
   "source": [
    "subject_to_date_to_licking_specificty = defaultdict(lambda: defaultdict(dict))\n",
    "# subject_to_date_to_licking_specificty = defaultdict(dict)\n",
    "for subject, all_dates in subject_to_date_to_average_probability.items():\n",
    "    for date, averages in all_dates.items():\n",
    "#         subject_to_date_to_licking_specificty[subject][date] = averages[0:2000].mean()\n",
    "        subject_to_date_to_licking_specificty[subject][date][\"-20_to_0\"] = averages[0:2000].mean()\n",
    "        subject_to_date_to_licking_specificty[subject][date][\"0_to_10\"] = averages[2000:3000].mean()"
   ]
  },
  {
   "cell_type": "code",
   "execution_count": null,
   "id": "40e1863a",
   "metadata": {},
   "outputs": [],
   "source": [
    "licking_specifity_df = pd.DataFrame.from_dict({(i,j): subject_to_date_to_licking_specificty[i][j] \n",
    "                           for i in subject_to_date_to_licking_specificty.keys() \n",
    "                           for j in subject_to_date_to_licking_specificty[i].keys()},\n",
    "                       orient='index')\n"
   ]
  },
  {
   "cell_type": "code",
   "execution_count": null,
   "id": "f82b0b9d",
   "metadata": {},
   "outputs": [],
   "source": [
    "licking_specifity_df = licking_specifity_df.reset_index()\n",
    "licking_specifity_df = licking_specifity_df.rename(columns={\"level_0\": \"subject\", \"level_1\": \"date\"})"
   ]
  },
  {
   "cell_type": "code",
   "execution_count": null,
   "id": "70a93a91",
   "metadata": {},
   "outputs": [],
   "source": [
    "licking_specifity_df[\"date_int\"] = licking_specifity_df[\"date\"].astype(int)\n",
    "licking_specifity_df[\"cage\"] = licking_specifity_df[\"subject\"].map(subject_to_cage_dict)"
   ]
  },
  {
   "cell_type": "code",
   "execution_count": null,
   "id": "10c2efe4",
   "metadata": {},
   "outputs": [],
   "source": [
    "licking_specifity_df"
   ]
  },
  {
   "cell_type": "code",
   "execution_count": null,
   "id": "5d7e6943",
   "metadata": {},
   "outputs": [],
   "source": [
    "licking_specifity_df = licking_specifity_df.sort_values(by=[\"subject\", \"date_int\"])"
   ]
  },
  {
   "cell_type": "code",
   "execution_count": null,
   "id": "b72e6ba2",
   "metadata": {},
   "outputs": [],
   "source": [
    "all_colors = [\"b\", \"g\", \"y\", \"r\"]\n",
    "\n",
    "for cage in licking_specifity_df[\"cage\"].unique():\n",
    "    fig, ax = plt.subplots()\n",
    "\n",
    "    cage_df = licking_specifity_df[licking_specifity_df[\"cage\"] == cage]\n",
    "    counter = 0\n",
    "    for subject in cage_df[\"subject\"].unique():\n",
    "        subject_df = cage_df[cage_df[\"subject\"] == subject]\n",
    "        \n",
    "        \n",
    "        ax.plot(subject_df[\"date_int\"] - subject_df[\"date_int\"].min() + 1, subject_df[\"-20_to_0\"], '--', color=all_colors[counter], label=\"{} at -20s to 0s\".format(subject))\n",
    "        ax.plot(subject_df[\"date_int\"] - subject_df[\"date_int\"].min() + 1, subject_df[\"0_to_10\"], '-', color=all_colors[counter], label=\"{} at 0s to 10s\".format(subject))\n",
    "#         break\n",
    "        counter += 1\n",
    "        \n",
    "    ax.set_xlabel(\"The Days After the First Session\")\n",
    "    ax.set_ylabel(\"Average Licking Specificty Probaility\")\n",
    "    ax.set_title(\"Licking Specifity Probability Before and After Tone Onset: Cage {}\".format(cage))\n",
    "\n",
    "    ax.set_ylim(0, 1)\n",
    "    ax.legend()\n",
    "#     break\n",
    "    plt.savefig(\"./data/plots/licking_specifity/licking_specifity_cage_{}_date_20220503_20220510.png\".format(cage))\n",
    "    "
   ]
  },
  {
   "cell_type": "markdown",
   "id": "8911d15d",
   "metadata": {},
   "source": [
    "average(probability(t=0-10)) -average(probability(t=-20:0))"
   ]
  }
 ],
 "metadata": {
  "kernelspec": {
   "display_name": "Python 3 (ipykernel)",
   "language": "python",
   "name": "python3"
  },
  "language_info": {
   "codemirror_mode": {
    "name": "ipython",
    "version": 3
   },
   "file_extension": ".py",
   "mimetype": "text/x-python",
   "name": "python",
   "nbconvert_exporter": "python",
   "pygments_lexer": "ipython3",
   "version": "3.9.12"
  }
 },
 "nbformat": 4,
 "nbformat_minor": 5
}
