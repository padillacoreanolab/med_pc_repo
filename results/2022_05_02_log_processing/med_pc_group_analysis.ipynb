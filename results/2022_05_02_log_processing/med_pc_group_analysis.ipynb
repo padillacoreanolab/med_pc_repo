{
 "cells": [
  {
   "cell_type": "markdown",
   "id": "ec0f0e72",
   "metadata": {},
   "source": [
    "# MED-PC Data Processing Notebook"
   ]
  },
  {
   "cell_type": "markdown",
   "id": "3e96b039",
   "metadata": {},
   "source": [
    "## Importing the Python Libraries"
   ]
  },
  {
   "cell_type": "code",
   "execution_count": 1,
   "id": "df497936",
   "metadata": {},
   "outputs": [],
   "source": [
    "import sys\n",
    "import glob\n",
    "from collections import defaultdict\n",
    "import os\n",
    "import numpy as np\n",
    "import pandas as pd\n",
    "import matplotlib.pyplot as plt"
   ]
  },
  {
   "cell_type": "code",
   "execution_count": 2,
   "id": "b6678428",
   "metadata": {},
   "outputs": [],
   "source": [
    "from medpc2excel.medpc_read import medpc_read"
   ]
  },
  {
   "cell_type": "code",
   "execution_count": 3,
   "id": "d2693f50",
   "metadata": {},
   "outputs": [],
   "source": [
    "# setting path\n",
    "sys.path.append('../../src')"
   ]
  },
  {
   "cell_type": "code",
   "execution_count": 4,
   "id": "2eca7742",
   "metadata": {},
   "outputs": [],
   "source": [
    "import extract.dataframe\n",
    "import processing.tone\n",
    "import extract.metadata"
   ]
  },
  {
   "cell_type": "code",
   "execution_count": 5,
   "id": "52a5a4ee",
   "metadata": {},
   "outputs": [],
   "source": [
    "# Increase size of plot in jupyter\n",
    "\n",
    "plt.rcParams[\"figure.figsize\"] = (10,6)"
   ]
  },
  {
   "cell_type": "markdown",
   "id": "52dd42ca",
   "metadata": {},
   "source": [
    "## Getting the Metadata from all the files"
   ]
  },
  {
   "cell_type": "code",
   "execution_count": 6,
   "id": "125bce44",
   "metadata": {},
   "outputs": [],
   "source": [
    "all_med_pc_file = glob.glob(\"./data/timestamp_dataframes/*.txt\")"
   ]
  },
  {
   "cell_type": "code",
   "execution_count": 7,
   "id": "29194eda",
   "metadata": {},
   "outputs": [
    {
     "data": {
      "text/plain": [
       "['./data/timestamp_dataframes/2022-04-27_12h33m_Subject .txt',\n",
       " './data/timestamp_dataframes/2022-05-02_16h17m_Subject debug_dim_vs_list.txt',\n",
       " './data/timestamp_dataframes/2022-05-06_12h59m_Subject 3.4 (2).txt',\n",
       " './data/timestamp_dataframes/2022-05-06_08h37m_Subject 2.3.txt',\n",
       " './data/timestamp_dataframes/2022-05-06_12h59m_Subject 4.3 (3).txt',\n",
       " './data/timestamp_dataframes/2022-05-04_08h43m_Subject 2.3.txt',\n",
       " './data/timestamp_dataframes/2022-04-27_12h44m_Subject .txt',\n",
       " './data/timestamp_dataframes/2022-05-03_12h52m_Subject 2.1.txt',\n",
       " './data/timestamp_dataframes/2022-05-04_10h11m_Subject 1.2.txt',\n",
       " './data/timestamp_dataframes/2022-05-06_08h37m_Subject 1.1.txt']"
      ]
     },
     "execution_count": 7,
     "metadata": {},
     "output_type": "execute_result"
    }
   ],
   "source": [
    "all_med_pc_file[:10]"
   ]
  },
  {
   "cell_type": "code",
   "execution_count": 8,
   "id": "67503081",
   "metadata": {},
   "outputs": [],
   "source": [
    "file_path_to_meta_data = extract.metadata.get_all_med_pc_meta_data_from_files(list_of_files=all_med_pc_file)"
   ]
  },
  {
   "cell_type": "markdown",
   "id": "2c00edf5",
   "metadata": {},
   "source": [
    "## Making a Dataframe out of the Metadata"
   ]
  },
  {
   "cell_type": "code",
   "execution_count": 9,
   "id": "6fcb3201",
   "metadata": {},
   "outputs": [],
   "source": [
    "metadata_df = pd.DataFrame.from_dict(file_path_to_meta_data, orient=\"index\")\n",
    "metadata_df = metadata_df.reset_index()"
   ]
  },
  {
   "cell_type": "code",
   "execution_count": 10,
   "id": "b98fcaf2",
   "metadata": {},
   "outputs": [
    {
     "data": {
      "text/html": [
       "<div>\n",
       "<style scoped>\n",
       "    .dataframe tbody tr th:only-of-type {\n",
       "        vertical-align: middle;\n",
       "    }\n",
       "\n",
       "    .dataframe tbody tr th {\n",
       "        vertical-align: top;\n",
       "    }\n",
       "\n",
       "    .dataframe thead th {\n",
       "        text-align: right;\n",
       "    }\n",
       "</style>\n",
       "<table border=\"1\" class=\"dataframe\">\n",
       "  <thead>\n",
       "    <tr style=\"text-align: right;\">\n",
       "      <th></th>\n",
       "      <th>index</th>\n",
       "      <th>File</th>\n",
       "      <th>Start Date</th>\n",
       "      <th>End Date</th>\n",
       "      <th>Subject</th>\n",
       "      <th>Experiment</th>\n",
       "      <th>Group</th>\n",
       "      <th>Box</th>\n",
       "      <th>Start Time</th>\n",
       "      <th>End Time</th>\n",
       "      <th>MSN</th>\n",
       "    </tr>\n",
       "  </thead>\n",
       "  <tbody>\n",
       "    <tr>\n",
       "      <th>0</th>\n",
       "      <td>./data/timestamp_dataframes/2022-04-27_12h33m_...</td>\n",
       "      <td>C:\\MED-PC\\Data\\2022-04-27_12h33m_Subject .txt</td>\n",
       "      <td>04/27/22</td>\n",
       "      <td>04/27/22</td>\n",
       "      <td></td>\n",
       "      <td></td>\n",
       "      <td></td>\n",
       "      <td>1</td>\n",
       "      <td>12:33:52</td>\n",
       "      <td>12:34:18</td>\n",
       "      <td>testing_NP_CS_reward_laserepochON1st</td>\n",
       "    </tr>\n",
       "    <tr>\n",
       "      <th>1</th>\n",
       "      <td>./data/timestamp_dataframes/2022-05-02_16h17m_...</td>\n",
       "      <td>C:\\MED-PC\\Data\\2022-05-02_16h17m_Subject debug...</td>\n",
       "      <td>05/02/22</td>\n",
       "      <td>05/02/22</td>\n",
       "      <td>debug_dim_vs_list</td>\n",
       "      <td>0</td>\n",
       "      <td>0</td>\n",
       "      <td>1</td>\n",
       "      <td>16:17:21</td>\n",
       "      <td>16:24:18</td>\n",
       "      <td>debug_dim_vs_list</td>\n",
       "    </tr>\n",
       "    <tr>\n",
       "      <th>2</th>\n",
       "      <td>./data/timestamp_dataframes/2022-05-06_12h59m_...</td>\n",
       "      <td>C:\\MED-PC\\Data\\2022-05-06_12h59m_Subject 3.4 (...</td>\n",
       "      <td>05/06/22</td>\n",
       "      <td>05/06/22</td>\n",
       "      <td>3.4 (2)</td>\n",
       "      <td>Pilot of Pilot</td>\n",
       "      <td>Cage 4</td>\n",
       "      <td>1</td>\n",
       "      <td>12:59:58</td>\n",
       "      <td>14:02:38</td>\n",
       "      <td>levelNP_CS_reward_laserepochON1st_noshock</td>\n",
       "    </tr>\n",
       "    <tr>\n",
       "      <th>3</th>\n",
       "      <td>./data/timestamp_dataframes/2022-05-06_08h37m_...</td>\n",
       "      <td>C:\\MED-PC\\Data\\2022-05-06_08h37m_Subject 2.3.txt</td>\n",
       "      <td>05/06/22</td>\n",
       "      <td>05/06/22</td>\n",
       "      <td>2.3</td>\n",
       "      <td>Pilot of Pilot</td>\n",
       "      <td>Cage 1</td>\n",
       "      <td>1</td>\n",
       "      <td>08:37:09</td>\n",
       "      <td>09:53:25</td>\n",
       "      <td>levelNP_CS_reward_laserepochON1st_noshock</td>\n",
       "    </tr>\n",
       "    <tr>\n",
       "      <th>4</th>\n",
       "      <td>./data/timestamp_dataframes/2022-05-06_12h59m_...</td>\n",
       "      <td>C:\\MED-PC\\Data\\2022-05-06_12h59m_Subject 4.3 (...</td>\n",
       "      <td>05/06/22</td>\n",
       "      <td>05/06/22</td>\n",
       "      <td>4.3 (3)</td>\n",
       "      <td>Pilot of Pilot</td>\n",
       "      <td>Cage 4</td>\n",
       "      <td>2</td>\n",
       "      <td>12:59:58</td>\n",
       "      <td>14:02:38</td>\n",
       "      <td>levelNP_CS_reward_laserepochON1st_noshock</td>\n",
       "    </tr>\n",
       "  </tbody>\n",
       "</table>\n",
       "</div>"
      ],
      "text/plain": [
       "                                               index  \\\n",
       "0  ./data/timestamp_dataframes/2022-04-27_12h33m_...   \n",
       "1  ./data/timestamp_dataframes/2022-05-02_16h17m_...   \n",
       "2  ./data/timestamp_dataframes/2022-05-06_12h59m_...   \n",
       "3  ./data/timestamp_dataframes/2022-05-06_08h37m_...   \n",
       "4  ./data/timestamp_dataframes/2022-05-06_12h59m_...   \n",
       "\n",
       "                                                File Start Date  End Date  \\\n",
       "0      C:\\MED-PC\\Data\\2022-04-27_12h33m_Subject .txt   04/27/22  04/27/22   \n",
       "1  C:\\MED-PC\\Data\\2022-05-02_16h17m_Subject debug...   05/02/22  05/02/22   \n",
       "2  C:\\MED-PC\\Data\\2022-05-06_12h59m_Subject 3.4 (...   05/06/22  05/06/22   \n",
       "3   C:\\MED-PC\\Data\\2022-05-06_08h37m_Subject 2.3.txt   05/06/22  05/06/22   \n",
       "4  C:\\MED-PC\\Data\\2022-05-06_12h59m_Subject 4.3 (...   05/06/22  05/06/22   \n",
       "\n",
       "             Subject      Experiment   Group Box Start Time  End Time  \\\n",
       "0                                              1   12:33:52  12:34:18   \n",
       "1  debug_dim_vs_list               0       0   1   16:17:21  16:24:18   \n",
       "2            3.4 (2)  Pilot of Pilot  Cage 4   1   12:59:58  14:02:38   \n",
       "3                2.3  Pilot of Pilot  Cage 1   1   08:37:09  09:53:25   \n",
       "4            4.3 (3)  Pilot of Pilot  Cage 4   2   12:59:58  14:02:38   \n",
       "\n",
       "                                         MSN  \n",
       "0       testing_NP_CS_reward_laserepochON1st  \n",
       "1                          debug_dim_vs_list  \n",
       "2  levelNP_CS_reward_laserepochON1st_noshock  \n",
       "3  levelNP_CS_reward_laserepochON1st_noshock  \n",
       "4  levelNP_CS_reward_laserepochON1st_noshock  "
      ]
     },
     "execution_count": 10,
     "metadata": {},
     "output_type": "execute_result"
    }
   ],
   "source": [
    "metadata_df.head()"
   ]
  },
  {
   "cell_type": "code",
   "execution_count": 11,
   "id": "6285ade1",
   "metadata": {
    "scrolled": true
   },
   "outputs": [
    {
     "data": {
      "text/html": [
       "<div>\n",
       "<style scoped>\n",
       "    .dataframe tbody tr th:only-of-type {\n",
       "        vertical-align: middle;\n",
       "    }\n",
       "\n",
       "    .dataframe tbody tr th {\n",
       "        vertical-align: top;\n",
       "    }\n",
       "\n",
       "    .dataframe thead th {\n",
       "        text-align: right;\n",
       "    }\n",
       "</style>\n",
       "<table border=\"1\" class=\"dataframe\">\n",
       "  <thead>\n",
       "    <tr style=\"text-align: right;\">\n",
       "      <th></th>\n",
       "      <th>index</th>\n",
       "      <th>File</th>\n",
       "      <th>Start Date</th>\n",
       "      <th>End Date</th>\n",
       "      <th>Experiment</th>\n",
       "      <th>Group</th>\n",
       "      <th>Box</th>\n",
       "      <th>Start Time</th>\n",
       "      <th>End Time</th>\n",
       "      <th>MSN</th>\n",
       "    </tr>\n",
       "    <tr>\n",
       "      <th>Subject</th>\n",
       "      <th></th>\n",
       "      <th></th>\n",
       "      <th></th>\n",
       "      <th></th>\n",
       "      <th></th>\n",
       "      <th></th>\n",
       "      <th></th>\n",
       "      <th></th>\n",
       "      <th></th>\n",
       "      <th></th>\n",
       "    </tr>\n",
       "  </thead>\n",
       "  <tbody>\n",
       "    <tr>\n",
       "      <th></th>\n",
       "      <td>28</td>\n",
       "      <td>28</td>\n",
       "      <td>28</td>\n",
       "      <td>28</td>\n",
       "      <td>28</td>\n",
       "      <td>28</td>\n",
       "      <td>28</td>\n",
       "      <td>28</td>\n",
       "      <td>28</td>\n",
       "      <td>28</td>\n",
       "    </tr>\n",
       "    <tr>\n",
       "      <th>0</th>\n",
       "      <td>9</td>\n",
       "      <td>9</td>\n",
       "      <td>9</td>\n",
       "      <td>9</td>\n",
       "      <td>9</td>\n",
       "      <td>9</td>\n",
       "      <td>9</td>\n",
       "      <td>9</td>\n",
       "      <td>9</td>\n",
       "      <td>9</td>\n",
       "    </tr>\n",
       "    <tr>\n",
       "      <th>1.1</th>\n",
       "      <td>5</td>\n",
       "      <td>5</td>\n",
       "      <td>5</td>\n",
       "      <td>5</td>\n",
       "      <td>5</td>\n",
       "      <td>5</td>\n",
       "      <td>5</td>\n",
       "      <td>5</td>\n",
       "      <td>5</td>\n",
       "      <td>5</td>\n",
       "    </tr>\n",
       "    <tr>\n",
       "      <th>1.2</th>\n",
       "      <td>5</td>\n",
       "      <td>5</td>\n",
       "      <td>5</td>\n",
       "      <td>5</td>\n",
       "      <td>5</td>\n",
       "      <td>5</td>\n",
       "      <td>5</td>\n",
       "      <td>5</td>\n",
       "      <td>5</td>\n",
       "      <td>5</td>\n",
       "    </tr>\n",
       "    <tr>\n",
       "      <th>1.3</th>\n",
       "      <td>5</td>\n",
       "      <td>5</td>\n",
       "      <td>5</td>\n",
       "      <td>5</td>\n",
       "      <td>5</td>\n",
       "      <td>5</td>\n",
       "      <td>5</td>\n",
       "      <td>5</td>\n",
       "      <td>5</td>\n",
       "      <td>5</td>\n",
       "    </tr>\n",
       "    <tr>\n",
       "      <th>1.4</th>\n",
       "      <td>5</td>\n",
       "      <td>5</td>\n",
       "      <td>5</td>\n",
       "      <td>5</td>\n",
       "      <td>5</td>\n",
       "      <td>5</td>\n",
       "      <td>5</td>\n",
       "      <td>5</td>\n",
       "      <td>5</td>\n",
       "      <td>5</td>\n",
       "    </tr>\n",
       "    <tr>\n",
       "      <th>2.1</th>\n",
       "      <td>6</td>\n",
       "      <td>6</td>\n",
       "      <td>6</td>\n",
       "      <td>6</td>\n",
       "      <td>6</td>\n",
       "      <td>6</td>\n",
       "      <td>6</td>\n",
       "      <td>6</td>\n",
       "      <td>6</td>\n",
       "      <td>6</td>\n",
       "    </tr>\n",
       "    <tr>\n",
       "      <th>2.2</th>\n",
       "      <td>5</td>\n",
       "      <td>5</td>\n",
       "      <td>5</td>\n",
       "      <td>5</td>\n",
       "      <td>5</td>\n",
       "      <td>5</td>\n",
       "      <td>5</td>\n",
       "      <td>5</td>\n",
       "      <td>5</td>\n",
       "      <td>5</td>\n",
       "    </tr>\n",
       "    <tr>\n",
       "      <th>2.3</th>\n",
       "      <td>5</td>\n",
       "      <td>5</td>\n",
       "      <td>5</td>\n",
       "      <td>5</td>\n",
       "      <td>5</td>\n",
       "      <td>5</td>\n",
       "      <td>5</td>\n",
       "      <td>5</td>\n",
       "      <td>5</td>\n",
       "      <td>5</td>\n",
       "    </tr>\n",
       "    <tr>\n",
       "      <th>2.4</th>\n",
       "      <td>5</td>\n",
       "      <td>5</td>\n",
       "      <td>5</td>\n",
       "      <td>5</td>\n",
       "      <td>5</td>\n",
       "      <td>5</td>\n",
       "      <td>5</td>\n",
       "      <td>5</td>\n",
       "      <td>5</td>\n",
       "      <td>5</td>\n",
       "    </tr>\n",
       "    <tr>\n",
       "      <th>3.1 (1)</th>\n",
       "      <td>4</td>\n",
       "      <td>4</td>\n",
       "      <td>4</td>\n",
       "      <td>4</td>\n",
       "      <td>4</td>\n",
       "      <td>4</td>\n",
       "      <td>4</td>\n",
       "      <td>4</td>\n",
       "      <td>4</td>\n",
       "      <td>4</td>\n",
       "    </tr>\n",
       "    <tr>\n",
       "      <th>3.2 (2)</th>\n",
       "      <td>4</td>\n",
       "      <td>4</td>\n",
       "      <td>4</td>\n",
       "      <td>4</td>\n",
       "      <td>4</td>\n",
       "      <td>4</td>\n",
       "      <td>4</td>\n",
       "      <td>4</td>\n",
       "      <td>4</td>\n",
       "      <td>4</td>\n",
       "    </tr>\n",
       "    <tr>\n",
       "      <th>3.3 (4)</th>\n",
       "      <td>4</td>\n",
       "      <td>4</td>\n",
       "      <td>4</td>\n",
       "      <td>4</td>\n",
       "      <td>4</td>\n",
       "      <td>4</td>\n",
       "      <td>4</td>\n",
       "      <td>4</td>\n",
       "      <td>4</td>\n",
       "      <td>4</td>\n",
       "    </tr>\n",
       "    <tr>\n",
       "      <th>3.4 (2)</th>\n",
       "      <td>4</td>\n",
       "      <td>4</td>\n",
       "      <td>4</td>\n",
       "      <td>4</td>\n",
       "      <td>4</td>\n",
       "      <td>4</td>\n",
       "      <td>4</td>\n",
       "      <td>4</td>\n",
       "      <td>4</td>\n",
       "      <td>4</td>\n",
       "    </tr>\n",
       "    <tr>\n",
       "      <th>4.1 (1)</th>\n",
       "      <td>4</td>\n",
       "      <td>4</td>\n",
       "      <td>4</td>\n",
       "      <td>4</td>\n",
       "      <td>4</td>\n",
       "      <td>4</td>\n",
       "      <td>4</td>\n",
       "      <td>4</td>\n",
       "      <td>4</td>\n",
       "      <td>4</td>\n",
       "    </tr>\n",
       "    <tr>\n",
       "      <th>4.2 (3)</th>\n",
       "      <td>4</td>\n",
       "      <td>4</td>\n",
       "      <td>4</td>\n",
       "      <td>4</td>\n",
       "      <td>4</td>\n",
       "      <td>4</td>\n",
       "      <td>4</td>\n",
       "      <td>4</td>\n",
       "      <td>4</td>\n",
       "      <td>4</td>\n",
       "    </tr>\n",
       "    <tr>\n",
       "      <th>4.3 (3)</th>\n",
       "      <td>4</td>\n",
       "      <td>4</td>\n",
       "      <td>4</td>\n",
       "      <td>4</td>\n",
       "      <td>4</td>\n",
       "      <td>4</td>\n",
       "      <td>4</td>\n",
       "      <td>4</td>\n",
       "      <td>4</td>\n",
       "      <td>4</td>\n",
       "    </tr>\n",
       "    <tr>\n",
       "      <th>4.4 (4)</th>\n",
       "      <td>4</td>\n",
       "      <td>4</td>\n",
       "      <td>4</td>\n",
       "      <td>4</td>\n",
       "      <td>4</td>\n",
       "      <td>4</td>\n",
       "      <td>4</td>\n",
       "      <td>4</td>\n",
       "      <td>4</td>\n",
       "      <td>4</td>\n",
       "    </tr>\n",
       "    <tr>\n",
       "      <th>debug_dim_vs_list</th>\n",
       "      <td>1</td>\n",
       "      <td>1</td>\n",
       "      <td>1</td>\n",
       "      <td>1</td>\n",
       "      <td>1</td>\n",
       "      <td>1</td>\n",
       "      <td>1</td>\n",
       "      <td>1</td>\n",
       "      <td>1</td>\n",
       "      <td>1</td>\n",
       "    </tr>\n",
       "    <tr>\n",
       "      <th>leveled_meghan</th>\n",
       "      <td>1</td>\n",
       "      <td>1</td>\n",
       "      <td>1</td>\n",
       "      <td>1</td>\n",
       "      <td>1</td>\n",
       "      <td>1</td>\n",
       "      <td>1</td>\n",
       "      <td>1</td>\n",
       "      <td>1</td>\n",
       "      <td>1</td>\n",
       "    </tr>\n",
       "    <tr>\n",
       "      <th>test</th>\n",
       "      <td>1</td>\n",
       "      <td>1</td>\n",
       "      <td>1</td>\n",
       "      <td>1</td>\n",
       "      <td>1</td>\n",
       "      <td>1</td>\n",
       "      <td>1</td>\n",
       "      <td>1</td>\n",
       "      <td>1</td>\n",
       "      <td>1</td>\n",
       "    </tr>\n",
       "  </tbody>\n",
       "</table>\n",
       "</div>"
      ],
      "text/plain": [
       "                   index  File  Start Date  End Date  Experiment  Group  Box  \\\n",
       "Subject                                                                        \n",
       "                      28    28          28        28          28     28   28   \n",
       "0                      9     9           9         9           9      9    9   \n",
       "1.1                    5     5           5         5           5      5    5   \n",
       "1.2                    5     5           5         5           5      5    5   \n",
       "1.3                    5     5           5         5           5      5    5   \n",
       "1.4                    5     5           5         5           5      5    5   \n",
       "2.1                    6     6           6         6           6      6    6   \n",
       "2.2                    5     5           5         5           5      5    5   \n",
       "2.3                    5     5           5         5           5      5    5   \n",
       "2.4                    5     5           5         5           5      5    5   \n",
       "3.1 (1)                4     4           4         4           4      4    4   \n",
       "3.2 (2)                4     4           4         4           4      4    4   \n",
       "3.3 (4)                4     4           4         4           4      4    4   \n",
       "3.4 (2)                4     4           4         4           4      4    4   \n",
       "4.1 (1)                4     4           4         4           4      4    4   \n",
       "4.2 (3)                4     4           4         4           4      4    4   \n",
       "4.3 (3)                4     4           4         4           4      4    4   \n",
       "4.4 (4)                4     4           4         4           4      4    4   \n",
       "debug_dim_vs_list      1     1           1         1           1      1    1   \n",
       "leveled_meghan         1     1           1         1           1      1    1   \n",
       "test                   1     1           1         1           1      1    1   \n",
       "\n",
       "                   Start Time  End Time  MSN  \n",
       "Subject                                       \n",
       "                           28        28   28  \n",
       "0                           9         9    9  \n",
       "1.1                         5         5    5  \n",
       "1.2                         5         5    5  \n",
       "1.3                         5         5    5  \n",
       "1.4                         5         5    5  \n",
       "2.1                         6         6    6  \n",
       "2.2                         5         5    5  \n",
       "2.3                         5         5    5  \n",
       "2.4                         5         5    5  \n",
       "3.1 (1)                     4         4    4  \n",
       "3.2 (2)                     4         4    4  \n",
       "3.3 (4)                     4         4    4  \n",
       "3.4 (2)                     4         4    4  \n",
       "4.1 (1)                     4         4    4  \n",
       "4.2 (3)                     4         4    4  \n",
       "4.3 (3)                     4         4    4  \n",
       "4.4 (4)                     4         4    4  \n",
       "debug_dim_vs_list           1         1    1  \n",
       "leveled_meghan              1         1    1  \n",
       "test                        1         1    1  "
      ]
     },
     "execution_count": 11,
     "metadata": {},
     "output_type": "execute_result"
    }
   ],
   "source": [
    "metadata_df.groupby(\"Subject\").count()"
   ]
  },
  {
   "cell_type": "markdown",
   "id": "d07e9ed5",
   "metadata": {},
   "source": []
  },
  {
   "cell_type": "code",
   "execution_count": 12,
   "id": "e4229115",
   "metadata": {},
   "outputs": [
    {
     "data": {
      "text/plain": [
       "array(['', 'debug_dim_vs_list', '3.4 (2)', '2.3', '4.3 (3)', '2.1', '1.2',\n",
       "       '1.1', '2.4', 'leveled_meghan', '0', '3.2 (2)', '4.4 (4)', '1.3',\n",
       "       '3.1 (1)', '2.2', '1.4', '4.2 (3)', '3.3 (4)', '4.1 (1)', 'test'],\n",
       "      dtype=object)"
      ]
     },
     "execution_count": 12,
     "metadata": {},
     "output_type": "execute_result"
    }
   ],
   "source": [
    "metadata_df[\"Subject\"].unique()"
   ]
  },
  {
   "cell_type": "markdown",
   "id": "dd4bc5a5",
   "metadata": {},
   "source": [
    "## Inputting all the MED-PC log files"
   ]
  },
  {
   "cell_type": "markdown",
   "id": "3480b276",
   "metadata": {},
   "source": [
    "- **Please make sure that the corresponding `.mpc` file (aka the MED-PC script) that was ran to create the log file, is also in the same folder**"
   ]
  },
  {
   "cell_type": "code",
   "execution_count": 13,
   "id": "4b7dd6d2",
   "metadata": {
    "scrolled": false
   },
   "outputs": [
    {
     "name": "stdout",
     "output_type": "stream",
     "text": [
      "Look over ./data/timestamp_dataframes/2022-05-02_16h17m_Subject debug_dim_vs_list.txt\n"
     ]
    },
    {
     "name": "stderr",
     "output_type": "stream",
     "text": [
      "/home/riwata/Projects/med_pc_repo/bin/conda_environments/env/med_pc_env/lib/python3.9/site-packages/medpc2excel/medpc_read.py:123: FutureWarning: The frame.append method is deprecated and will be removed from pandas in a future version. Use pandas.concat instead.\n",
      "  MSN_dict[thisDate] = MSN_dict[thisDate].append({'ID':subject,'Box':box,'MSN':programname},ignore_index=True)\n",
      "/home/riwata/Projects/med_pc_repo/bin/conda_environments/env/med_pc_env/lib/python3.9/site-packages/medpc2excel/medpc_read.py:123: FutureWarning: The frame.append method is deprecated and will be removed from pandas in a future version. Use pandas.concat instead.\n",
      "  MSN_dict[thisDate] = MSN_dict[thisDate].append({'ID':subject,'Box':box,'MSN':programname},ignore_index=True)\n",
      "/home/riwata/Projects/med_pc_repo/bin/conda_environments/env/med_pc_env/lib/python3.9/site-packages/medpc2excel/medpc_read.py:123: FutureWarning: The frame.append method is deprecated and will be removed from pandas in a future version. Use pandas.concat instead.\n",
      "  MSN_dict[thisDate] = MSN_dict[thisDate].append({'ID':subject,'Box':box,'MSN':programname},ignore_index=True)\n"
     ]
    },
    {
     "name": "stdout",
     "output_type": "stream",
     "text": [
      "Look over ./data/timestamp_dataframes/2022-05-03_10h16m_Subject .txt\n",
      "Look over ./data/timestamp_dataframes/2022-05-03_13h19m_Subject 1.2.txt\n",
      "Look over ./data/timestamp_dataframes/2022-05-02_13h54m_Subject .txt\n",
      "Look over ./data/timestamp_dataframes/2022-04-27_14h18m_Subject .txt\n",
      "Look over ./data/timestamp_dataframes/2022-04-27_14h19m_Subject .txt\n",
      "Look over ./data/timestamp_dataframes/2022-04-27_14h15m_Subject .txt\n",
      "Look over ./data/timestamp_dataframes/2022-05-03_13h19m_Subject 2.1.txt\n",
      "Look over ./data/timestamp_dataframes/2022-05-02_13h52m_Subject .txt\n"
     ]
    },
    {
     "name": "stderr",
     "output_type": "stream",
     "text": [
      "/home/riwata/Projects/med_pc_repo/bin/conda_environments/env/med_pc_env/lib/python3.9/site-packages/medpc2excel/medpc_read.py:123: FutureWarning: The frame.append method is deprecated and will be removed from pandas in a future version. Use pandas.concat instead.\n",
      "  MSN_dict[thisDate] = MSN_dict[thisDate].append({'ID':subject,'Box':box,'MSN':programname},ignore_index=True)\n",
      "/home/riwata/Projects/med_pc_repo/bin/conda_environments/env/med_pc_env/lib/python3.9/site-packages/medpc2excel/medpc_read.py:123: FutureWarning: The frame.append method is deprecated and will be removed from pandas in a future version. Use pandas.concat instead.\n",
      "  MSN_dict[thisDate] = MSN_dict[thisDate].append({'ID':subject,'Box':box,'MSN':programname},ignore_index=True)\n"
     ]
    },
    {
     "name": "stdout",
     "output_type": "stream",
     "text": [
      "Look over ./data/timestamp_dataframes/2022-05-02_13h51m_Subject 0.txt\n",
      "Look over ./data/timestamp_dataframes/2022-05-03_11h42m_Subject 2.3.txt\n",
      "Look over ./data/timestamp_dataframes/2022-04-29_12h44m_Subject 0.txt\n",
      "Look over ./data/timestamp_dataframes/2022-04-29_10h50m_Subject .txt\n",
      "Look over ./data/timestamp_dataframes/2022-05-03_11h42m_Subject 2.2.txt\n",
      "Look over ./data/timestamp_dataframes/2022-03-25_12h20m_Subject .txt\n",
      "Look over ./data/timestamp_dataframes/2022-05-03_11h42m_Subject 1.1.txt\n",
      "Look over ./data/timestamp_dataframes/2022-05-03_19h16m_Subject .txt\n",
      "Look over ./data/timestamp_dataframes/2022-04-29_14h14m_Subject test.txt\n",
      "Look over ./data/timestamp_dataframes/2022-05-03_13h19m_Subject 2.4.txt\n",
      "Look over ./data/timestamp_dataframes/2022-05-03_18h55m_Subject 0.txt\n",
      "Look over ./data/timestamp_dataframes/2022-03-25_12h47m_Subject .txt\n",
      "Look over ./data/timestamp_dataframes/2022-05-03_13h19m_Subject 1.3.txt\n",
      "Look over ./data/timestamp_dataframes/2022-04-27_14h11m_Subject 0.txt\n",
      "Look over ./data/timestamp_dataframes/2022-05-03_19h07m_Subject .txt\n",
      "Look over ./data/timestamp_dataframes/2022-05-03_11h42m_Subject 1.4.txt\n"
     ]
    },
    {
     "name": "stderr",
     "output_type": "stream",
     "text": [
      "/home/riwata/Projects/med_pc_repo/bin/conda_environments/env/med_pc_env/lib/python3.9/site-packages/medpc2excel/medpc_read.py:123: FutureWarning: The frame.append method is deprecated and will be removed from pandas in a future version. Use pandas.concat instead.\n",
      "  MSN_dict[thisDate] = MSN_dict[thisDate].append({'ID':subject,'Box':box,'MSN':programname},ignore_index=True)\n"
     ]
    }
   ],
   "source": [
    "file_path_to_med_pc_data = defaultdict(dict)\n",
    "for file_path in all_med_pc_file[:]:\n",
    "    try:\n",
    "        # Reading in the MED-PC log file\n",
    "        ts_df, log = medpc_read(file=file_path, override = True, replace = False)\n",
    "        date_key, subject_key, med_pc_df = extract.dataframe.get_med_pc_dataframe(medpc_read_dictionary_output=ts_df)\n",
    "        file_path_to_med_pc_data[file_path][\"date_key\"] = date_key\n",
    "        file_path_to_med_pc_data[file_path][\"subject_key\"] = subject_key\n",
    "        file_path_to_med_pc_data[file_path][\"med_pc_df\"] = med_pc_df\n",
    "    except:\n",
    "        print(\"Look over {}\".format(file_path))"
   ]
  },
  {
   "cell_type": "markdown",
   "id": "2a7e86ca",
   "metadata": {},
   "source": [
    "## Getting the Latency for Each Test Session"
   ]
  },
  {
   "cell_type": "code",
   "execution_count": 14,
   "id": "1ccb070e",
   "metadata": {},
   "outputs": [
    {
     "name": "stdout",
     "output_type": "stream",
     "text": [
      "Skipped ./data/timestamp_dataframes/2022-04-27_12h33m_Subject .txt\n",
      "Skipped ./data/timestamp_dataframes/2022-04-27_12h44m_Subject .txt\n",
      "Skipped ./data/timestamp_dataframes/2022-04-27_14h03m_Subject 0.txt\n",
      "Skipped ./data/timestamp_dataframes/2022-04-27_12h30m_Subject .txt\n",
      "Skipped ./data/timestamp_dataframes/2022-04-27_14h00m_Subject 0.txt\n",
      "Skipped ./data/timestamp_dataframes/2022-04-27_12h39m_Subject .txt\n",
      "Skipped ./data/timestamp_dataframes/2022-04-27_14h12m_Subject .txt\n",
      "Skipped ./data/timestamp_dataframes/2022-04-25_16h41m_Subject 0.txt\n",
      "Skipped ./data/timestamp_dataframes/2022-04-25_16h45m_Subject 0.txt\n",
      "Skipped ./data/timestamp_dataframes/2022-04-27_12h47m_Subject .txt\n",
      "Skipped ./data/timestamp_dataframes/2022-04-25_17h17m_Subject .txt\n",
      "Skipped ./data/timestamp_dataframes/2022-04-27_13h18m_Subject .txt\n",
      "Skipped ./data/timestamp_dataframes/2022-04-27_12h45m_Subject .txt\n",
      "Skipped ./data/timestamp_dataframes/2022-04-25_17h16m_Subject .txt\n",
      "Skipped ./data/timestamp_dataframes/2022-05-02_16h24m_Subject .txt\n",
      "Skipped ./data/timestamp_dataframes/2022-04-27_13h00m_Subject .txt\n"
     ]
    }
   ],
   "source": [
    "file_path_to_med_pc_data_with_latency = defaultdict(dict)\n",
    "\n",
    "for key, value in file_path_to_med_pc_data.items():\n",
    "    \n",
    "    med_pc_df = value[\"med_pc_df\"]\n",
    "    valid_tones = processing.tone.get_valid_tones(tone_pd_series=med_pc_df[\"(S)CSpresentation\"])\n",
    "    if not valid_tones.empty:\n",
    "        file_path_to_med_pc_data_with_latency[key] = value\n",
    "        latency_dict = processing.tone.get_first_port_entries(tone_pd_series=valid_tones, port_entries_pd_series=med_pc_df[\"(P)Portentry\"])\n",
    "        latency_df = pd.DataFrame.from_dict(latency_dict, orient=\"index\")\n",
    "        file_path_to_med_pc_data_with_latency[key][\"latency_dict\"] = latency_dict\n",
    "        file_path_to_med_pc_data_with_latency[key][\"latency_df\"] = latency_df\n",
    "        file_path_to_med_pc_data_with_latency[key][\"latency_df\"][\"date_key\"] = file_path_to_med_pc_data_with_latency[key][\"date_key\"]\n",
    "        file_path_to_med_pc_data_with_latency[key][\"latency_df\"][\"subject_key\"] = file_path_to_med_pc_data_with_latency[key][\"subject_key\"]\n",
    "    else:\n",
    "        print(\"Skipped {}\".format(key))"
   ]
  },
  {
   "cell_type": "code",
   "execution_count": 15,
   "id": "e6e48c15",
   "metadata": {},
   "outputs": [],
   "source": [
    "all_latency_df = [v[\"latency_df\"] for k, v in file_path_to_med_pc_data_with_latency.items()]"
   ]
  },
  {
   "cell_type": "code",
   "execution_count": 16,
   "id": "500dab92",
   "metadata": {},
   "outputs": [],
   "source": [
    "combined_latency_df = pd.concat(all_latency_df)"
   ]
  },
  {
   "cell_type": "code",
   "execution_count": 17,
   "id": "0d5e25ae",
   "metadata": {},
   "outputs": [],
   "source": [
    "combined_latency_df = combined_latency_df.dropna()\n",
    "combined_latency_df = combined_latency_df[combined_latency_df[\"subject_key\"] != \"\"]"
   ]
  },
  {
   "cell_type": "code",
   "execution_count": 18,
   "id": "062442be",
   "metadata": {},
   "outputs": [
    {
     "data": {
      "text/html": [
       "<div>\n",
       "<style scoped>\n",
       "    .dataframe tbody tr th:only-of-type {\n",
       "        vertical-align: middle;\n",
       "    }\n",
       "\n",
       "    .dataframe tbody tr th {\n",
       "        vertical-align: top;\n",
       "    }\n",
       "\n",
       "    .dataframe thead th {\n",
       "        text-align: right;\n",
       "    }\n",
       "</style>\n",
       "<table border=\"1\" class=\"dataframe\">\n",
       "  <thead>\n",
       "    <tr style=\"text-align: right;\">\n",
       "      <th></th>\n",
       "      <th>current_tone_time</th>\n",
       "      <th>first_port_entry_after_tone</th>\n",
       "      <th>date_key</th>\n",
       "      <th>subject_key</th>\n",
       "    </tr>\n",
       "  </thead>\n",
       "  <tbody>\n",
       "    <tr>\n",
       "      <th>0</th>\n",
       "      <td>60.01</td>\n",
       "      <td>69.00</td>\n",
       "      <td>20220506</td>\n",
       "      <td>3.4 (2)</td>\n",
       "    </tr>\n",
       "    <tr>\n",
       "      <th>1</th>\n",
       "      <td>140.01</td>\n",
       "      <td>148.27</td>\n",
       "      <td>20220506</td>\n",
       "      <td>3.4 (2)</td>\n",
       "    </tr>\n",
       "    <tr>\n",
       "      <th>2</th>\n",
       "      <td>230.01</td>\n",
       "      <td>231.91</td>\n",
       "      <td>20220506</td>\n",
       "      <td>3.4 (2)</td>\n",
       "    </tr>\n",
       "    <tr>\n",
       "      <th>3</th>\n",
       "      <td>310.01</td>\n",
       "      <td>320.97</td>\n",
       "      <td>20220506</td>\n",
       "      <td>3.4 (2)</td>\n",
       "    </tr>\n",
       "    <tr>\n",
       "      <th>4</th>\n",
       "      <td>385.01</td>\n",
       "      <td>394.75</td>\n",
       "      <td>20220506</td>\n",
       "      <td>3.4 (2)</td>\n",
       "    </tr>\n",
       "    <tr>\n",
       "      <th>...</th>\n",
       "      <td>...</td>\n",
       "      <td>...</td>\n",
       "      <td>...</td>\n",
       "      <td>...</td>\n",
       "    </tr>\n",
       "    <tr>\n",
       "      <th>36</th>\n",
       "      <td>3345.01</td>\n",
       "      <td>3345.59</td>\n",
       "      <td>20220504</td>\n",
       "      <td>1.1</td>\n",
       "    </tr>\n",
       "    <tr>\n",
       "      <th>37</th>\n",
       "      <td>3425.01</td>\n",
       "      <td>3429.25</td>\n",
       "      <td>20220504</td>\n",
       "      <td>1.1</td>\n",
       "    </tr>\n",
       "    <tr>\n",
       "      <th>38</th>\n",
       "      <td>3515.01</td>\n",
       "      <td>3515.92</td>\n",
       "      <td>20220504</td>\n",
       "      <td>1.1</td>\n",
       "    </tr>\n",
       "    <tr>\n",
       "      <th>39</th>\n",
       "      <td>3615.01</td>\n",
       "      <td>3620.11</td>\n",
       "      <td>20220504</td>\n",
       "      <td>1.1</td>\n",
       "    </tr>\n",
       "    <tr>\n",
       "      <th>40</th>\n",
       "      <td>3705.01</td>\n",
       "      <td>3711.91</td>\n",
       "      <td>20220504</td>\n",
       "      <td>1.1</td>\n",
       "    </tr>\n",
       "  </tbody>\n",
       "</table>\n",
       "<p>2319 rows × 4 columns</p>\n",
       "</div>"
      ],
      "text/plain": [
       "    current_tone_time  first_port_entry_after_tone  date_key subject_key\n",
       "0               60.01                        69.00  20220506     3.4 (2)\n",
       "1              140.01                       148.27  20220506     3.4 (2)\n",
       "2              230.01                       231.91  20220506     3.4 (2)\n",
       "3              310.01                       320.97  20220506     3.4 (2)\n",
       "4              385.01                       394.75  20220506     3.4 (2)\n",
       "..                ...                          ...       ...         ...\n",
       "36            3345.01                      3345.59  20220504         1.1\n",
       "37            3425.01                      3429.25  20220504         1.1\n",
       "38            3515.01                      3515.92  20220504         1.1\n",
       "39            3615.01                      3620.11  20220504         1.1\n",
       "40            3705.01                      3711.91  20220504         1.1\n",
       "\n",
       "[2319 rows x 4 columns]"
      ]
     },
     "execution_count": 18,
     "metadata": {},
     "output_type": "execute_result"
    }
   ],
   "source": [
    "combined_latency_df"
   ]
  },
  {
   "cell_type": "code",
   "execution_count": 19,
   "id": "3be4037a",
   "metadata": {},
   "outputs": [],
   "source": [
    "combined_latency_df[\"latency\"] = combined_latency_df[\"first_port_entry_after_tone\"] - combined_latency_df[\"current_tone_time\"]"
   ]
  },
  {
   "cell_type": "code",
   "execution_count": 20,
   "id": "4ef6e00b",
   "metadata": {},
   "outputs": [],
   "source": [
    "combined_latency_df[\"latency_adjusted\"] = combined_latency_df[\"latency\"].apply(lambda x: 30 if x >= 30 else x)"
   ]
  },
  {
   "cell_type": "code",
   "execution_count": 21,
   "id": "e560c4f3",
   "metadata": {},
   "outputs": [
    {
     "data": {
      "text/html": [
       "<div>\n",
       "<style scoped>\n",
       "    .dataframe tbody tr th:only-of-type {\n",
       "        vertical-align: middle;\n",
       "    }\n",
       "\n",
       "    .dataframe tbody tr th {\n",
       "        vertical-align: top;\n",
       "    }\n",
       "\n",
       "    .dataframe thead th {\n",
       "        text-align: right;\n",
       "    }\n",
       "</style>\n",
       "<table border=\"1\" class=\"dataframe\">\n",
       "  <thead>\n",
       "    <tr style=\"text-align: right;\">\n",
       "      <th></th>\n",
       "      <th>current_tone_time</th>\n",
       "      <th>first_port_entry_after_tone</th>\n",
       "      <th>date_key</th>\n",
       "      <th>subject_key</th>\n",
       "      <th>latency</th>\n",
       "      <th>latency_adjusted</th>\n",
       "    </tr>\n",
       "  </thead>\n",
       "  <tbody>\n",
       "    <tr>\n",
       "      <th>8</th>\n",
       "      <td>750.01</td>\n",
       "      <td>777.83</td>\n",
       "      <td>20220506</td>\n",
       "      <td>3.4 (2)</td>\n",
       "      <td>27.82</td>\n",
       "      <td>27.82</td>\n",
       "    </tr>\n",
       "    <tr>\n",
       "      <th>12</th>\n",
       "      <td>1150.01</td>\n",
       "      <td>1224.44</td>\n",
       "      <td>20220506</td>\n",
       "      <td>3.4 (2)</td>\n",
       "      <td>74.43</td>\n",
       "      <td>30.00</td>\n",
       "    </tr>\n",
       "    <tr>\n",
       "      <th>23</th>\n",
       "      <td>2130.01</td>\n",
       "      <td>2192.23</td>\n",
       "      <td>20220506</td>\n",
       "      <td>3.4 (2)</td>\n",
       "      <td>62.22</td>\n",
       "      <td>30.00</td>\n",
       "    </tr>\n",
       "    <tr>\n",
       "      <th>10</th>\n",
       "      <td>940.01</td>\n",
       "      <td>982.59</td>\n",
       "      <td>20220506</td>\n",
       "      <td>4.3 (3)</td>\n",
       "      <td>42.58</td>\n",
       "      <td>30.00</td>\n",
       "    </tr>\n",
       "    <tr>\n",
       "      <th>19</th>\n",
       "      <td>1805.01</td>\n",
       "      <td>1831.11</td>\n",
       "      <td>20220506</td>\n",
       "      <td>4.3 (3)</td>\n",
       "      <td>26.10</td>\n",
       "      <td>26.10</td>\n",
       "    </tr>\n",
       "    <tr>\n",
       "      <th>...</th>\n",
       "      <td>...</td>\n",
       "      <td>...</td>\n",
       "      <td>...</td>\n",
       "      <td>...</td>\n",
       "      <td>...</td>\n",
       "      <td>...</td>\n",
       "    </tr>\n",
       "    <tr>\n",
       "      <th>10</th>\n",
       "      <td>940.01</td>\n",
       "      <td>992.62</td>\n",
       "      <td>20220503</td>\n",
       "      <td>2.3</td>\n",
       "      <td>52.61</td>\n",
       "      <td>30.00</td>\n",
       "    </tr>\n",
       "    <tr>\n",
       "      <th>11</th>\n",
       "      <td>1030.01</td>\n",
       "      <td>1070.58</td>\n",
       "      <td>20220503</td>\n",
       "      <td>2.3</td>\n",
       "      <td>40.57</td>\n",
       "      <td>30.00</td>\n",
       "    </tr>\n",
       "    <tr>\n",
       "      <th>12</th>\n",
       "      <td>1150.01</td>\n",
       "      <td>1287.99</td>\n",
       "      <td>20220503</td>\n",
       "      <td>2.3</td>\n",
       "      <td>137.98</td>\n",
       "      <td>30.00</td>\n",
       "    </tr>\n",
       "    <tr>\n",
       "      <th>13</th>\n",
       "      <td>1240.01</td>\n",
       "      <td>1287.99</td>\n",
       "      <td>20220503</td>\n",
       "      <td>2.3</td>\n",
       "      <td>47.98</td>\n",
       "      <td>30.00</td>\n",
       "    </tr>\n",
       "    <tr>\n",
       "      <th>14</th>\n",
       "      <td>1325.01</td>\n",
       "      <td>1405.89</td>\n",
       "      <td>20220503</td>\n",
       "      <td>2.3</td>\n",
       "      <td>80.88</td>\n",
       "      <td>30.00</td>\n",
       "    </tr>\n",
       "  </tbody>\n",
       "</table>\n",
       "<p>488 rows × 6 columns</p>\n",
       "</div>"
      ],
      "text/plain": [
       "    current_tone_time  first_port_entry_after_tone  date_key subject_key  \\\n",
       "8              750.01                       777.83  20220506     3.4 (2)   \n",
       "12            1150.01                      1224.44  20220506     3.4 (2)   \n",
       "23            2130.01                      2192.23  20220506     3.4 (2)   \n",
       "10             940.01                       982.59  20220506     4.3 (3)   \n",
       "19            1805.01                      1831.11  20220506     4.3 (3)   \n",
       "..                ...                          ...       ...         ...   \n",
       "10             940.01                       992.62  20220503         2.3   \n",
       "11            1030.01                      1070.58  20220503         2.3   \n",
       "12            1150.01                      1287.99  20220503         2.3   \n",
       "13            1240.01                      1287.99  20220503         2.3   \n",
       "14            1325.01                      1405.89  20220503         2.3   \n",
       "\n",
       "    latency  latency_adjusted  \n",
       "8     27.82             27.82  \n",
       "12    74.43             30.00  \n",
       "23    62.22             30.00  \n",
       "10    42.58             30.00  \n",
       "19    26.10             26.10  \n",
       "..      ...               ...  \n",
       "10    52.61             30.00  \n",
       "11    40.57             30.00  \n",
       "12   137.98             30.00  \n",
       "13    47.98             30.00  \n",
       "14    80.88             30.00  \n",
       "\n",
       "[488 rows x 6 columns]"
      ]
     },
     "execution_count": 21,
     "metadata": {},
     "output_type": "execute_result"
    }
   ],
   "source": [
    "combined_latency_df[combined_latency_df[\"latency\"] >= 25]"
   ]
  },
  {
   "cell_type": "code",
   "execution_count": 22,
   "id": "d292bc30",
   "metadata": {},
   "outputs": [],
   "source": [
    "combined_latency_df[\"latency_less_than_10_seconds\"] = combined_latency_df[\"latency\"].apply(lambda x: 1 if x <= 10 else 0)"
   ]
  },
  {
   "cell_type": "code",
   "execution_count": 23,
   "id": "04c9dff7",
   "metadata": {},
   "outputs": [
    {
     "data": {
      "text/html": [
       "<div>\n",
       "<style scoped>\n",
       "    .dataframe tbody tr th:only-of-type {\n",
       "        vertical-align: middle;\n",
       "    }\n",
       "\n",
       "    .dataframe tbody tr th {\n",
       "        vertical-align: top;\n",
       "    }\n",
       "\n",
       "    .dataframe thead th {\n",
       "        text-align: right;\n",
       "    }\n",
       "</style>\n",
       "<table border=\"1\" class=\"dataframe\">\n",
       "  <thead>\n",
       "    <tr style=\"text-align: right;\">\n",
       "      <th></th>\n",
       "      <th>current_tone_time</th>\n",
       "      <th>first_port_entry_after_tone</th>\n",
       "      <th>date_key</th>\n",
       "      <th>subject_key</th>\n",
       "      <th>latency</th>\n",
       "      <th>latency_adjusted</th>\n",
       "      <th>latency_less_than_10_seconds</th>\n",
       "    </tr>\n",
       "  </thead>\n",
       "  <tbody>\n",
       "    <tr>\n",
       "      <th>0</th>\n",
       "      <td>60.01</td>\n",
       "      <td>69.00</td>\n",
       "      <td>20220506</td>\n",
       "      <td>3.4 (2)</td>\n",
       "      <td>8.99</td>\n",
       "      <td>8.99</td>\n",
       "      <td>1</td>\n",
       "    </tr>\n",
       "    <tr>\n",
       "      <th>1</th>\n",
       "      <td>140.01</td>\n",
       "      <td>148.27</td>\n",
       "      <td>20220506</td>\n",
       "      <td>3.4 (2)</td>\n",
       "      <td>8.26</td>\n",
       "      <td>8.26</td>\n",
       "      <td>1</td>\n",
       "    </tr>\n",
       "    <tr>\n",
       "      <th>2</th>\n",
       "      <td>230.01</td>\n",
       "      <td>231.91</td>\n",
       "      <td>20220506</td>\n",
       "      <td>3.4 (2)</td>\n",
       "      <td>1.90</td>\n",
       "      <td>1.90</td>\n",
       "      <td>1</td>\n",
       "    </tr>\n",
       "    <tr>\n",
       "      <th>3</th>\n",
       "      <td>310.01</td>\n",
       "      <td>320.97</td>\n",
       "      <td>20220506</td>\n",
       "      <td>3.4 (2)</td>\n",
       "      <td>10.96</td>\n",
       "      <td>10.96</td>\n",
       "      <td>0</td>\n",
       "    </tr>\n",
       "    <tr>\n",
       "      <th>4</th>\n",
       "      <td>385.01</td>\n",
       "      <td>394.75</td>\n",
       "      <td>20220506</td>\n",
       "      <td>3.4 (2)</td>\n",
       "      <td>9.74</td>\n",
       "      <td>9.74</td>\n",
       "      <td>1</td>\n",
       "    </tr>\n",
       "    <tr>\n",
       "      <th>...</th>\n",
       "      <td>...</td>\n",
       "      <td>...</td>\n",
       "      <td>...</td>\n",
       "      <td>...</td>\n",
       "      <td>...</td>\n",
       "      <td>...</td>\n",
       "      <td>...</td>\n",
       "    </tr>\n",
       "    <tr>\n",
       "      <th>36</th>\n",
       "      <td>3345.01</td>\n",
       "      <td>3345.59</td>\n",
       "      <td>20220504</td>\n",
       "      <td>1.1</td>\n",
       "      <td>0.58</td>\n",
       "      <td>0.58</td>\n",
       "      <td>1</td>\n",
       "    </tr>\n",
       "    <tr>\n",
       "      <th>37</th>\n",
       "      <td>3425.01</td>\n",
       "      <td>3429.25</td>\n",
       "      <td>20220504</td>\n",
       "      <td>1.1</td>\n",
       "      <td>4.24</td>\n",
       "      <td>4.24</td>\n",
       "      <td>1</td>\n",
       "    </tr>\n",
       "    <tr>\n",
       "      <th>38</th>\n",
       "      <td>3515.01</td>\n",
       "      <td>3515.92</td>\n",
       "      <td>20220504</td>\n",
       "      <td>1.1</td>\n",
       "      <td>0.91</td>\n",
       "      <td>0.91</td>\n",
       "      <td>1</td>\n",
       "    </tr>\n",
       "    <tr>\n",
       "      <th>39</th>\n",
       "      <td>3615.01</td>\n",
       "      <td>3620.11</td>\n",
       "      <td>20220504</td>\n",
       "      <td>1.1</td>\n",
       "      <td>5.10</td>\n",
       "      <td>5.10</td>\n",
       "      <td>1</td>\n",
       "    </tr>\n",
       "    <tr>\n",
       "      <th>40</th>\n",
       "      <td>3705.01</td>\n",
       "      <td>3711.91</td>\n",
       "      <td>20220504</td>\n",
       "      <td>1.1</td>\n",
       "      <td>6.90</td>\n",
       "      <td>6.90</td>\n",
       "      <td>1</td>\n",
       "    </tr>\n",
       "  </tbody>\n",
       "</table>\n",
       "<p>2319 rows × 7 columns</p>\n",
       "</div>"
      ],
      "text/plain": [
       "    current_tone_time  first_port_entry_after_tone  date_key subject_key  \\\n",
       "0               60.01                        69.00  20220506     3.4 (2)   \n",
       "1              140.01                       148.27  20220506     3.4 (2)   \n",
       "2              230.01                       231.91  20220506     3.4 (2)   \n",
       "3              310.01                       320.97  20220506     3.4 (2)   \n",
       "4              385.01                       394.75  20220506     3.4 (2)   \n",
       "..                ...                          ...       ...         ...   \n",
       "36            3345.01                      3345.59  20220504         1.1   \n",
       "37            3425.01                      3429.25  20220504         1.1   \n",
       "38            3515.01                      3515.92  20220504         1.1   \n",
       "39            3615.01                      3620.11  20220504         1.1   \n",
       "40            3705.01                      3711.91  20220504         1.1   \n",
       "\n",
       "    latency  latency_adjusted  latency_less_than_10_seconds  \n",
       "0      8.99              8.99                             1  \n",
       "1      8.26              8.26                             1  \n",
       "2      1.90              1.90                             1  \n",
       "3     10.96             10.96                             0  \n",
       "4      9.74              9.74                             1  \n",
       "..      ...               ...                           ...  \n",
       "36     0.58              0.58                             1  \n",
       "37     4.24              4.24                             1  \n",
       "38     0.91              0.91                             1  \n",
       "39     5.10              5.10                             1  \n",
       "40     6.90              6.90                             1  \n",
       "\n",
       "[2319 rows x 7 columns]"
      ]
     },
     "execution_count": 23,
     "metadata": {},
     "output_type": "execute_result"
    }
   ],
   "source": [
    "combined_latency_df"
   ]
  },
  {
   "cell_type": "code",
   "execution_count": null,
   "id": "63275eb4",
   "metadata": {},
   "outputs": [],
   "source": []
  },
  {
   "cell_type": "code",
   "execution_count": 24,
   "id": "22a96867",
   "metadata": {},
   "outputs": [],
   "source": [
    "combined_latency_df.to_csv(\"./data/latency_dataframes/all_latencies.csv\")\n",
    "combined_latency_df.to_excel(\"./data/latency_dataframes/all_latencies.xlsx\")\n"
   ]
  },
  {
   "cell_type": "code",
   "execution_count": 25,
   "id": "ac6f1d09",
   "metadata": {},
   "outputs": [
    {
     "data": {
      "text/html": [
       "<div>\n",
       "<style scoped>\n",
       "    .dataframe tbody tr th:only-of-type {\n",
       "        vertical-align: middle;\n",
       "    }\n",
       "\n",
       "    .dataframe tbody tr th {\n",
       "        vertical-align: top;\n",
       "    }\n",
       "\n",
       "    .dataframe thead th {\n",
       "        text-align: right;\n",
       "    }\n",
       "</style>\n",
       "<table border=\"1\" class=\"dataframe\">\n",
       "  <thead>\n",
       "    <tr style=\"text-align: right;\">\n",
       "      <th></th>\n",
       "      <th></th>\n",
       "      <th>current_tone_time</th>\n",
       "      <th>first_port_entry_after_tone</th>\n",
       "      <th>latency</th>\n",
       "      <th>latency_adjusted</th>\n",
       "      <th>latency_less_than_10_seconds</th>\n",
       "    </tr>\n",
       "    <tr>\n",
       "      <th>subject_key</th>\n",
       "      <th>date_key</th>\n",
       "      <th></th>\n",
       "      <th></th>\n",
       "      <th></th>\n",
       "      <th></th>\n",
       "      <th></th>\n",
       "    </tr>\n",
       "  </thead>\n",
       "  <tbody>\n",
       "    <tr>\n",
       "      <th rowspan=\"4\" valign=\"top\">1.1</th>\n",
       "      <th>20220503</th>\n",
       "      <td>675.676667</td>\n",
       "      <td>717.894667</td>\n",
       "      <td>42.218000</td>\n",
       "      <td>19.980000</td>\n",
       "      <td>0.333333</td>\n",
       "    </tr>\n",
       "    <tr>\n",
       "      <th>20220504</th>\n",
       "      <td>1871.473415</td>\n",
       "      <td>1877.520244</td>\n",
       "      <td>6.046829</td>\n",
       "      <td>6.046829</td>\n",
       "      <td>0.780488</td>\n",
       "    </tr>\n",
       "    <tr>\n",
       "      <th>20220505</th>\n",
       "      <td>1825.635000</td>\n",
       "      <td>1837.172750</td>\n",
       "      <td>11.537750</td>\n",
       "      <td>9.446750</td>\n",
       "      <td>0.675000</td>\n",
       "    </tr>\n",
       "    <tr>\n",
       "      <th>20220506</th>\n",
       "      <td>1871.473415</td>\n",
       "      <td>1877.429756</td>\n",
       "      <td>5.956341</td>\n",
       "      <td>5.956341</td>\n",
       "      <td>0.829268</td>\n",
       "    </tr>\n",
       "    <tr>\n",
       "      <th>1.2</th>\n",
       "      <th>20220503</th>\n",
       "      <td>629.295714</td>\n",
       "      <td>679.113571</td>\n",
       "      <td>49.817857</td>\n",
       "      <td>27.120000</td>\n",
       "      <td>0.071429</td>\n",
       "    </tr>\n",
       "    <tr>\n",
       "      <th>...</th>\n",
       "      <th>...</th>\n",
       "      <td>...</td>\n",
       "      <td>...</td>\n",
       "      <td>...</td>\n",
       "      <td>...</td>\n",
       "      <td>...</td>\n",
       "    </tr>\n",
       "    <tr>\n",
       "      <th rowspan=\"4\" valign=\"top\">4.4 (4)</th>\n",
       "      <th>20220503</th>\n",
       "      <td>1779.753590</td>\n",
       "      <td>1810.473846</td>\n",
       "      <td>30.720256</td>\n",
       "      <td>18.912308</td>\n",
       "      <td>0.256410</td>\n",
       "    </tr>\n",
       "    <tr>\n",
       "      <th>20220504</th>\n",
       "      <td>1871.473415</td>\n",
       "      <td>1883.239512</td>\n",
       "      <td>11.766098</td>\n",
       "      <td>10.851463</td>\n",
       "      <td>0.536585</td>\n",
       "    </tr>\n",
       "    <tr>\n",
       "      <th>20220505</th>\n",
       "      <td>1825.635000</td>\n",
       "      <td>1837.915250</td>\n",
       "      <td>12.280250</td>\n",
       "      <td>11.922500</td>\n",
       "      <td>0.525000</td>\n",
       "    </tr>\n",
       "    <tr>\n",
       "      <th>20220506</th>\n",
       "      <td>1825.635000</td>\n",
       "      <td>1836.484500</td>\n",
       "      <td>10.849500</td>\n",
       "      <td>10.543500</td>\n",
       "      <td>0.600000</td>\n",
       "    </tr>\n",
       "    <tr>\n",
       "      <th>leveled_meghan</th>\n",
       "      <th>20220502</th>\n",
       "      <td>105.010000</td>\n",
       "      <td>114.362500</td>\n",
       "      <td>9.352500</td>\n",
       "      <td>8.917500</td>\n",
       "      <td>0.750000</td>\n",
       "    </tr>\n",
       "  </tbody>\n",
       "</table>\n",
       "<p>65 rows × 5 columns</p>\n",
       "</div>"
      ],
      "text/plain": [
       "                         current_tone_time  first_port_entry_after_tone  \\\n",
       "subject_key    date_key                                                   \n",
       "1.1            20220503         675.676667                   717.894667   \n",
       "               20220504        1871.473415                  1877.520244   \n",
       "               20220505        1825.635000                  1837.172750   \n",
       "               20220506        1871.473415                  1877.429756   \n",
       "1.2            20220503         629.295714                   679.113571   \n",
       "...                                    ...                          ...   \n",
       "4.4 (4)        20220503        1779.753590                  1810.473846   \n",
       "               20220504        1871.473415                  1883.239512   \n",
       "               20220505        1825.635000                  1837.915250   \n",
       "               20220506        1825.635000                  1836.484500   \n",
       "leveled_meghan 20220502         105.010000                   114.362500   \n",
       "\n",
       "                           latency  latency_adjusted  \\\n",
       "subject_key    date_key                                \n",
       "1.1            20220503  42.218000         19.980000   \n",
       "               20220504   6.046829          6.046829   \n",
       "               20220505  11.537750          9.446750   \n",
       "               20220506   5.956341          5.956341   \n",
       "1.2            20220503  49.817857         27.120000   \n",
       "...                            ...               ...   \n",
       "4.4 (4)        20220503  30.720256         18.912308   \n",
       "               20220504  11.766098         10.851463   \n",
       "               20220505  12.280250         11.922500   \n",
       "               20220506  10.849500         10.543500   \n",
       "leveled_meghan 20220502   9.352500          8.917500   \n",
       "\n",
       "                         latency_less_than_10_seconds  \n",
       "subject_key    date_key                                \n",
       "1.1            20220503                      0.333333  \n",
       "               20220504                      0.780488  \n",
       "               20220505                      0.675000  \n",
       "               20220506                      0.829268  \n",
       "1.2            20220503                      0.071429  \n",
       "...                                               ...  \n",
       "4.4 (4)        20220503                      0.256410  \n",
       "               20220504                      0.536585  \n",
       "               20220505                      0.525000  \n",
       "               20220506                      0.600000  \n",
       "leveled_meghan 20220502                      0.750000  \n",
       "\n",
       "[65 rows x 5 columns]"
      ]
     },
     "execution_count": 25,
     "metadata": {},
     "output_type": "execute_result"
    }
   ],
   "source": [
    "combined_latency_df.groupby([\"subject_key\", \"date_key\"]).mean()"
   ]
  },
  {
   "cell_type": "code",
   "execution_count": 26,
   "id": "0f7c235b",
   "metadata": {},
   "outputs": [],
   "source": [
    "latency_pivot_plot = combined_latency_df.pivot_table(\n",
    "        values='latency_adjusted', \n",
    "        index=['subject_key'], \n",
    "        columns='date_key', \n",
    "        aggfunc=np.mean)"
   ]
  },
  {
   "cell_type": "code",
   "execution_count": 27,
   "id": "ae06ea26",
   "metadata": {},
   "outputs": [
    {
     "data": {
      "text/html": [
       "<div>\n",
       "<style scoped>\n",
       "    .dataframe tbody tr th:only-of-type {\n",
       "        vertical-align: middle;\n",
       "    }\n",
       "\n",
       "    .dataframe tbody tr th {\n",
       "        vertical-align: top;\n",
       "    }\n",
       "\n",
       "    .dataframe thead th {\n",
       "        text-align: right;\n",
       "    }\n",
       "</style>\n",
       "<table border=\"1\" class=\"dataframe\">\n",
       "  <thead>\n",
       "    <tr style=\"text-align: right;\">\n",
       "      <th>date_key</th>\n",
       "      <th>20220502</th>\n",
       "      <th>20220503</th>\n",
       "      <th>20220504</th>\n",
       "      <th>20220505</th>\n",
       "      <th>20220506</th>\n",
       "    </tr>\n",
       "    <tr>\n",
       "      <th>subject_key</th>\n",
       "      <th></th>\n",
       "      <th></th>\n",
       "      <th></th>\n",
       "      <th></th>\n",
       "      <th></th>\n",
       "    </tr>\n",
       "  </thead>\n",
       "  <tbody>\n",
       "    <tr>\n",
       "      <th>1.1</th>\n",
       "      <td>NaN</td>\n",
       "      <td>19.980000</td>\n",
       "      <td>6.046829</td>\n",
       "      <td>9.446750</td>\n",
       "      <td>5.956341</td>\n",
       "    </tr>\n",
       "    <tr>\n",
       "      <th>1.2</th>\n",
       "      <td>NaN</td>\n",
       "      <td>27.120000</td>\n",
       "      <td>17.573077</td>\n",
       "      <td>11.960732</td>\n",
       "      <td>7.628250</td>\n",
       "    </tr>\n",
       "    <tr>\n",
       "      <th>1.3</th>\n",
       "      <td>NaN</td>\n",
       "      <td>27.746000</td>\n",
       "      <td>21.131316</td>\n",
       "      <td>26.896000</td>\n",
       "      <td>10.405250</td>\n",
       "    </tr>\n",
       "    <tr>\n",
       "      <th>1.4</th>\n",
       "      <td>NaN</td>\n",
       "      <td>22.285333</td>\n",
       "      <td>10.832683</td>\n",
       "      <td>24.336000</td>\n",
       "      <td>12.144634</td>\n",
       "    </tr>\n",
       "    <tr>\n",
       "      <th>2.1</th>\n",
       "      <td>NaN</td>\n",
       "      <td>17.701875</td>\n",
       "      <td>7.473000</td>\n",
       "      <td>10.245122</td>\n",
       "      <td>5.289500</td>\n",
       "    </tr>\n",
       "    <tr>\n",
       "      <th>2.2</th>\n",
       "      <td>NaN</td>\n",
       "      <td>23.155333</td>\n",
       "      <td>11.941707</td>\n",
       "      <td>7.715750</td>\n",
       "      <td>6.103171</td>\n",
       "    </tr>\n",
       "    <tr>\n",
       "      <th>2.3</th>\n",
       "      <td>NaN</td>\n",
       "      <td>28.618000</td>\n",
       "      <td>12.924146</td>\n",
       "      <td>8.330000</td>\n",
       "      <td>4.357805</td>\n",
       "    </tr>\n",
       "    <tr>\n",
       "      <th>2.4</th>\n",
       "      <td>NaN</td>\n",
       "      <td>22.455625</td>\n",
       "      <td>19.794359</td>\n",
       "      <td>12.502000</td>\n",
       "      <td>8.567500</td>\n",
       "    </tr>\n",
       "    <tr>\n",
       "      <th>3.1 (1)</th>\n",
       "      <td>NaN</td>\n",
       "      <td>8.950000</td>\n",
       "      <td>7.805366</td>\n",
       "      <td>7.140250</td>\n",
       "      <td>5.707250</td>\n",
       "    </tr>\n",
       "    <tr>\n",
       "      <th>3.2 (2)</th>\n",
       "      <td>NaN</td>\n",
       "      <td>14.987250</td>\n",
       "      <td>14.513171</td>\n",
       "      <td>10.522927</td>\n",
       "      <td>11.719500</td>\n",
       "    </tr>\n",
       "    <tr>\n",
       "      <th>3.3 (4)</th>\n",
       "      <td>NaN</td>\n",
       "      <td>19.168500</td>\n",
       "      <td>12.190000</td>\n",
       "      <td>11.144737</td>\n",
       "      <td>13.323250</td>\n",
       "    </tr>\n",
       "    <tr>\n",
       "      <th>3.4 (2)</th>\n",
       "      <td>NaN</td>\n",
       "      <td>14.241750</td>\n",
       "      <td>9.688293</td>\n",
       "      <td>6.283500</td>\n",
       "      <td>5.628000</td>\n",
       "    </tr>\n",
       "    <tr>\n",
       "      <th>4.1 (1)</th>\n",
       "      <td>NaN</td>\n",
       "      <td>23.046923</td>\n",
       "      <td>20.778974</td>\n",
       "      <td>17.079024</td>\n",
       "      <td>11.387692</td>\n",
       "    </tr>\n",
       "    <tr>\n",
       "      <th>4.2 (3)</th>\n",
       "      <td>NaN</td>\n",
       "      <td>10.540750</td>\n",
       "      <td>7.612683</td>\n",
       "      <td>17.786585</td>\n",
       "      <td>8.125750</td>\n",
       "    </tr>\n",
       "    <tr>\n",
       "      <th>4.3 (3)</th>\n",
       "      <td>NaN</td>\n",
       "      <td>15.554615</td>\n",
       "      <td>5.837805</td>\n",
       "      <td>9.030250</td>\n",
       "      <td>7.995750</td>\n",
       "    </tr>\n",
       "    <tr>\n",
       "      <th>4.4 (4)</th>\n",
       "      <td>NaN</td>\n",
       "      <td>18.912308</td>\n",
       "      <td>10.851463</td>\n",
       "      <td>11.922500</td>\n",
       "      <td>10.543500</td>\n",
       "    </tr>\n",
       "    <tr>\n",
       "      <th>leveled_meghan</th>\n",
       "      <td>8.9175</td>\n",
       "      <td>NaN</td>\n",
       "      <td>NaN</td>\n",
       "      <td>NaN</td>\n",
       "      <td>NaN</td>\n",
       "    </tr>\n",
       "  </tbody>\n",
       "</table>\n",
       "</div>"
      ],
      "text/plain": [
       "date_key        20220502   20220503   20220504   20220505   20220506\n",
       "subject_key                                                         \n",
       "1.1                  NaN  19.980000   6.046829   9.446750   5.956341\n",
       "1.2                  NaN  27.120000  17.573077  11.960732   7.628250\n",
       "1.3                  NaN  27.746000  21.131316  26.896000  10.405250\n",
       "1.4                  NaN  22.285333  10.832683  24.336000  12.144634\n",
       "2.1                  NaN  17.701875   7.473000  10.245122   5.289500\n",
       "2.2                  NaN  23.155333  11.941707   7.715750   6.103171\n",
       "2.3                  NaN  28.618000  12.924146   8.330000   4.357805\n",
       "2.4                  NaN  22.455625  19.794359  12.502000   8.567500\n",
       "3.1 (1)              NaN   8.950000   7.805366   7.140250   5.707250\n",
       "3.2 (2)              NaN  14.987250  14.513171  10.522927  11.719500\n",
       "3.3 (4)              NaN  19.168500  12.190000  11.144737  13.323250\n",
       "3.4 (2)              NaN  14.241750   9.688293   6.283500   5.628000\n",
       "4.1 (1)              NaN  23.046923  20.778974  17.079024  11.387692\n",
       "4.2 (3)              NaN  10.540750   7.612683  17.786585   8.125750\n",
       "4.3 (3)              NaN  15.554615   5.837805   9.030250   7.995750\n",
       "4.4 (4)              NaN  18.912308  10.851463  11.922500  10.543500\n",
       "leveled_meghan    8.9175        NaN        NaN        NaN        NaN"
      ]
     },
     "execution_count": 27,
     "metadata": {},
     "output_type": "execute_result"
    }
   ],
   "source": [
    "latency_pivot_plot"
   ]
  },
  {
   "cell_type": "code",
   "execution_count": 28,
   "id": "b07568a3",
   "metadata": {},
   "outputs": [],
   "source": [
    "latency_pivot_plot.to_csv(\"./data/latency_dataframes/adjusted_latency_pivot_table.csv\")\n",
    "latency_pivot_plot.to_excel(\"./data/latency_dataframes/adjusted_latency_pivot_table.xlsx\")"
   ]
  },
  {
   "cell_type": "code",
   "execution_count": 29,
   "id": "27f4b760",
   "metadata": {},
   "outputs": [
    {
     "data": {
      "text/plain": [
       "<AxesSubplot:title={'center':'Adjusted Latency to Port from Tone Onset'}, xlabel='Subjects', ylabel='Latency'>"
      ]
     },
     "execution_count": 29,
     "metadata": {},
     "output_type": "execute_result"
    },
    {
     "data": {
      "image/png": "[encoded data removed]",
      "text/plain": [
       "<Figure size 432x288 with 1 Axes>"
      ]
     },
     "metadata": {
      "needs_background": "light"
     },
     "output_type": "display_data"
    }
   ],
   "source": [
    "latency_pivot_plot.plot(y=[\"20220503\", \"20220504\", \"20220505\", \"20220506\"], kind=\"bar\", ylabel=\"Latency\", xlabel=\"Subjects\", title=\"Adjusted Latency to Port from Tone Onset\")"
   ]
  },
  {
   "cell_type": "code",
   "execution_count": 30,
   "id": "94ef0f91",
   "metadata": {},
   "outputs": [],
   "source": [
    "less_than_10_latency_pivot_plot = combined_latency_df.pivot_table(\n",
    "        values='latency_less_than_10_seconds', \n",
    "        index=['subject_key'], \n",
    "        columns='date_key', \n",
    "        aggfunc=np.mean)"
   ]
  },
  {
   "cell_type": "code",
   "execution_count": 31,
   "id": "bca24a52",
   "metadata": {},
   "outputs": [
    {
     "data": {
      "text/html": [
       "<div>\n",
       "<style scoped>\n",
       "    .dataframe tbody tr th:only-of-type {\n",
       "        vertical-align: middle;\n",
       "    }\n",
       "\n",
       "    .dataframe tbody tr th {\n",
       "        vertical-align: top;\n",
       "    }\n",
       "\n",
       "    .dataframe thead th {\n",
       "        text-align: right;\n",
       "    }\n",
       "</style>\n",
       "<table border=\"1\" class=\"dataframe\">\n",
       "  <thead>\n",
       "    <tr style=\"text-align: right;\">\n",
       "      <th>date_key</th>\n",
       "      <th>20220502</th>\n",
       "      <th>20220503</th>\n",
       "      <th>20220504</th>\n",
       "      <th>20220505</th>\n",
       "      <th>20220506</th>\n",
       "    </tr>\n",
       "    <tr>\n",
       "      <th>subject_key</th>\n",
       "      <th></th>\n",
       "      <th></th>\n",
       "      <th></th>\n",
       "      <th></th>\n",
       "      <th></th>\n",
       "    </tr>\n",
       "  </thead>\n",
       "  <tbody>\n",
       "    <tr>\n",
       "      <th>1.1</th>\n",
       "      <td>NaN</td>\n",
       "      <td>0.333333</td>\n",
       "      <td>0.780488</td>\n",
       "      <td>0.675000</td>\n",
       "      <td>0.829268</td>\n",
       "    </tr>\n",
       "    <tr>\n",
       "      <th>1.2</th>\n",
       "      <td>NaN</td>\n",
       "      <td>0.071429</td>\n",
       "      <td>0.410256</td>\n",
       "      <td>0.487805</td>\n",
       "      <td>0.675000</td>\n",
       "    </tr>\n",
       "    <tr>\n",
       "      <th>1.3</th>\n",
       "      <td>NaN</td>\n",
       "      <td>0.000000</td>\n",
       "      <td>0.236842</td>\n",
       "      <td>0.075000</td>\n",
       "      <td>0.600000</td>\n",
       "    </tr>\n",
       "    <tr>\n",
       "      <th>1.4</th>\n",
       "      <td>NaN</td>\n",
       "      <td>0.200000</td>\n",
       "      <td>0.487805</td>\n",
       "      <td>0.200000</td>\n",
       "      <td>0.512195</td>\n",
       "    </tr>\n",
       "    <tr>\n",
       "      <th>2.1</th>\n",
       "      <td>NaN</td>\n",
       "      <td>0.250000</td>\n",
       "      <td>0.775000</td>\n",
       "      <td>0.658537</td>\n",
       "      <td>0.875000</td>\n",
       "    </tr>\n",
       "    <tr>\n",
       "      <th>2.2</th>\n",
       "      <td>NaN</td>\n",
       "      <td>0.200000</td>\n",
       "      <td>0.487805</td>\n",
       "      <td>0.750000</td>\n",
       "      <td>0.804878</td>\n",
       "    </tr>\n",
       "    <tr>\n",
       "      <th>2.3</th>\n",
       "      <td>NaN</td>\n",
       "      <td>0.066667</td>\n",
       "      <td>0.487805</td>\n",
       "      <td>0.725000</td>\n",
       "      <td>0.902439</td>\n",
       "    </tr>\n",
       "    <tr>\n",
       "      <th>2.4</th>\n",
       "      <td>NaN</td>\n",
       "      <td>0.250000</td>\n",
       "      <td>0.282051</td>\n",
       "      <td>0.550000</td>\n",
       "      <td>0.675000</td>\n",
       "    </tr>\n",
       "    <tr>\n",
       "      <th>3.1 (1)</th>\n",
       "      <td>NaN</td>\n",
       "      <td>0.675000</td>\n",
       "      <td>0.780488</td>\n",
       "      <td>0.800000</td>\n",
       "      <td>0.825000</td>\n",
       "    </tr>\n",
       "    <tr>\n",
       "      <th>3.2 (2)</th>\n",
       "      <td>NaN</td>\n",
       "      <td>0.425000</td>\n",
       "      <td>0.463415</td>\n",
       "      <td>0.585366</td>\n",
       "      <td>0.625000</td>\n",
       "    </tr>\n",
       "    <tr>\n",
       "      <th>3.3 (4)</th>\n",
       "      <td>NaN</td>\n",
       "      <td>0.325000</td>\n",
       "      <td>0.550000</td>\n",
       "      <td>0.421053</td>\n",
       "      <td>0.525000</td>\n",
       "    </tr>\n",
       "    <tr>\n",
       "      <th>3.4 (2)</th>\n",
       "      <td>NaN</td>\n",
       "      <td>0.500000</td>\n",
       "      <td>0.609756</td>\n",
       "      <td>0.800000</td>\n",
       "      <td>0.875000</td>\n",
       "    </tr>\n",
       "    <tr>\n",
       "      <th>4.1 (1)</th>\n",
       "      <td>NaN</td>\n",
       "      <td>0.179487</td>\n",
       "      <td>0.205128</td>\n",
       "      <td>0.365854</td>\n",
       "      <td>0.538462</td>\n",
       "    </tr>\n",
       "    <tr>\n",
       "      <th>4.2 (3)</th>\n",
       "      <td>NaN</td>\n",
       "      <td>0.650000</td>\n",
       "      <td>0.682927</td>\n",
       "      <td>0.292683</td>\n",
       "      <td>0.700000</td>\n",
       "    </tr>\n",
       "    <tr>\n",
       "      <th>4.3 (3)</th>\n",
       "      <td>NaN</td>\n",
       "      <td>0.435897</td>\n",
       "      <td>0.829268</td>\n",
       "      <td>0.675000</td>\n",
       "      <td>0.725000</td>\n",
       "    </tr>\n",
       "    <tr>\n",
       "      <th>4.4 (4)</th>\n",
       "      <td>NaN</td>\n",
       "      <td>0.256410</td>\n",
       "      <td>0.536585</td>\n",
       "      <td>0.525000</td>\n",
       "      <td>0.600000</td>\n",
       "    </tr>\n",
       "    <tr>\n",
       "      <th>leveled_meghan</th>\n",
       "      <td>0.75</td>\n",
       "      <td>NaN</td>\n",
       "      <td>NaN</td>\n",
       "      <td>NaN</td>\n",
       "      <td>NaN</td>\n",
       "    </tr>\n",
       "  </tbody>\n",
       "</table>\n",
       "</div>"
      ],
      "text/plain": [
       "date_key        20220502  20220503  20220504  20220505  20220506\n",
       "subject_key                                                     \n",
       "1.1                  NaN  0.333333  0.780488  0.675000  0.829268\n",
       "1.2                  NaN  0.071429  0.410256  0.487805  0.675000\n",
       "1.3                  NaN  0.000000  0.236842  0.075000  0.600000\n",
       "1.4                  NaN  0.200000  0.487805  0.200000  0.512195\n",
       "2.1                  NaN  0.250000  0.775000  0.658537  0.875000\n",
       "2.2                  NaN  0.200000  0.487805  0.750000  0.804878\n",
       "2.3                  NaN  0.066667  0.487805  0.725000  0.902439\n",
       "2.4                  NaN  0.250000  0.282051  0.550000  0.675000\n",
       "3.1 (1)              NaN  0.675000  0.780488  0.800000  0.825000\n",
       "3.2 (2)              NaN  0.425000  0.463415  0.585366  0.625000\n",
       "3.3 (4)              NaN  0.325000  0.550000  0.421053  0.525000\n",
       "3.4 (2)              NaN  0.500000  0.609756  0.800000  0.875000\n",
       "4.1 (1)              NaN  0.179487  0.205128  0.365854  0.538462\n",
       "4.2 (3)              NaN  0.650000  0.682927  0.292683  0.700000\n",
       "4.3 (3)              NaN  0.435897  0.829268  0.675000  0.725000\n",
       "4.4 (4)              NaN  0.256410  0.536585  0.525000  0.600000\n",
       "leveled_meghan      0.75       NaN       NaN       NaN       NaN"
      ]
     },
     "execution_count": 31,
     "metadata": {},
     "output_type": "execute_result"
    }
   ],
   "source": [
    "less_than_10_latency_pivot_plot"
   ]
  },
  {
   "cell_type": "code",
   "execution_count": 32,
   "id": "2b149ba9",
   "metadata": {},
   "outputs": [],
   "source": [
    "less_than_10_latency_pivot_plot.to_csv(\"./data/latency_dataframes/less_than_10_latency_pivot_table.csv\")\n",
    "less_than_10_latency_pivot_plot.to_excel(\"./data/latency_dataframes/less_than_10_latency_pivot_table.xlsx\")"
   ]
  },
  {
   "cell_type": "code",
   "execution_count": 33,
   "id": "d7880494",
   "metadata": {},
   "outputs": [
    {
     "data": {
      "text/plain": [
       "<AxesSubplot:title={'center':'Ratio of Latencies Less than 10 Seconds Over Time'}, xlabel='Subjects', ylabel='Ratio of Latencies less than 10 Seconds'>"
      ]
     },
     "execution_count": 33,
     "metadata": {},
     "output_type": "execute_result"
    },
    {
     "data": {
      "image/png": "[encoded data removed]",
      "text/plain": [
       "<Figure size 432x288 with 1 Axes>"
      ]
     },
     "metadata": {
      "needs_background": "light"
     },
     "output_type": "display_data"
    }
   ],
   "source": [
    "less_than_10_latency_pivot_plot.plot(y=[\"20220503\", \"20220504\", \"20220505\", \"20220506\"], kind=\"bar\", ylabel=\"Ratio of Latencies less than 10 Seconds\", xlabel=\"Subjects\", title=\"Ratio of Latencies Less than 10 Seconds Over Time\")"
   ]
  },
  {
   "cell_type": "markdown",
   "id": "7a31db38",
   "metadata": {},
   "source": [
    "# Getting the port entry precision"
   ]
  },
  {
   "cell_type": "markdown",
   "id": "3c070c80",
   "metadata": {},
   "source": [
    "## 1. Get all the numbers that are within the duration"
   ]
  },
  {
   "cell_type": "markdown",
   "id": "cd17171b",
   "metadata": {},
   "source": [
    "### 1.1 Processing the Dataframe to remove all rows with NaNs"
   ]
  },
  {
   "cell_type": "code",
   "execution_count": 157,
   "id": "51a0aa60",
   "metadata": {},
   "outputs": [],
   "source": [
    "example_med_pc_df = file_path_to_med_pc_data[\"./data/timestamp_dataframes/2022-05-03_14h49m_Subject 3.2 (2).txt\"][\"med_pc_df\"]\n",
    "example_med_pc_df = example_med_pc_df.dropna(subset=(\"(P)Portentry\", \"(N)Portexit\"))"
   ]
  },
  {
   "cell_type": "code",
   "execution_count": 158,
   "id": "5a1e4755",
   "metadata": {},
   "outputs": [
    {
     "data": {
      "text/html": [
       "<div>\n",
       "<style scoped>\n",
       "    .dataframe tbody tr th:only-of-type {\n",
       "        vertical-align: middle;\n",
       "    }\n",
       "\n",
       "    .dataframe tbody tr th {\n",
       "        vertical-align: top;\n",
       "    }\n",
       "\n",
       "    .dataframe thead th {\n",
       "        text-align: right;\n",
       "    }\n",
       "</style>\n",
       "<table border=\"1\" class=\"dataframe\">\n",
       "  <thead>\n",
       "    <tr style=\"text-align: right;\">\n",
       "      <th></th>\n",
       "      <th>(P)Portentry</th>\n",
       "      <th>(Q)USdelivery</th>\n",
       "      <th>(R)UStime</th>\n",
       "      <th>(W)ITIvalues</th>\n",
       "      <th>(S)CSpresentation</th>\n",
       "      <th>(N)Portexit</th>\n",
       "      <th>(K)CStype</th>\n",
       "      <th>(B)shockintensity</th>\n",
       "    </tr>\n",
       "  </thead>\n",
       "  <tbody>\n",
       "    <tr>\n",
       "      <th>0</th>\n",
       "      <td>71.36</td>\n",
       "      <td>64.0</td>\n",
       "      <td>399.0</td>\n",
       "      <td>0.0</td>\n",
       "      <td>60.01</td>\n",
       "      <td>71.42</td>\n",
       "      <td>1.0</td>\n",
       "      <td>0.0</td>\n",
       "    </tr>\n",
       "    <tr>\n",
       "      <th>1</th>\n",
       "      <td>71.77</td>\n",
       "      <td>144.0</td>\n",
       "      <td>399.0</td>\n",
       "      <td>0.0</td>\n",
       "      <td>140.01</td>\n",
       "      <td>84.39</td>\n",
       "      <td>1.0</td>\n",
       "      <td>0.0</td>\n",
       "    </tr>\n",
       "    <tr>\n",
       "      <th>2</th>\n",
       "      <td>84.47</td>\n",
       "      <td>234.0</td>\n",
       "      <td>399.0</td>\n",
       "      <td>0.0</td>\n",
       "      <td>230.01</td>\n",
       "      <td>85.11</td>\n",
       "      <td>1.0</td>\n",
       "      <td>0.0</td>\n",
       "    </tr>\n",
       "    <tr>\n",
       "      <th>3</th>\n",
       "      <td>107.97</td>\n",
       "      <td>314.0</td>\n",
       "      <td>399.0</td>\n",
       "      <td>0.0</td>\n",
       "      <td>310.01</td>\n",
       "      <td>116.64</td>\n",
       "      <td>1.0</td>\n",
       "      <td>0.0</td>\n",
       "    </tr>\n",
       "    <tr>\n",
       "      <th>4</th>\n",
       "      <td>157.91</td>\n",
       "      <td>489.0</td>\n",
       "      <td>399.0</td>\n",
       "      <td>0.0</td>\n",
       "      <td>385.01</td>\n",
       "      <td>158.15</td>\n",
       "      <td>1.0</td>\n",
       "      <td>0.0</td>\n",
       "    </tr>\n",
       "    <tr>\n",
       "      <th>...</th>\n",
       "      <td>...</td>\n",
       "      <td>...</td>\n",
       "      <td>...</td>\n",
       "      <td>...</td>\n",
       "      <td>...</td>\n",
       "      <td>...</td>\n",
       "      <td>...</td>\n",
       "      <td>...</td>\n",
       "    </tr>\n",
       "    <tr>\n",
       "      <th>334</th>\n",
       "      <td>3620.40</td>\n",
       "      <td>NaN</td>\n",
       "      <td>NaN</td>\n",
       "      <td>0.0</td>\n",
       "      <td>NaN</td>\n",
       "      <td>3620.80</td>\n",
       "      <td>0.0</td>\n",
       "      <td>0.0</td>\n",
       "    </tr>\n",
       "    <tr>\n",
       "      <th>335</th>\n",
       "      <td>3625.02</td>\n",
       "      <td>NaN</td>\n",
       "      <td>NaN</td>\n",
       "      <td>0.0</td>\n",
       "      <td>NaN</td>\n",
       "      <td>3637.30</td>\n",
       "      <td>0.0</td>\n",
       "      <td>0.0</td>\n",
       "    </tr>\n",
       "    <tr>\n",
       "      <th>336</th>\n",
       "      <td>3644.60</td>\n",
       "      <td>NaN</td>\n",
       "      <td>NaN</td>\n",
       "      <td>0.0</td>\n",
       "      <td>NaN</td>\n",
       "      <td>3650.22</td>\n",
       "      <td>0.0</td>\n",
       "      <td>0.0</td>\n",
       "    </tr>\n",
       "    <tr>\n",
       "      <th>337</th>\n",
       "      <td>3656.06</td>\n",
       "      <td>NaN</td>\n",
       "      <td>NaN</td>\n",
       "      <td>0.0</td>\n",
       "      <td>NaN</td>\n",
       "      <td>3656.84</td>\n",
       "      <td>0.0</td>\n",
       "      <td>0.0</td>\n",
       "    </tr>\n",
       "    <tr>\n",
       "      <th>338</th>\n",
       "      <td>3663.34</td>\n",
       "      <td>NaN</td>\n",
       "      <td>NaN</td>\n",
       "      <td>0.0</td>\n",
       "      <td>NaN</td>\n",
       "      <td>3703.95</td>\n",
       "      <td>0.0</td>\n",
       "      <td>0.0</td>\n",
       "    </tr>\n",
       "  </tbody>\n",
       "</table>\n",
       "<p>339 rows × 8 columns</p>\n",
       "</div>"
      ],
      "text/plain": [
       "     (P)Portentry  (Q)USdelivery  (R)UStime  (W)ITIvalues  (S)CSpresentation  \\\n",
       "0           71.36           64.0      399.0           0.0              60.01   \n",
       "1           71.77          144.0      399.0           0.0             140.01   \n",
       "2           84.47          234.0      399.0           0.0             230.01   \n",
       "3          107.97          314.0      399.0           0.0             310.01   \n",
       "4          157.91          489.0      399.0           0.0             385.01   \n",
       "..            ...            ...        ...           ...                ...   \n",
       "334       3620.40            NaN        NaN           0.0                NaN   \n",
       "335       3625.02            NaN        NaN           0.0                NaN   \n",
       "336       3644.60            NaN        NaN           0.0                NaN   \n",
       "337       3656.06            NaN        NaN           0.0                NaN   \n",
       "338       3663.34            NaN        NaN           0.0                NaN   \n",
       "\n",
       "     (N)Portexit  (K)CStype  (B)shockintensity  \n",
       "0          71.42        1.0                0.0  \n",
       "1          84.39        1.0                0.0  \n",
       "2          85.11        1.0                0.0  \n",
       "3         116.64        1.0                0.0  \n",
       "4         158.15        1.0                0.0  \n",
       "..           ...        ...                ...  \n",
       "334      3620.80        0.0                0.0  \n",
       "335      3637.30        0.0                0.0  \n",
       "336      3650.22        0.0                0.0  \n",
       "337      3656.84        0.0                0.0  \n",
       "338      3703.95        0.0                0.0  \n",
       "\n",
       "[339 rows x 8 columns]"
      ]
     },
     "execution_count": 158,
     "metadata": {},
     "output_type": "execute_result"
    }
   ],
   "source": [
    "example_med_pc_df"
   ]
  },
  {
   "cell_type": "markdown",
   "id": "691b9ce2",
   "metadata": {},
   "source": [
    "### 1.2 Making All the Times Into Whole Numbers"
   ]
  },
  {
   "cell_type": "code",
   "execution_count": 167,
   "id": "16199707",
   "metadata": {},
   "outputs": [],
   "source": [
    "def scale_time_to_whole_number(time, multiplier=100):\n",
    "    \"\"\"\n",
    "    Function used to convert times that are floats into whole numbers by scaling it. i.e. from 71.36 to 7136\n",
    "    This is used with pandas.DataFrame.apply/pandas.Series.apply to convert a column of float times to integer times.\n",
    "\n",
    "    Args:\n",
    "        time: float\n",
    "            - The time in seconds that something is happening\n",
    "    Returns: \n",
    "        int:\n",
    "            - Converted whole number time\n",
    "    \"\"\"\n",
    "    try:\n",
    "        if np.isnan(time):\n",
    "            return 0\n",
    "        else:\n",
    "            return int(time * multiplier)\n",
    "    except:\n",
    "        return 0"
   ]
  },
  {
   "cell_type": "code",
   "execution_count": 160,
   "id": "8cf594c9",
   "metadata": {},
   "outputs": [
    {
     "name": "stderr",
     "output_type": "stream",
     "text": [
      "/tmp/ipykernel_4194049/4182473659.py:1: SettingWithCopyWarning: \n",
      "A value is trying to be set on a copy of a slice from a DataFrame.\n",
      "Try using .loc[row_indexer,col_indexer] = value instead\n",
      "\n",
      "See the caveats in the documentation: https://pandas.pydata.org/pandas-docs/stable/user_guide/indexing.html#returning-a-view-versus-a-copy\n",
      "  example_med_pc_df[\"port_entry_scaled\"] = example_med_pc_df[\"(P)Portentry\"].apply(lambda x: scale_time_to_whole_number(x))\n",
      "/tmp/ipykernel_4194049/4182473659.py:2: SettingWithCopyWarning: \n",
      "A value is trying to be set on a copy of a slice from a DataFrame.\n",
      "Try using .loc[row_indexer,col_indexer] = value instead\n",
      "\n",
      "See the caveats in the documentation: https://pandas.pydata.org/pandas-docs/stable/user_guide/indexing.html#returning-a-view-versus-a-copy\n",
      "  example_med_pc_df[\"port_exit_scaled\"] = example_med_pc_df[\"(N)Portexit\"].apply(lambda x: scale_time_to_whole_number(x))\n",
      "/tmp/ipykernel_4194049/4182473659.py:3: SettingWithCopyWarning: \n",
      "A value is trying to be set on a copy of a slice from a DataFrame.\n",
      "Try using .loc[row_indexer,col_indexer] = value instead\n",
      "\n",
      "See the caveats in the documentation: https://pandas.pydata.org/pandas-docs/stable/user_guide/indexing.html#returning-a-view-versus-a-copy\n",
      "  example_med_pc_df[\"tone_start_scaled\"] = example_med_pc_df[\"(S)CSpresentation\"].apply(lambda x: scale_time_to_whole_number(x))\n"
     ]
    }
   ],
   "source": [
    "example_med_pc_df[\"port_entry_scaled\"] = example_med_pc_df[\"(P)Portentry\"].apply(lambda x: scale_time_to_whole_number(x))\n",
    "example_med_pc_df[\"port_exit_scaled\"] = example_med_pc_df[\"(N)Portexit\"].apply(lambda x: scale_time_to_whole_number(x))\n",
    "example_med_pc_df[\"tone_start_scaled\"] = example_med_pc_df[\"(S)CSpresentation\"].apply(lambda x: scale_time_to_whole_number(x))"
   ]
  },
  {
   "cell_type": "code",
   "execution_count": 162,
   "id": "3834f68f",
   "metadata": {
    "scrolled": true
   },
   "outputs": [
    {
     "data": {
      "text/html": [
       "<div>\n",
       "<style scoped>\n",
       "    .dataframe tbody tr th:only-of-type {\n",
       "        vertical-align: middle;\n",
       "    }\n",
       "\n",
       "    .dataframe tbody tr th {\n",
       "        vertical-align: top;\n",
       "    }\n",
       "\n",
       "    .dataframe thead th {\n",
       "        text-align: right;\n",
       "    }\n",
       "</style>\n",
       "<table border=\"1\" class=\"dataframe\">\n",
       "  <thead>\n",
       "    <tr style=\"text-align: right;\">\n",
       "      <th></th>\n",
       "      <th>(P)Portentry</th>\n",
       "      <th>(Q)USdelivery</th>\n",
       "      <th>(R)UStime</th>\n",
       "      <th>(W)ITIvalues</th>\n",
       "      <th>(S)CSpresentation</th>\n",
       "      <th>(N)Portexit</th>\n",
       "      <th>(K)CStype</th>\n",
       "      <th>(B)shockintensity</th>\n",
       "      <th>port_entry_scaled</th>\n",
       "      <th>port_exit_scaled</th>\n",
       "      <th>tone_start_scaled</th>\n",
       "    </tr>\n",
       "  </thead>\n",
       "  <tbody>\n",
       "    <tr>\n",
       "      <th>0</th>\n",
       "      <td>71.36</td>\n",
       "      <td>64.0</td>\n",
       "      <td>399.0</td>\n",
       "      <td>0.0</td>\n",
       "      <td>60.01</td>\n",
       "      <td>71.42</td>\n",
       "      <td>1.0</td>\n",
       "      <td>0.0</td>\n",
       "      <td>7136</td>\n",
       "      <td>7142</td>\n",
       "      <td>6001</td>\n",
       "    </tr>\n",
       "    <tr>\n",
       "      <th>1</th>\n",
       "      <td>71.77</td>\n",
       "      <td>144.0</td>\n",
       "      <td>399.0</td>\n",
       "      <td>0.0</td>\n",
       "      <td>140.01</td>\n",
       "      <td>84.39</td>\n",
       "      <td>1.0</td>\n",
       "      <td>0.0</td>\n",
       "      <td>7177</td>\n",
       "      <td>8439</td>\n",
       "      <td>14001</td>\n",
       "    </tr>\n",
       "    <tr>\n",
       "      <th>2</th>\n",
       "      <td>84.47</td>\n",
       "      <td>234.0</td>\n",
       "      <td>399.0</td>\n",
       "      <td>0.0</td>\n",
       "      <td>230.01</td>\n",
       "      <td>85.11</td>\n",
       "      <td>1.0</td>\n",
       "      <td>0.0</td>\n",
       "      <td>8447</td>\n",
       "      <td>8511</td>\n",
       "      <td>23001</td>\n",
       "    </tr>\n",
       "    <tr>\n",
       "      <th>3</th>\n",
       "      <td>107.97</td>\n",
       "      <td>314.0</td>\n",
       "      <td>399.0</td>\n",
       "      <td>0.0</td>\n",
       "      <td>310.01</td>\n",
       "      <td>116.64</td>\n",
       "      <td>1.0</td>\n",
       "      <td>0.0</td>\n",
       "      <td>10797</td>\n",
       "      <td>11664</td>\n",
       "      <td>31001</td>\n",
       "    </tr>\n",
       "    <tr>\n",
       "      <th>4</th>\n",
       "      <td>157.91</td>\n",
       "      <td>489.0</td>\n",
       "      <td>399.0</td>\n",
       "      <td>0.0</td>\n",
       "      <td>385.01</td>\n",
       "      <td>158.15</td>\n",
       "      <td>1.0</td>\n",
       "      <td>0.0</td>\n",
       "      <td>15791</td>\n",
       "      <td>15815</td>\n",
       "      <td>38501</td>\n",
       "    </tr>\n",
       "    <tr>\n",
       "      <th>5</th>\n",
       "      <td>204.79</td>\n",
       "      <td>584.0</td>\n",
       "      <td>399.0</td>\n",
       "      <td>0.0</td>\n",
       "      <td>485.01</td>\n",
       "      <td>205.06</td>\n",
       "      <td>1.0</td>\n",
       "      <td>0.0</td>\n",
       "      <td>20479</td>\n",
       "      <td>20506</td>\n",
       "      <td>48501</td>\n",
       "    </tr>\n",
       "    <tr>\n",
       "      <th>6</th>\n",
       "      <td>205.08</td>\n",
       "      <td>674.0</td>\n",
       "      <td>399.0</td>\n",
       "      <td>0.0</td>\n",
       "      <td>580.01</td>\n",
       "      <td>209.32</td>\n",
       "      <td>1.0</td>\n",
       "      <td>0.0</td>\n",
       "      <td>20508</td>\n",
       "      <td>20932</td>\n",
       "      <td>58001</td>\n",
       "    </tr>\n",
       "    <tr>\n",
       "      <th>7</th>\n",
       "      <td>298.49</td>\n",
       "      <td>754.0</td>\n",
       "      <td>399.0</td>\n",
       "      <td>0.0</td>\n",
       "      <td>670.01</td>\n",
       "      <td>304.61</td>\n",
       "      <td>1.0</td>\n",
       "      <td>0.0</td>\n",
       "      <td>29849</td>\n",
       "      <td>30461</td>\n",
       "      <td>67001</td>\n",
       "    </tr>\n",
       "    <tr>\n",
       "      <th>8</th>\n",
       "      <td>385.34</td>\n",
       "      <td>844.0</td>\n",
       "      <td>399.0</td>\n",
       "      <td>0.0</td>\n",
       "      <td>750.01</td>\n",
       "      <td>385.40</td>\n",
       "      <td>1.0</td>\n",
       "      <td>0.0</td>\n",
       "      <td>38534</td>\n",
       "      <td>38540</td>\n",
       "      <td>75001</td>\n",
       "    </tr>\n",
       "    <tr>\n",
       "      <th>9</th>\n",
       "      <td>385.47</td>\n",
       "      <td>944.0</td>\n",
       "      <td>399.0</td>\n",
       "      <td>0.0</td>\n",
       "      <td>840.01</td>\n",
       "      <td>395.82</td>\n",
       "      <td>1.0</td>\n",
       "      <td>0.0</td>\n",
       "      <td>38547</td>\n",
       "      <td>39582</td>\n",
       "      <td>84001</td>\n",
       "    </tr>\n",
       "    <tr>\n",
       "      <th>10</th>\n",
       "      <td>396.32</td>\n",
       "      <td>1034.0</td>\n",
       "      <td>399.0</td>\n",
       "      <td>0.0</td>\n",
       "      <td>940.01</td>\n",
       "      <td>396.42</td>\n",
       "      <td>1.0</td>\n",
       "      <td>0.0</td>\n",
       "      <td>39632</td>\n",
       "      <td>39642</td>\n",
       "      <td>94001</td>\n",
       "    </tr>\n",
       "    <tr>\n",
       "      <th>11</th>\n",
       "      <td>396.45</td>\n",
       "      <td>1154.0</td>\n",
       "      <td>399.0</td>\n",
       "      <td>0.0</td>\n",
       "      <td>1030.01</td>\n",
       "      <td>396.80</td>\n",
       "      <td>1.0</td>\n",
       "      <td>0.0</td>\n",
       "      <td>39645</td>\n",
       "      <td>39680</td>\n",
       "      <td>103001</td>\n",
       "    </tr>\n",
       "    <tr>\n",
       "      <th>12</th>\n",
       "      <td>405.44</td>\n",
       "      <td>1244.0</td>\n",
       "      <td>399.0</td>\n",
       "      <td>0.0</td>\n",
       "      <td>1150.01</td>\n",
       "      <td>408.05</td>\n",
       "      <td>1.0</td>\n",
       "      <td>0.0</td>\n",
       "      <td>40544</td>\n",
       "      <td>40805</td>\n",
       "      <td>115001</td>\n",
       "    </tr>\n",
       "    <tr>\n",
       "      <th>13</th>\n",
       "      <td>449.59</td>\n",
       "      <td>1329.0</td>\n",
       "      <td>399.0</td>\n",
       "      <td>0.0</td>\n",
       "      <td>1240.01</td>\n",
       "      <td>451.43</td>\n",
       "      <td>1.0</td>\n",
       "      <td>0.0</td>\n",
       "      <td>44959</td>\n",
       "      <td>45143</td>\n",
       "      <td>124001</td>\n",
       "    </tr>\n",
       "    <tr>\n",
       "      <th>14</th>\n",
       "      <td>451.98</td>\n",
       "      <td>1419.0</td>\n",
       "      <td>399.0</td>\n",
       "      <td>0.0</td>\n",
       "      <td>1325.01</td>\n",
       "      <td>452.02</td>\n",
       "      <td>1.0</td>\n",
       "      <td>0.0</td>\n",
       "      <td>45198</td>\n",
       "      <td>45202</td>\n",
       "      <td>132501</td>\n",
       "    </tr>\n",
       "    <tr>\n",
       "      <th>15</th>\n",
       "      <td>465.60</td>\n",
       "      <td>1514.0</td>\n",
       "      <td>399.0</td>\n",
       "      <td>0.0</td>\n",
       "      <td>1415.01</td>\n",
       "      <td>465.72</td>\n",
       "      <td>1.0</td>\n",
       "      <td>0.0</td>\n",
       "      <td>46560</td>\n",
       "      <td>46572</td>\n",
       "      <td>141501</td>\n",
       "    </tr>\n",
       "    <tr>\n",
       "      <th>16</th>\n",
       "      <td>465.75</td>\n",
       "      <td>1634.0</td>\n",
       "      <td>399.0</td>\n",
       "      <td>0.0</td>\n",
       "      <td>1510.01</td>\n",
       "      <td>465.81</td>\n",
       "      <td>1.0</td>\n",
       "      <td>0.0</td>\n",
       "      <td>46575</td>\n",
       "      <td>46581</td>\n",
       "      <td>151001</td>\n",
       "    </tr>\n",
       "    <tr>\n",
       "      <th>17</th>\n",
       "      <td>465.83</td>\n",
       "      <td>1714.0</td>\n",
       "      <td>399.0</td>\n",
       "      <td>0.0</td>\n",
       "      <td>1630.01</td>\n",
       "      <td>467.55</td>\n",
       "      <td>1.0</td>\n",
       "      <td>0.0</td>\n",
       "      <td>46583</td>\n",
       "      <td>46755</td>\n",
       "      <td>163001</td>\n",
       "    </tr>\n",
       "    <tr>\n",
       "      <th>18</th>\n",
       "      <td>467.58</td>\n",
       "      <td>1809.0</td>\n",
       "      <td>399.0</td>\n",
       "      <td>0.0</td>\n",
       "      <td>1710.01</td>\n",
       "      <td>467.62</td>\n",
       "      <td>1.0</td>\n",
       "      <td>0.0</td>\n",
       "      <td>46758</td>\n",
       "      <td>46762</td>\n",
       "      <td>171001</td>\n",
       "    </tr>\n",
       "    <tr>\n",
       "      <th>19</th>\n",
       "      <td>467.68</td>\n",
       "      <td>1889.0</td>\n",
       "      <td>399.0</td>\n",
       "      <td>0.0</td>\n",
       "      <td>1805.01</td>\n",
       "      <td>467.87</td>\n",
       "      <td>1.0</td>\n",
       "      <td>0.0</td>\n",
       "      <td>46768</td>\n",
       "      <td>46787</td>\n",
       "      <td>180501</td>\n",
       "    </tr>\n",
       "    <tr>\n",
       "      <th>20</th>\n",
       "      <td>487.15</td>\n",
       "      <td>1979.0</td>\n",
       "      <td>399.0</td>\n",
       "      <td>0.0</td>\n",
       "      <td>1885.01</td>\n",
       "      <td>504.15</td>\n",
       "      <td>1.0</td>\n",
       "      <td>0.0</td>\n",
       "      <td>48715</td>\n",
       "      <td>50415</td>\n",
       "      <td>188501</td>\n",
       "    </tr>\n",
       "    <tr>\n",
       "      <th>21</th>\n",
       "      <td>504.69</td>\n",
       "      <td>2059.0</td>\n",
       "      <td>399.0</td>\n",
       "      <td>0.0</td>\n",
       "      <td>1975.01</td>\n",
       "      <td>504.95</td>\n",
       "      <td>1.0</td>\n",
       "      <td>0.0</td>\n",
       "      <td>50469</td>\n",
       "      <td>50495</td>\n",
       "      <td>197501</td>\n",
       "    </tr>\n",
       "    <tr>\n",
       "      <th>22</th>\n",
       "      <td>505.22</td>\n",
       "      <td>2134.0</td>\n",
       "      <td>399.0</td>\n",
       "      <td>0.0</td>\n",
       "      <td>2055.01</td>\n",
       "      <td>505.28</td>\n",
       "      <td>1.0</td>\n",
       "      <td>0.0</td>\n",
       "      <td>50522</td>\n",
       "      <td>50528</td>\n",
       "      <td>205501</td>\n",
       "    </tr>\n",
       "    <tr>\n",
       "      <th>23</th>\n",
       "      <td>505.30</td>\n",
       "      <td>2234.0</td>\n",
       "      <td>399.0</td>\n",
       "      <td>0.0</td>\n",
       "      <td>2130.01</td>\n",
       "      <td>505.37</td>\n",
       "      <td>1.0</td>\n",
       "      <td>0.0</td>\n",
       "      <td>50530</td>\n",
       "      <td>50537</td>\n",
       "      <td>213001</td>\n",
       "    </tr>\n",
       "    <tr>\n",
       "      <th>24</th>\n",
       "      <td>505.42</td>\n",
       "      <td>2329.0</td>\n",
       "      <td>399.0</td>\n",
       "      <td>0.0</td>\n",
       "      <td>2230.01</td>\n",
       "      <td>505.47</td>\n",
       "      <td>1.0</td>\n",
       "      <td>0.0</td>\n",
       "      <td>50542</td>\n",
       "      <td>50547</td>\n",
       "      <td>223001</td>\n",
       "    </tr>\n",
       "  </tbody>\n",
       "</table>\n",
       "</div>"
      ],
      "text/plain": [
       "    (P)Portentry  (Q)USdelivery  (R)UStime  (W)ITIvalues  (S)CSpresentation  \\\n",
       "0          71.36           64.0      399.0           0.0              60.01   \n",
       "1          71.77          144.0      399.0           0.0             140.01   \n",
       "2          84.47          234.0      399.0           0.0             230.01   \n",
       "3         107.97          314.0      399.0           0.0             310.01   \n",
       "4         157.91          489.0      399.0           0.0             385.01   \n",
       "5         204.79          584.0      399.0           0.0             485.01   \n",
       "6         205.08          674.0      399.0           0.0             580.01   \n",
       "7         298.49          754.0      399.0           0.0             670.01   \n",
       "8         385.34          844.0      399.0           0.0             750.01   \n",
       "9         385.47          944.0      399.0           0.0             840.01   \n",
       "10        396.32         1034.0      399.0           0.0             940.01   \n",
       "11        396.45         1154.0      399.0           0.0            1030.01   \n",
       "12        405.44         1244.0      399.0           0.0            1150.01   \n",
       "13        449.59         1329.0      399.0           0.0            1240.01   \n",
       "14        451.98         1419.0      399.0           0.0            1325.01   \n",
       "15        465.60         1514.0      399.0           0.0            1415.01   \n",
       "16        465.75         1634.0      399.0           0.0            1510.01   \n",
       "17        465.83         1714.0      399.0           0.0            1630.01   \n",
       "18        467.58         1809.0      399.0           0.0            1710.01   \n",
       "19        467.68         1889.0      399.0           0.0            1805.01   \n",
       "20        487.15         1979.0      399.0           0.0            1885.01   \n",
       "21        504.69         2059.0      399.0           0.0            1975.01   \n",
       "22        505.22         2134.0      399.0           0.0            2055.01   \n",
       "23        505.30         2234.0      399.0           0.0            2130.01   \n",
       "24        505.42         2329.0      399.0           0.0            2230.01   \n",
       "\n",
       "    (N)Portexit  (K)CStype  (B)shockintensity  port_entry_scaled  \\\n",
       "0         71.42        1.0                0.0               7136   \n",
       "1         84.39        1.0                0.0               7177   \n",
       "2         85.11        1.0                0.0               8447   \n",
       "3        116.64        1.0                0.0              10797   \n",
       "4        158.15        1.0                0.0              15791   \n",
       "5        205.06        1.0                0.0              20479   \n",
       "6        209.32        1.0                0.0              20508   \n",
       "7        304.61        1.0                0.0              29849   \n",
       "8        385.40        1.0                0.0              38534   \n",
       "9        395.82        1.0                0.0              38547   \n",
       "10       396.42        1.0                0.0              39632   \n",
       "11       396.80        1.0                0.0              39645   \n",
       "12       408.05        1.0                0.0              40544   \n",
       "13       451.43        1.0                0.0              44959   \n",
       "14       452.02        1.0                0.0              45198   \n",
       "15       465.72        1.0                0.0              46560   \n",
       "16       465.81        1.0                0.0              46575   \n",
       "17       467.55        1.0                0.0              46583   \n",
       "18       467.62        1.0                0.0              46758   \n",
       "19       467.87        1.0                0.0              46768   \n",
       "20       504.15        1.0                0.0              48715   \n",
       "21       504.95        1.0                0.0              50469   \n",
       "22       505.28        1.0                0.0              50522   \n",
       "23       505.37        1.0                0.0              50530   \n",
       "24       505.47        1.0                0.0              50542   \n",
       "\n",
       "    port_exit_scaled  tone_start_scaled  \n",
       "0               7142               6001  \n",
       "1               8439              14001  \n",
       "2               8511              23001  \n",
       "3              11664              31001  \n",
       "4              15815              38501  \n",
       "5              20506              48501  \n",
       "6              20932              58001  \n",
       "7              30461              67001  \n",
       "8              38540              75001  \n",
       "9              39582              84001  \n",
       "10             39642              94001  \n",
       "11             39680             103001  \n",
       "12             40805             115001  \n",
       "13             45143             124001  \n",
       "14             45202             132501  \n",
       "15             46572             141501  \n",
       "16             46581             151001  \n",
       "17             46755             163001  \n",
       "18             46762             171001  \n",
       "19             46787             180501  \n",
       "20             50415             188501  \n",
       "21             50495             197501  \n",
       "22             50528             205501  \n",
       "23             50537             213001  \n",
       "24             50547             223001  "
      ]
     },
     "execution_count": 162,
     "metadata": {},
     "output_type": "execute_result"
    }
   ],
   "source": [
    "example_med_pc_df.head(n=25)"
   ]
  },
  {
   "cell_type": "code",
   "execution_count": 169,
   "id": "b62f7baf",
   "metadata": {},
   "outputs": [],
   "source": [
    "def get_all_port_entry_increments(port_entry_scaled, port_exit_scaled):\n",
    "    \"\"\"\n",
    "    Gets all the numbers that are in the duration of the port entry and port exit times. \n",
    "    i.e. If the port entry was 7136 and port exit was 7142, we'd get [7136, 7137, 7138, 7139, 7140, 7141, 7142]\n",
    "    This is done for all port entry and port exit times pairs between two Pandas Series\n",
    "\n",
    "    Args:\n",
    "        port_entry_scaled: Pandas Series\n",
    "            - A column from a MED-PC Dataframe that has all the port entry times scaled\n",
    "            (usually with the scale_time_to_whole_number function)\n",
    "        port_exit_scaled: Pandas Series\n",
    "            - A column from a MED-PC Dataframe that has all the port exit times scaled\n",
    "            (usually with the scale_time_to_whole_number function)\n",
    "    Returns: \n",
    "        Numpy array:\n",
    "            - 1D Numpy Array of all the numbers that are in the duration of all the port entry and port exit times\n",
    "    \"\"\"\n",
    "    all_port_entry_ranges = [np.arange(port_entry, port_exit+1) for port_entry, port_exit in zip(port_entry_scaled, port_exit_scaled)]\n",
    "    return np.concatenate(all_port_entry_ranges)"
   ]
  },
  {
   "cell_type": "code",
   "execution_count": 165,
   "id": "ae5acf3f",
   "metadata": {},
   "outputs": [],
   "source": [
    "example_port_entry_times = get_all_port_entry_increments(port_entry_scaled=example_med_pc_df[\"port_entry_scaled\"], port_exit_scaled=example_med_pc_df[\"port_exit_scaled\"])"
   ]
  },
  {
   "cell_type": "code",
   "execution_count": 168,
   "id": "9a984af3",
   "metadata": {},
   "outputs": [
    {
     "data": {
      "text/plain": [
       "array([7136, 7137, 7138, 7139, 7140, 7141, 7142, 7177, 7178, 7179])"
      ]
     },
     "execution_count": 168,
     "metadata": {},
     "output_type": "execute_result"
    }
   ],
   "source": [
    "example_port_entry_times[:10]"
   ]
  },
  {
   "cell_type": "markdown",
   "id": "7e9c384f",
   "metadata": {},
   "source": [
    "## 2. Make a set and see which numbers are in that set"
   ]
  },
  {
   "cell_type": "code",
   "execution_count": 108,
   "id": "69e70353",
   "metadata": {},
   "outputs": [],
   "source": [
    "example_valid_tone_times = processing.tone.get_valid_tones(tone_pd_series=example_med_pc_df[\"tone_start_scaled\"]).astype(int)"
   ]
  },
  {
   "cell_type": "markdown",
   "id": "10a8e608",
   "metadata": {},
   "source": [
    "- Using the last tone and adding 2000(or 20 seconds to it)"
   ]
  },
  {
   "cell_type": "code",
   "execution_count": 113,
   "id": "38c10373",
   "metadata": {},
   "outputs": [],
   "source": [
    "example_experiment_interval = np.arange(example_valid_tone_times.max() + 2001)"
   ]
  },
  {
   "cell_type": "code",
   "execution_count": 114,
   "id": "7fa1b0fc",
   "metadata": {},
   "outputs": [
    {
     "data": {
      "text/plain": [
       "array([     0,      1,      2, ..., 372499, 372500, 372501])"
      ]
     },
     "execution_count": 114,
     "metadata": {},
     "output_type": "execute_result"
    }
   ],
   "source": [
    "example_experiment_interval"
   ]
  },
  {
   "cell_type": "code",
   "execution_count": 117,
   "id": "e3e54c7c",
   "metadata": {},
   "outputs": [],
   "source": [
    "example_port_entry_mask = np.isin(example_experiment_interval, example_port_entry_times)"
   ]
  },
  {
   "cell_type": "code",
   "execution_count": 118,
   "id": "ab43e210",
   "metadata": {},
   "outputs": [
    {
     "data": {
      "text/plain": [
       "array([False, False, False, ..., False, False, False])"
      ]
     },
     "execution_count": 118,
     "metadata": {},
     "output_type": "execute_result"
    }
   ],
   "source": [
    "example_port_entry_mask"
   ]
  },
  {
   "cell_type": "code",
   "execution_count": 122,
   "id": "21274942",
   "metadata": {},
   "outputs": [
    {
     "data": {
      "text/plain": [
       "array([  7136,   7137,   7138, ..., 370393, 370394, 370395])"
      ]
     },
     "execution_count": 122,
     "metadata": {},
     "output_type": "execute_result"
    }
   ],
   "source": [
    "example_experiment_interval[np.isin(example_experiment_interval, example_port_entry_times)]"
   ]
  },
  {
   "cell_type": "markdown",
   "id": "d362a696",
   "metadata": {},
   "source": [
    "## 3. Find the Overlap between the Tone Times and the Port Entries"
   ]
  },
  {
   "cell_type": "code",
   "execution_count": 126,
   "id": "e79518cf",
   "metadata": {},
   "outputs": [],
   "source": [
    "tone_time_to_mask = defaultdict(dict)\n",
    "example_all_tone_time_masks = []\n",
    "for index, tone_start in example_valid_tone_times.iteritems():\n",
    "    tone_start_int = int(tone_start)\n",
    "#     print(tone_start_int)\n",
    "#     print(example_port_entry_mask[tone_start_int - 2000: tone_start_int + 2000])  \n",
    "    example_all_tone_time_masks.append(example_port_entry_mask[tone_start_int - 2000: tone_start_int + 2000])\n",
    "    tone_time_to_mask[tone_start_int] = example_port_entry_mask[tone_start_int - 2000: tone_start_int + 2000]"
   ]
  },
  {
   "cell_type": "code",
   "execution_count": 127,
   "id": "a8068f32",
   "metadata": {},
   "outputs": [
    {
     "data": {
      "text/plain": [
       "defaultdict(dict,\n",
       "            {6001: array([False, False, False, ...,  True,  True,  True]),\n",
       "             14001: array([False, False, False, ..., False, False, False]),\n",
       "             23001: array([False, False, False, ..., False, False, False]),\n",
       "             31001: array([False, False, False, ..., False, False, False]),\n",
       "             38501: array([False, False, False, ..., False, False, False]),\n",
       "             48501: array([False, False, False, ..., False, False, False]),\n",
       "             58001: array([False, False, False, ..., False, False, False]),\n",
       "             67001: array([ True,  True,  True, ..., False, False, False]),\n",
       "             75001: array([False, False, False, ..., False, False, False]),\n",
       "             84001: array([False, False, False, ...,  True,  True,  True]),\n",
       "             94001: array([ True,  True,  True, ..., False, False, False]),\n",
       "             103001: array([False, False, False, ...,  True,  True,  True]),\n",
       "             115001: array([False, False, False, ...,  True,  True,  True]),\n",
       "             124001: array([False, False, False, ..., False, False, False]),\n",
       "             132501: array([False, False, False, ..., False, False, False]),\n",
       "             141501: array([False, False, False, ..., False, False, False]),\n",
       "             151001: array([False, False, False, ..., False, False, False]),\n",
       "             163001: array([False, False, False, ...,  True,  True,  True]),\n",
       "             171001: array([ True,  True,  True, ..., False, False, False]),\n",
       "             180501: array([False, False, False, ..., False, False, False]),\n",
       "             188501: array([False, False, False, ..., False, False, False]),\n",
       "             197501: array([False, False, False, ..., False, False, False]),\n",
       "             205501: array([False, False, False, ...,  True,  True,  True]),\n",
       "             213001: array([False, False, False, ..., False, False, False]),\n",
       "             223001: array([ True,  True,  True, ...,  True,  True,  True]),\n",
       "             232501: array([ True,  True,  True, ...,  True,  True,  True]),\n",
       "             241501: array([False, False, False, ...,  True,  True,  True]),\n",
       "             249501: array([ True,  True,  True, ..., False, False, False]),\n",
       "             258501: array([False, False, False, ...,  True,  True,  True]),\n",
       "             268501: array([False, False, False, ..., False, False, False]),\n",
       "             277501: array([ True,  True,  True, ..., False, False, False]),\n",
       "             289501: array([False, False, False, ..., False, False, False]),\n",
       "             298501: array([ True,  True,  True, ..., False, False, False]),\n",
       "             307001: array([False, False, False, ...,  True,  True,  True]),\n",
       "             316001: array([False, False, False, ..., False, False, False]),\n",
       "             325501: array([False, False, False, ..., False, False, False]),\n",
       "             334501: array([False, False, False, ..., False, False, False]),\n",
       "             342501: array([False, False, False, ..., False, False, False]),\n",
       "             351501: array([False, False, False, ..., False, False, False]),\n",
       "             361501: array([False, False, False, ...,  True,  True,  True]),\n",
       "             370501: array([ True,  True,  True, ..., False, False, False])})"
      ]
     },
     "execution_count": 127,
     "metadata": {},
     "output_type": "execute_result"
    }
   ],
   "source": [
    "tone_time_to_mask"
   ]
  },
  {
   "cell_type": "code",
   "execution_count": 129,
   "id": "108364f1",
   "metadata": {},
   "outputs": [],
   "source": [
    "stacked_example_all_tone_time_masks = np.stack(example_all_tone_time_masks)"
   ]
  },
  {
   "cell_type": "code",
   "execution_count": 133,
   "id": "a3cd17b0",
   "metadata": {},
   "outputs": [],
   "source": [
    "mean_example_all_tone_time_masks = stacked_example_all_tone_time_masks.mean(axis=0)"
   ]
  },
  {
   "cell_type": "code",
   "execution_count": 135,
   "id": "ec26caa7",
   "metadata": {},
   "outputs": [
    {
     "data": {
      "text/plain": [
       "array([0.2195122 , 0.2195122 , 0.2195122 , ..., 0.29268293, 0.29268293,\n",
       "       0.29268293])"
      ]
     },
     "execution_count": 135,
     "metadata": {},
     "output_type": "execute_result"
    }
   ],
   "source": [
    "mean_example_all_tone_time_masks"
   ]
  },
  {
   "cell_type": "code",
   "execution_count": 140,
   "id": "f6201686",
   "metadata": {},
   "outputs": [
    {
     "data": {
      "text/plain": [
       "Text(0.5, 1.0, 'Probability Inside Port for 10ms Increments 20 Seconds Before and After Tone')"
      ]
     },
     "execution_count": 140,
     "metadata": {},
     "output_type": "execute_result"
    },
    {
     "data": {
      "image/png": "[encoded data removed]",
      "text/plain": [
       "<Figure size 432x288 with 1 Axes>"
      ]
     },
     "metadata": {
      "needs_background": "light"
     },
     "output_type": "display_data"
    }
   ],
   "source": [
    "plt.plot(np.linspace(-20,20,4000), mean_example_all_tone_time_masks)\n",
    "plt.xlabel(\"Seconds from the start of the tone\")\n",
    "plt.ylabel(\"Probability Inside Port\")\n",
    "plt.title(\"Probability Inside Port for 10ms Increments 20 Seconds Before and After Tone\")"
   ]
  },
  {
   "cell_type": "code",
   "execution_count": 132,
   "id": "a673953e",
   "metadata": {},
   "outputs": [
    {
     "data": {
      "text/plain": [
       "array([-2000, -1999, -1998, ...,  1998,  1999,  2000])"
      ]
     },
     "execution_count": 132,
     "metadata": {},
     "output_type": "execute_result"
    }
   ],
   "source": []
  },
  {
   "cell_type": "code",
   "execution_count": 34,
   "id": "9c8c1b5b",
   "metadata": {},
   "outputs": [
    {
     "ename": "ValueError",
     "evalue": "Stop Here and Continue Editing!",
     "output_type": "error",
     "traceback": [
      "\u001b[0;31m---------------------------------------------------------------------------\u001b[0m",
      "\u001b[0;31mValueError\u001b[0m                                Traceback (most recent call last)",
      "Input \u001b[0;32mIn [34]\u001b[0m, in \u001b[0;36m<cell line: 1>\u001b[0;34m()\u001b[0m\n\u001b[0;32m----> 1\u001b[0m \u001b[38;5;28;01mraise\u001b[39;00m \u001b[38;5;167;01mValueError\u001b[39;00m(\u001b[38;5;124m\"\u001b[39m\u001b[38;5;124mStop Here and Continue Editing!\u001b[39m\u001b[38;5;124m\"\u001b[39m)\n",
      "\u001b[0;31mValueError\u001b[0m: Stop Here and Continue Editing!"
     ]
    }
   ],
   "source": [
    "raise ValueError(\"Stop Here and Continue Editing!\")"
   ]
  },
  {
   "cell_type": "code",
   "execution_count": null,
   "id": "75ad673e",
   "metadata": {},
   "outputs": [],
   "source": [
    "file_path_to_meta_data"
   ]
  },
  {
   "cell_type": "code",
   "execution_count": null,
   "id": "5792a04a",
   "metadata": {},
   "outputs": [],
   "source": [
    "result_dict = defaultdict(dict)\n",
    "for key, value in file_path_to_meta_data.items():\n",
    "    try:\n",
    "        latency_df = value[\"latency_df\"]\n",
    "        latency_df[\"latency\"] = latency_df[\"first_port_entry_after_tone\"] - latency_df[\"current_tone_time\"]\n",
    "        latency = latency_df[\"latency\"].mean()\n",
    "        result_dict[key] = value\n",
    "        result_dict[key][\"latency\"] = latency\n",
    "        \n",
    "        result_dict[key][\"latency\"] = sum(latency_df[\"latency\"] <= 10) / len(latency_df)\n",
    "    except:\n",
    "        pass"
   ]
  },
  {
   "cell_type": "code",
   "execution_count": null,
   "id": "ac081b9b",
   "metadata": {},
   "outputs": [],
   "source": [
    "#TODO: Limit latency\n",
    "TOTO: get a row for each subject"
   ]
  },
  {
   "cell_type": "code",
   "execution_count": null,
   "id": "001746bd",
   "metadata": {},
   "outputs": [],
   "source": [
    "all_latency_df = pd.DataFrame.from_dict(result_dict, orient=\"index\")"
   ]
  },
  {
   "cell_type": "code",
   "execution_count": null,
   "id": "64fb1d27",
   "metadata": {},
   "outputs": [],
   "source": [
    "all_latency_df[\"date_key\"] = all_latency_df[\"date_key\"].astype(int)"
   ]
  },
  {
   "cell_type": "code",
   "execution_count": null,
   "id": "da1a8118",
   "metadata": {},
   "outputs": [],
   "source": [
    "all_latency_df.sort_values(\"subject_key\").head()"
   ]
  },
  {
   "cell_type": "code",
   "execution_count": null,
   "id": "bd1b3b72",
   "metadata": {},
   "outputs": [],
   "source": [
    "all_latency_df.sort_values(\"date_key\").head(n=50)"
   ]
  },
  {
   "cell_type": "code",
   "execution_count": null,
   "id": "bb4d1efa",
   "metadata": {},
   "outputs": [],
   "source": [
    "plt.plot(all_latency_df[\"date_key\"], all_latency_df[\"latency\"])"
   ]
  },
  {
   "cell_type": "markdown",
   "id": "171cd4aa",
   "metadata": {},
   "source": [
    "    file"
   ]
  },
  {
   "cell_type": "markdown",
   "id": "9fe9f1a1",
   "metadata": {},
   "source": [
    "## Simple Calculations"
   ]
  },
  {
   "cell_type": "markdown",
   "id": "80084ee1",
   "metadata": {},
   "source": [
    "- Getting the duration of the time that the mice was in the port"
   ]
  },
  {
   "cell_type": "code",
   "execution_count": null,
   "id": "abac6c41",
   "metadata": {},
   "outputs": [],
   "source": [
    "med_pc_df[port_exit_column] - med_pc_df[port_entry_column]"
   ]
  },
  {
   "cell_type": "markdown",
   "id": "a44035ab",
   "metadata": {},
   "source": [
    "# 1. Latency to port from tone onset"
   ]
  },
  {
   "cell_type": "markdown",
   "id": "df6c4037",
   "metadata": {},
   "source": [
    "## Remove all unnecessary numbers and NaNs in the tone times"
   ]
  },
  {
   "cell_type": "code",
   "execution_count": null,
   "id": "d0c63399",
   "metadata": {},
   "outputs": [],
   "source": [
    "tone_pd_series = med_pc_df[\"(S)CSpresentation\"]"
   ]
  },
  {
   "cell_type": "markdown",
   "id": "0a011ae2",
   "metadata": {},
   "source": [
    "- The tone times column has unnecessary numbers and NaNs that must be removed"
   ]
  },
  {
   "cell_type": "code",
   "execution_count": null,
   "id": "7915aae6",
   "metadata": {
    "scrolled": true
   },
   "outputs": [],
   "source": [
    "med_pc_df[\"(S)CSpresentation\"][35:50]"
   ]
  },
  {
   "cell_type": "code",
   "execution_count": null,
   "id": "5adde1cf",
   "metadata": {},
   "outputs": [],
   "source": [
    "med_pc_df[\"(S)CSpresentation\"][-20:]"
   ]
  },
  {
   "cell_type": "markdown",
   "id": "934395cf",
   "metadata": {},
   "source": [
    "- Finding the first port entry after tone plays\n",
    "    - ** NOTE: This does not count entries that started before the tone and continure after the tone started"
   ]
  },
  {
   "cell_type": "code",
   "execution_count": null,
   "id": "dbcf6768",
   "metadata": {},
   "outputs": [],
   "source": [
    "valid_tones = processing.tone.get_valid_tones(tone_pd_series=tone_pd_series)"
   ]
  },
  {
   "cell_type": "code",
   "execution_count": null,
   "id": "be9ac5fb",
   "metadata": {},
   "outputs": [],
   "source": [
    "valid_tones"
   ]
  },
  {
   "cell_type": "code",
   "execution_count": null,
   "id": "543577bc",
   "metadata": {},
   "outputs": [],
   "source": [
    "def get_first_port_entries(tone_pd_series, port_entries_pd_series):\n",
    "    \"\"\"\n",
    "    \"\"\"\n",
    "    # Creating a dictionary of index(current row number we're on) to current/next tone time and first port entry\n",
    "    latency_dict = defaultdict(dict)\n",
    "    for index, current_tone_time in tone_pd_series.items():\n",
    "        # Using a counter so that we don't go through all the rows that include NaNs\n",
    "        try:\n",
    "            latency_dict[index][\"current_tone_time\"] = current_tone_time\n",
    "            # Getting all the port entries that happened after the tone started\n",
    "            # And then getting the first one of those port entries\n",
    "            first_port_entry_after_tone = port_entries_pd_series[port_entries_pd_series >= current_tone_time].min()\n",
    "            latency_dict[index][\"first_port_entry_after_tone\"] = first_port_entry_after_tone\n",
    "        except:\n",
    "            print(\"Look over value {} at index {}\".format(current_tone_time, index))\n",
    "    return latency_dict"
   ]
  },
  {
   "cell_type": "code",
   "execution_count": null,
   "id": "64d32fb1",
   "metadata": {},
   "outputs": [],
   "source": [
    "port_entry_series = med_pc_df[\"(P)Portentry\"]"
   ]
  },
  {
   "cell_type": "code",
   "execution_count": null,
   "id": "f444a197",
   "metadata": {},
   "outputs": [],
   "source": [
    "port_entry_series[port_entry_series >= 60.01].min()"
   ]
  },
  {
   "cell_type": "code",
   "execution_count": null,
   "id": "b04ee29e",
   "metadata": {},
   "outputs": [],
   "source": [
    "counter = 0\n",
    "# Creating a dictionary of index(current row number we're on) to current/next tone time and first port entry\n",
    "latency_dict = defaultdict(dict)\n",
    "for index, row in med_pc_df.iterrows():\n",
    "    # Using a counter so that we don't go through all the rows that include NaNs\n",
    "    if counter >= 40:\n",
    "        break\n",
    "    try:\n",
    "        # The time of the current tone that we're on\n",
    "        current_tone_time = row[tone_start_column]\n",
    "        latency_dict[index][\"current_tone_time\"] = current_tone_time\n",
    "        # The time of the next tone after the current tone\n",
    "        next_tone_time = med_pc_df.iloc[index + 1][tone_start_column]\n",
    "        latency_dict[index][\"next_tone_time\"] = next_tone_time\n",
    "        # Getting all the port entries that happened after the tone started\n",
    "        # And then getting the first one of those port entries\n",
    "        first_port_entry_after_tone = med_pc_df[med_pc_df[port_entry_column] >= current_tone_time][port_entry_column].min()\n",
    "        latency_dict[index][\"first_port_entry_after_tone\"] = first_port_entry_after_tone\n",
    "    except:\n",
    "        break\n",
    "    counter += 1\n",
    "    "
   ]
  },
  {
   "cell_type": "code",
   "execution_count": null,
   "id": "2d7b734e",
   "metadata": {},
   "outputs": [],
   "source": [
    "get_first_port_entries(tone_pd_series=valid_tones, port_entries_pd_series=med_pc_df[\"(P)Portentry\"])"
   ]
  },
  {
   "cell_type": "code",
   "execution_count": null,
   "id": "5155dd7f",
   "metadata": {},
   "outputs": [],
   "source": [
    "med_pc_df[\"(P)Portentry\"]"
   ]
  },
  {
   "cell_type": "code",
   "execution_count": null,
   "id": "640600ec",
   "metadata": {},
   "outputs": [],
   "source": [
    "latency_dict[0]"
   ]
  },
  {
   "cell_type": "markdown",
   "id": "994c3f04",
   "metadata": {},
   "source": [
    "- Creating a dataframe from the dictionary"
   ]
  },
  {
   "cell_type": "code",
   "execution_count": null,
   "id": "5afa97f9",
   "metadata": {},
   "outputs": [],
   "source": [
    "latency_df = pd.DataFrame.from_dict(latency_dict, orient=\"index\")"
   ]
  },
  {
   "cell_type": "markdown",
   "id": "f0add76b",
   "metadata": {},
   "source": [
    "- Calculating latency, which is the first port entry time minus the start of the tone"
   ]
  },
  {
   "cell_type": "code",
   "execution_count": null,
   "id": "8709c8f3",
   "metadata": {},
   "outputs": [],
   "source": [
    "latency_df[\"latency\"] = latency_df[\"first_port_entry_after_tone\"] - latency_df[\"current_tone_time\"]"
   ]
  },
  {
   "cell_type": "code",
   "execution_count": null,
   "id": "9efd39e9",
   "metadata": {},
   "outputs": [],
   "source": [
    "# Filtering for all the latencies that are less than 30 seconds\n",
    "latency_df[latency_df[\"latency\"] <= 30]"
   ]
  },
  {
   "cell_type": "code",
   "execution_count": null,
   "id": "7b5bd031",
   "metadata": {},
   "outputs": [],
   "source": [
    "latency_df[\"latency\"].mean()"
   ]
  },
  {
   "cell_type": "markdown",
   "id": "f398b352",
   "metadata": {},
   "source": [
    "# 2. Ratio of adequate retrival"
   ]
  },
  {
   "cell_type": "markdown",
   "id": "e6cd36ad",
   "metadata": {},
   "source": [
    "- Calculating the ratio of adequate retrivals. Which are retrivals with latencies of less than 10 seconds"
   ]
  },
  {
   "cell_type": "code",
   "execution_count": null,
   "id": "dfc2b166",
   "metadata": {},
   "outputs": [],
   "source": [
    "# Counting the number of retrivals that are less than 10 seconds\n",
    "# Getting the total number of tones being played\n",
    "sum(latency_df[\"latency\"] <= 10) / len(latency_df)"
   ]
  },
  {
   "cell_type": "markdown",
   "id": "84de9b99",
   "metadata": {},
   "source": [
    "# 3. Plotting the probability of inside port"
   ]
  },
  {
   "cell_type": "markdown",
   "id": "1082bedc",
   "metadata": {},
   "source": [
    "- Plotting the duration that the mice are in the ports and the duration of the tones\n",
    "    - Top is port entry duration and bottom is tone duration"
   ]
  },
  {
   "cell_type": "markdown",
   "id": "99c8123c",
   "metadata": {},
   "source": [
    "# TODO: Try plotting so that whenever there's a port entry or tone, the line goes to 1"
   ]
  },
  {
   "cell_type": "code",
   "execution_count": null,
   "id": "09a656ce",
   "metadata": {
    "scrolled": true
   },
   "outputs": [],
   "source": [
    "fig, ax = plt.subplots()\n",
    "\n",
    "# Port duration is from one port entry to the corresponding por exit\n",
    "for x_1 , x_2 in zip(med_pc_df['(P)Portentry'].values ,med_pc_df['(N)Portexit'].values):\n",
    "    ax.add_patch(plt.Rectangle((x_1,0),x_2-x_1,0.5, color=\"k\"))\n",
    "\n",
    "# Tone duration is from tone start to 20 seconds after\n",
    "for x_1 in (latency_df['current_tone_time'].values):\n",
    "    ax.add_patch(plt.Rectangle((x_1,-.75),20,0.5, color=\"b\"))\n",
    "    \n",
    "# Tone duration is from 20 seconds before to tone start\n",
    "for x_1 in (latency_df['current_tone_time'].values):\n",
    "    ax.add_patch(plt.Rectangle((x_1-20,-.75),20,0.5, color=\"r\") )\n",
    "    \n",
    "ax.autoscale()\n",
    "ax.set_ylim(-1,1)\n",
    "plt.title(\"Duration of port entries and tones\")\n",
    "plt.xlabel(\"Time from start\")\n",
    "plt.show()"
   ]
  },
  {
   "cell_type": "code",
   "execution_count": null,
   "id": "1f54c07d",
   "metadata": {},
   "outputs": [],
   "source": [
    "fig, ax = plt.subplots()\n",
    "\n",
    "# Port duration is from one port entry to the corresponding por exit\n",
    "for x_1 , x_2 in zip(med_pc_df['(P)Portentry'].values ,med_pc_df['(N)Portexit'].values):\n",
    "    ax.add_patch(plt.Rectangle((x_1,0),x_2-x_1,0.5, color=\"k\"))\n",
    "\n",
    "# Tone duration is from tone start to 20 seconds after\n",
    "for x_1 in (latency_df['current_tone_time'].values):\n",
    "    ax.add_patch(plt.Rectangle((x_1,-.75),20,0.5, color=\"b\"))\n",
    "    \n",
    "# Tone duration is from 20 seconds before to tone start\n",
    "for x_1 in (latency_df['current_tone_time'].values):\n",
    "    ax.add_patch(plt.Rectangle((x_1-20,-.75),20,0.5, color=\"r\") )\n",
    "    \n",
    "ax.autoscale()\n",
    "ax.set_ylim(-1,1)\n",
    "ax.set_xlim(1000,1100)\n",
    "plt.title(\"Duration of port entries and tones\")\n",
    "plt.xlabel(\"Time from start\")\n",
    "plt.show()"
   ]
  },
  {
   "cell_type": "code",
   "execution_count": null,
   "id": "21b7fd60",
   "metadata": {},
   "outputs": [],
   "source": [
    "fig, ax = plt.subplots()\n",
    "\n",
    "# Port duration is from one port entry to the corresponding por exit\n",
    "for x_1 , x_2 in zip(med_pc_df['(P)Portentry'].values ,med_pc_df['(N)Portexit'].values):\n",
    "    ax.add_patch(plt.Rectangle((x_1,0),x_2-x_1,0.5, color=\"k\"))\n",
    "\n",
    "# Tone duration is from tone start to 20 seconds after\n",
    "for x_1 in (latency_df['current_tone_time'].values):\n",
    "    ax.add_patch(plt.Rectangle((x_1,-.75),20,0.5, color=\"b\"))\n",
    "    \n",
    "# Tone duration is from 20 seconds before to tone start\n",
    "for x_1 in (latency_df['current_tone_time'].values):\n",
    "    ax.add_patch(plt.Rectangle((x_1-20,-.75),20,0.5, color=\"r\") )\n",
    "    \n",
    "ax.autoscale()\n",
    "ax.set_ylim(-1,1)\n",
    "ax.set_xlim(1080,1100)\n",
    "plt.title(\"Duration of port entries and tones\")\n",
    "plt.xlabel(\"Time from start\")\n",
    "plt.show()"
   ]
  },
  {
   "cell_type": "code",
   "execution_count": null,
   "id": "c33a1a37",
   "metadata": {
    "scrolled": true
   },
   "outputs": [],
   "source": [
    "med_pc_df.iloc[130:150]"
   ]
  },
  {
   "cell_type": "markdown",
   "id": "6d38e7c1",
   "metadata": {},
   "source": [
    "### 3.1 Scaling all the times so that we can get all the numbers in between"
   ]
  },
  {
   "cell_type": "code",
   "execution_count": null,
   "id": "d6fd9e96",
   "metadata": {
    "scrolled": true
   },
   "outputs": [],
   "source": [
    "med_pc_df[\"port_entry_scaled\"] = (med_pc_df[port_entry_column] * 100).astype(int)\n",
    "med_pc_df[\"port_exit_scaled\"] = (med_pc_df[port_exit_column] * 100).astype(int)\n",
    "med_pc_df[\"tone_start_scaled\"] = med_pc_df[tone_start_column].apply(lambda x: x * 100 if not np.isnan(x) else np.nan)"
   ]
  },
  {
   "cell_type": "code",
   "execution_count": null,
   "id": "2ce8ff64",
   "metadata": {
    "scrolled": true
   },
   "outputs": [],
   "source": [
    "med_pc_df.head(n=25)"
   ]
  },
  {
   "cell_type": "markdown",
   "id": "d4493d56",
   "metadata": {},
   "source": [
    "### 3.2 Getting the numbers that overlap between a single tone duration and port entry"
   ]
  },
  {
   "cell_type": "code",
   "execution_count": null,
   "id": "17c1b99b",
   "metadata": {},
   "outputs": [],
   "source": [
    "def get_overlapping_range(tone_start, tone_end, port_entry, port_exit):\n",
    "    \"\"\"\n",
    "    \"\"\"\n",
    "    if tone_start >= tone_end or port_entry >= port_exit:\n",
    "        raise ValueError(\"Start time needs to be before end time\")\n",
    "    # Port exit is before tone_start\n",
    "    if port_exit <= tone_start:\n",
    "        return 0,0\n",
    "    # Port entry is after tone end\n",
    "    elif port_entry >= tone_end:\n",
    "        return 0,0\n",
    "    # Port entry is before tone start\n",
    "    if port_entry <= tone_start:\n",
    "        port_entry = tone_start\n",
    "    # Port exit is after tone end\n",
    "    if port_exit >= tone_end:\n",
    "        port_exit = tone_end\n",
    "    return port_entry, port_exit"
   ]
  },
  {
   "cell_type": "markdown",
   "id": "6b515410",
   "metadata": {},
   "source": [
    "- When there is no overlap before or after the tone"
   ]
  },
  {
   "cell_type": "code",
   "execution_count": null,
   "id": "76611cfe",
   "metadata": {
    "scrolled": true
   },
   "outputs": [],
   "source": [
    "get_overlapping_range(port_entry=2960, port_exit=3038, tone_start=6001, tone_end=7001)"
   ]
  },
  {
   "cell_type": "code",
   "execution_count": null,
   "id": "f40e5883",
   "metadata": {},
   "outputs": [],
   "source": [
    "get_overlapping_range(port_entry=15467, port_exit=15472, tone_start=6001, tone_end=7001)"
   ]
  },
  {
   "cell_type": "markdown",
   "id": "ae2a2ec8",
   "metadata": {},
   "source": [
    "- When there is all overlap within the tone"
   ]
  },
  {
   "cell_type": "code",
   "execution_count": null,
   "id": "0f3dfb3b",
   "metadata": {},
   "outputs": [],
   "source": [
    "get_overlapping_range(port_entry=6131, port_exit=6177, tone_start=6001, tone_end=7001)"
   ]
  },
  {
   "cell_type": "markdown",
   "id": "dea77be4",
   "metadata": {},
   "source": [
    "- When there is partial overlap with the tone"
   ]
  },
  {
   "cell_type": "code",
   "execution_count": null,
   "id": "4d97c3ae",
   "metadata": {},
   "outputs": [],
   "source": [
    "get_overlapping_range(port_entry=5900, port_exit=6177, tone_start=6001, tone_end=7001)"
   ]
  },
  {
   "cell_type": "code",
   "execution_count": null,
   "id": "411228ee",
   "metadata": {},
   "outputs": [],
   "source": [
    "get_overlapping_range(port_entry=6800, port_exit=7200, tone_start=6001, tone_end=7001)"
   ]
  },
  {
   "cell_type": "markdown",
   "id": "72c60d32",
   "metadata": {},
   "source": [
    "## 3.2 Getting all the overlapping port entries time stamps with the tone durations"
   ]
  },
  {
   "cell_type": "markdown",
   "id": "f56f4fb8",
   "metadata": {},
   "source": [
    "### Getting the times in between all the port entries and exits"
   ]
  },
  {
   "cell_type": "code",
   "execution_count": null,
   "id": "ee1b9ac2",
   "metadata": {},
   "outputs": [],
   "source": [
    "port_entry_times = med_pc_df[\"port_entry_scaled\"].values\n",
    "port_exit_times = med_pc_df[\"port_exit_scaled\"].values"
   ]
  },
  {
   "cell_type": "markdown",
   "id": "4e6998aa",
   "metadata": {},
   "source": [
    "- Making a 2D array of the port entry and exit times"
   ]
  },
  {
   "cell_type": "code",
   "execution_count": null,
   "id": "58123c75",
   "metadata": {},
   "outputs": [],
   "source": [
    "np.column_stack((port_entry_times, port_exit_times))[:10]"
   ]
  },
  {
   "cell_type": "code",
   "execution_count": null,
   "id": "557a73e6",
   "metadata": {},
   "outputs": [],
   "source": [
    "def get_all_numbers_in_range(before_array, after_array):\n",
    "    \"\"\"\n",
    "    \"\"\"\n",
    "    all_ranges = None\n",
    "    for first_number, second_number in np.column_stack((before_array, after_array)):\n",
    "        current_range = np.arange(first_number, second_number)\n",
    "        if all_ranges is None:\n",
    "            all_ranges = current_range\n",
    "        else:\n",
    "            all_ranges = np.concatenate((all_ranges, current_range))\n",
    "    return all_ranges"
   ]
  },
  {
   "cell_type": "code",
   "execution_count": null,
   "id": "18e6bcbb",
   "metadata": {},
   "outputs": [],
   "source": [
    "masked_range = get_all_numbers_in_range(port_entry_times, port_exit_times)"
   ]
  },
  {
   "cell_type": "code",
   "execution_count": null,
   "id": "f689194b",
   "metadata": {
    "scrolled": true
   },
   "outputs": [],
   "source": [
    "masked_range[:100]"
   ]
  },
  {
   "cell_type": "markdown",
   "id": "e3fd4759",
   "metadata": {},
   "source": [
    "## 3.3 Getting the ratio of the overlap"
   ]
  },
  {
   "cell_type": "code",
   "execution_count": null,
   "id": "b99bb609",
   "metadata": {},
   "outputs": [],
   "source": [
    "def get_overlapping_ratio(tone_start, tone_end, port_entry, port_exit):\n",
    "    \"\"\"\n",
    "    \"\"\"\n",
    "    overlapping_range = get_overlapping_range(tone_start=tone_start, tone_end=tone_end, \\\n",
    "                                              port_entry=port_entry, port_exit=port_exit)\n",
    "    return (overlapping_range[1] - overlapping_range[0]) / (tone_end - tone_start)"
   ]
  },
  {
   "cell_type": "markdown",
   "id": "8a8b1b88",
   "metadata": {},
   "source": [
    "- When there is no overlap before or after the tone"
   ]
  },
  {
   "cell_type": "code",
   "execution_count": null,
   "id": "4d33d465",
   "metadata": {
    "scrolled": true
   },
   "outputs": [],
   "source": [
    "get_overlapping_ratio(port_entry=2960, port_exit=3038, tone_start=6001, tone_end=7001)"
   ]
  },
  {
   "cell_type": "code",
   "execution_count": null,
   "id": "5b3130df",
   "metadata": {},
   "outputs": [],
   "source": [
    "get_overlapping_ratio(port_entry=15467, port_exit=15472, tone_start=6001, tone_end=7001)"
   ]
  },
  {
   "cell_type": "markdown",
   "id": "ac78cf73",
   "metadata": {},
   "source": [
    "- When there is all overlap within the tone"
   ]
  },
  {
   "cell_type": "code",
   "execution_count": null,
   "id": "ccb17723",
   "metadata": {},
   "outputs": [],
   "source": [
    "get_overlapping_ratio(port_entry=6131, port_exit=6177, tone_start=6001, tone_end=7001)"
   ]
  },
  {
   "cell_type": "markdown",
   "id": "754f2f20",
   "metadata": {},
   "source": [
    "- When there is partial overlap with the tone"
   ]
  },
  {
   "cell_type": "code",
   "execution_count": null,
   "id": "25e73f40",
   "metadata": {},
   "outputs": [],
   "source": [
    "get_overlapping_ratio(port_entry=5900, port_exit=6177, tone_start=6001, tone_end=7001)"
   ]
  },
  {
   "cell_type": "code",
   "execution_count": null,
   "id": "f14b4039",
   "metadata": {},
   "outputs": [],
   "source": [
    "get_overlapping_ratio(port_entry=6800, port_exit=7200, tone_start=6001, tone_end=7001)"
   ]
  },
  {
   "cell_type": "markdown",
   "id": "01679096",
   "metadata": {},
   "source": [
    "- When there is total overlap of the tone"
   ]
  },
  {
   "cell_type": "code",
   "execution_count": null,
   "id": "f942be14",
   "metadata": {},
   "outputs": [],
   "source": [
    "get_overlapping_ratio(port_entry=5500, port_exit=7500, tone_start=6001, tone_end=7001)"
   ]
  },
  {
   "cell_type": "markdown",
   "id": "fe25f488",
   "metadata": {},
   "source": [
    "### 3.4 Get all the overlapping ranges for one tone "
   ]
  },
  {
   "cell_type": "markdown",
   "id": "e1a5d349",
   "metadata": {},
   "source": [
    "- The port entry must always be before the end of the tone\n",
    "- The port exit must always be after the start of the tone"
   ]
  },
  {
   "cell_type": "code",
   "execution_count": null,
   "id": "230ce55f",
   "metadata": {},
   "outputs": [],
   "source": [
    "med_pc_df.head(n=10)"
   ]
  },
  {
   "cell_type": "code",
   "execution_count": null,
   "id": "8a41c3e6",
   "metadata": {},
   "outputs": [],
   "source": [
    "def get_all_overlapping_ranges(tone_start, tone_end, med_pc_df, port_entry_column='(P)Portentry', port_exit_column='(N)Portexit'):\n",
    "    \"\"\"\n",
    "    \"\"\"\n",
    "    return med_pc_df[(med_pc_df[port_exit_column] >= tone_start) & (med_pc_df[port_entry_column] <= tone_end)]"
   ]
  },
  {
   "cell_type": "code",
   "execution_count": null,
   "id": "7dd07aab",
   "metadata": {},
   "outputs": [],
   "source": [
    "tone_start = 60\n",
    "tone_end = 90"
   ]
  },
  {
   "cell_type": "code",
   "execution_count": null,
   "id": "7d61c3b7",
   "metadata": {},
   "outputs": [],
   "source": [
    "overlapped_df = get_all_overlapping_ranges(tone_start=tone_start, tone_end=tone_end, med_pc_df=med_pc_df)"
   ]
  },
  {
   "cell_type": "code",
   "execution_count": null,
   "id": "5a9b660d",
   "metadata": {
    "scrolled": false
   },
   "outputs": [],
   "source": [
    "overlapped_df"
   ]
  },
  {
   "cell_type": "markdown",
   "id": "ae03d768",
   "metadata": {},
   "source": [
    "### 3.5 Get the sum of the overlap ratio for all overlapping port entries "
   ]
  },
  {
   "cell_type": "code",
   "execution_count": null,
   "id": "d8705db0",
   "metadata": {},
   "outputs": [],
   "source": [
    "def calculate_total_overlap_ratio(med_pc_df, tone_start, tone_end, port_entry_column='(P)Portentry', port_exit_column='(N)Portexit'):\n",
    "    \"\"\"\n",
    "    \"\"\"\n",
    "    all_overlap_ratios = []\n",
    "    overlapped_df = get_all_overlapping_ranges(tone_start=tone_start, tone_end=tone_end, med_pc_df=med_pc_df, port_entry_column=port_entry_column, port_exit_column=port_exit_column)\n",
    "    \n",
    "    for index, row in overlapped_df.iterrows():\n",
    "        overlap_ratio = get_overlapping_ratio(port_entry=row[port_entry_column], port_exit=row[port_exit_column], tone_start=tone_start, tone_end=tone_end)\n",
    "        all_overlap_ratios.append(overlap_ratio)\n",
    "    return sum(all_overlap_ratios)"
   ]
  },
  {
   "cell_type": "code",
   "execution_count": null,
   "id": "ac3ab5e8",
   "metadata": {},
   "outputs": [],
   "source": [
    "calculate_total_overlap_ratio(med_pc_df=med_pc_df, tone_start=60, tone_end=90)"
   ]
  },
  {
   "cell_type": "markdown",
   "id": "b236e22e",
   "metadata": {},
   "source": [
    "### 3.6 Plot overlap ratios for one trial"
   ]
  },
  {
   "cell_type": "code",
   "execution_count": null,
   "id": "f560853c",
   "metadata": {},
   "outputs": [],
   "source": [
    "tone_start = 60"
   ]
  },
  {
   "cell_type": "markdown",
   "id": "8b2c2f16",
   "metadata": {},
   "source": [
    "- Getting the time sub-time intervals for each tone duration\n",
    "    - We will look into the time 20 seconds before and after the tone starts"
   ]
  },
  {
   "cell_type": "markdown",
   "id": "6da75765",
   "metadata": {},
   "source": [
    "- For the sub time intervals that are one second"
   ]
  },
  {
   "cell_type": "code",
   "execution_count": null,
   "id": "25c6aabb",
   "metadata": {},
   "outputs": [],
   "source": [
    "evenly_spaced_ones_intervals = np.linspace(0 - 20, 0 + 20, 41)"
   ]
  },
  {
   "cell_type": "code",
   "execution_count": null,
   "id": "ee809348",
   "metadata": {},
   "outputs": [],
   "source": [
    "evenly_spaced_ones_intervals"
   ]
  },
  {
   "cell_type": "code",
   "execution_count": null,
   "id": "a6faa6a0",
   "metadata": {},
   "outputs": [],
   "source": [
    "evenly_spaced_ones_numbers = evenly_spaced_ones_intervals + 60"
   ]
  },
  {
   "cell_type": "code",
   "execution_count": null,
   "id": "bad50d29",
   "metadata": {},
   "outputs": [],
   "source": [
    "evenly_spaced_ones_numbers"
   ]
  },
  {
   "cell_type": "code",
   "execution_count": null,
   "id": "5a517d1f",
   "metadata": {},
   "outputs": [],
   "source": [
    "evenly_spaced_ones_numbers + 60"
   ]
  },
  {
   "cell_type": "markdown",
   "id": "42afdf24",
   "metadata": {},
   "source": [
    "- For the sub time intervals that are one tenth of a second"
   ]
  },
  {
   "cell_type": "code",
   "execution_count": null,
   "id": "4a56c6fa",
   "metadata": {},
   "outputs": [],
   "source": [
    "evenly_spaced_tenths_intervals = np.linspace(0 - 20, 0 + 20, 401)"
   ]
  },
  {
   "cell_type": "code",
   "execution_count": null,
   "id": "36483813",
   "metadata": {},
   "outputs": [],
   "source": [
    "evenly_spaced_tenths_numbers = evenly_spaced_tenths_intervals + 60"
   ]
  },
  {
   "cell_type": "code",
   "execution_count": null,
   "id": "d10462d4",
   "metadata": {
    "scrolled": true
   },
   "outputs": [],
   "source": [
    "evenly_spaced_tenths_numbers"
   ]
  },
  {
   "cell_type": "markdown",
   "id": "206dff84",
   "metadata": {},
   "source": [
    "### 3.61 Getting all the overlap ratios for the tone that starts at 60 seconds"
   ]
  },
  {
   "cell_type": "code",
   "execution_count": null,
   "id": "c78b0cd8",
   "metadata": {},
   "outputs": [],
   "source": [
    "med_pc_df.head(n=25)"
   ]
  },
  {
   "cell_type": "code",
   "execution_count": null,
   "id": "338729b5",
   "metadata": {},
   "outputs": [],
   "source": [
    "tone_start_time = 60"
   ]
  },
  {
   "cell_type": "markdown",
   "id": "4d661ffb",
   "metadata": {},
   "source": [
    "- For one second intervals"
   ]
  },
  {
   "cell_type": "code",
   "execution_count": null,
   "id": "b0c0feb0",
   "metadata": {},
   "outputs": [],
   "source": [
    "calculate_total_overlap_ratio(med_pc_df=med_pc_df, tone_start=47, tone_end=48)"
   ]
  },
  {
   "cell_type": "code",
   "execution_count": null,
   "id": "a1375b0a",
   "metadata": {
    "scrolled": true
   },
   "outputs": [],
   "source": [
    "tone_ratio_ones_dict = defaultdict(dict)\n",
    "for index, tone_start_ones in enumerate(evenly_spaced_ones_intervals):\n",
    "    actual_start_time = tone_start_ones + tone_start_time\n",
    "    actual_end_time = actual_start_time + 1\n",
    "    tone_ratio_ones_dict[actual_start_time][\"tone_start_ones\"] = tone_start_ones \n",
    "    overlap_ratio = calculate_total_overlap_ratio(med_pc_df=med_pc_df, tone_start=actual_start_time, tone_end=actual_end_time)\n",
    "    tone_ratio_ones_dict[actual_start_time][\"overlap_ratio\"] = overlap_ratio\n"
   ]
  },
  {
   "cell_type": "code",
   "execution_count": null,
   "id": "859191a0",
   "metadata": {},
   "outputs": [],
   "source": [
    "tone_ratio_ones_dict"
   ]
  },
  {
   "cell_type": "markdown",
   "id": "ef036501",
   "metadata": {},
   "source": [
    "- For one tenth of second intervals"
   ]
  },
  {
   "cell_type": "code",
   "execution_count": null,
   "id": "f64d8686",
   "metadata": {},
   "outputs": [],
   "source": [
    "tone_ratio_tenths_dict = defaultdict(dict)\n",
    "for index, tone_start_tenths in enumerate(evenly_spaced_tenths_intervals):\n",
    "    actual_start_time = tone_start_tenths + tone_start_time\n",
    "    actual_end_time = actual_start_time + 0.1\n",
    "    tone_ratio_tenths_dict[actual_start_time][\"tone_start_ones\"] = tone_start_tenths \n",
    "    overlap_ratio = calculate_total_overlap_ratio(med_pc_df=med_pc_df, tone_start=actual_start_time, tone_end=actual_end_time)\n",
    "    tone_ratio_tenths_dict[actual_start_time][\"overlap_ratio\"] = overlap_ratio\n"
   ]
  },
  {
   "cell_type": "code",
   "execution_count": null,
   "id": "b28ec430",
   "metadata": {},
   "outputs": [],
   "source": [
    "tone_ratio_tenths_dict"
   ]
  },
  {
   "cell_type": "code",
   "execution_count": null,
   "id": "dcc692ea",
   "metadata": {},
   "outputs": [],
   "source": [
    "overlap_interval_ones_df = pd.DataFrame.from_dict(tone_ratio_ones_dict, orient=\"index\")\n",
    "overlap_interval_tenths_df = pd.DataFrame.from_dict(tone_ratio_tenths_dict, orient=\"index\")"
   ]
  },
  {
   "cell_type": "code",
   "execution_count": null,
   "id": "6a081dd1",
   "metadata": {},
   "outputs": [],
   "source": [
    "overlap_interval_ones_df.head()"
   ]
  },
  {
   "cell_type": "code",
   "execution_count": null,
   "id": "775d19cf",
   "metadata": {},
   "outputs": [],
   "source": [
    "overlap_interval_tenths_df.head(n=50)"
   ]
  },
  {
   "cell_type": "code",
   "execution_count": null,
   "id": "5831bbfa",
   "metadata": {},
   "outputs": [],
   "source": [
    "plt.plot(overlap_interval_ones_df[\"tone_start_ones\"], overlap_interval_ones_df[\"overlap_ratio\"])"
   ]
  },
  {
   "cell_type": "code",
   "execution_count": null,
   "id": "783f4402",
   "metadata": {},
   "outputs": [],
   "source": [
    "plt.plot(overlap_interval_tenths_df[\"tone_start_ones\"], overlap_interval_tenths_df[\"overlap_ratio\"])"
   ]
  },
  {
   "cell_type": "markdown",
   "id": "c4bf03dc",
   "metadata": {},
   "source": [
    "# 3.7 Plot all the tones and average them"
   ]
  },
  {
   "cell_type": "code",
   "execution_count": null,
   "id": "006fed02",
   "metadata": {},
   "outputs": [],
   "source": [
    "# Using head because after 40 all the values just become random place holders\n",
    "tone_start_times = med_pc_df[tone_start_column].dropna().head(39)"
   ]
  },
  {
   "cell_type": "code",
   "execution_count": null,
   "id": "0b37f47a",
   "metadata": {
    "scrolled": false
   },
   "outputs": [],
   "source": [
    "tone_start_times"
   ]
  },
  {
   "cell_type": "markdown",
   "id": "9acc80d1",
   "metadata": {},
   "source": [
    "- For second intervals"
   ]
  },
  {
   "cell_type": "code",
   "execution_count": null,
   "id": "29b600b0",
   "metadata": {},
   "outputs": [],
   "source": [
    "all_tone_ratio_seconds_list = []\n",
    "for tone_start_time in tone_start_times:\n",
    "    tone_ratio_dict = defaultdict(dict)\n",
    "    for index, tone_start_ones in enumerate(evenly_spaced_ones_intervals):\n",
    "        actual_time = tone_start_ones + tone_start_time\n",
    "        tone_ratio_dict[actual_time][\"tone_start_ones\"] = tone_start_ones \n",
    "        overlap_ratio = calculate_total_overlap_ratio(med_pc_df=med_pc_df, tone_start=actual_time, tone_end=actual_time + 1)\n",
    "        tone_ratio_dict[actual_time][\"overlap_ratio\"] = overlap_ratio\n",
    "    all_tone_ratio_seconds_list.append(tone_ratio_dict)"
   ]
  },
  {
   "cell_type": "code",
   "execution_count": null,
   "id": "bb8a7641",
   "metadata": {},
   "outputs": [],
   "source": [
    "combined_ones_dict = {k: v for d in all_tone_ratio_seconds_list for k, v in d.items()}"
   ]
  },
  {
   "cell_type": "code",
   "execution_count": null,
   "id": "d939328d",
   "metadata": {},
   "outputs": [],
   "source": [
    "combined_ones_dataframe = pd.DataFrame.from_dict(combined_ones_dict, orient=\"index\")"
   ]
  },
  {
   "cell_type": "code",
   "execution_count": null,
   "id": "15d1e98d",
   "metadata": {},
   "outputs": [],
   "source": [
    "combined_ones_dataframe"
   ]
  },
  {
   "cell_type": "code",
   "execution_count": null,
   "id": "9427d38b",
   "metadata": {},
   "outputs": [],
   "source": [
    "ones_result = combined_ones_dataframe.groupby('tone_start_ones').mean()"
   ]
  },
  {
   "cell_type": "code",
   "execution_count": null,
   "id": "ed2d663c",
   "metadata": {},
   "outputs": [],
   "source": [
    "plt.plot(ones_result.index, ones_result[\"overlap_ratio\"])\n",
    "plt.title(\"Proportions of time spent in port during tone\")\n",
    "plt.xlabel(\"Time from start of tone\")\n",
    "plt.ylabel(\"Proportion of time spent in port\")\n",
    "plt.show()"
   ]
  },
  {
   "cell_type": "markdown",
   "id": "dd50d619",
   "metadata": {},
   "source": [
    "- For one tenth of a second intervals "
   ]
  },
  {
   "cell_type": "code",
   "execution_count": null,
   "id": "d2f2da47",
   "metadata": {},
   "outputs": [],
   "source": [
    "all_tone_ratio_tenths_list = []\n",
    "for tone_start_time in tone_start_times:\n",
    "    tone_ratio_dict = defaultdict(dict)\n",
    "    for index, tone_start_tenths in enumerate(evenly_spaced_tenths_intervals):\n",
    "        actual_time = tone_start_tenths + tone_start_time\n",
    "        tone_ratio_dict[actual_time][\"tone_start_tenths\"] = tone_start_tenths\n",
    "        overlap_ratio = calculate_total_overlap_ratio(med_pc_df=med_pc_df, tone_start=actual_time, tone_end=actual_time + 0.1)\n",
    "        tone_ratio_dict[actual_time][\"overlap_ratio\"] = overlap_ratio\n",
    "    all_tone_ratio_tenths_list.append(tone_ratio_dict)"
   ]
  },
  {
   "cell_type": "code",
   "execution_count": null,
   "id": "6121f4be",
   "metadata": {},
   "outputs": [],
   "source": [
    "combined_tenths_dict = {k: v for d in all_tone_ratio_tenths_list for k, v in d.items()}"
   ]
  },
  {
   "cell_type": "code",
   "execution_count": null,
   "id": "0cce20b6",
   "metadata": {},
   "outputs": [],
   "source": [
    "combined_tenths_dataframe = pd.DataFrame.from_dict(combined_tenths_dict, orient=\"index\")"
   ]
  },
  {
   "cell_type": "code",
   "execution_count": null,
   "id": "d33a0e53",
   "metadata": {},
   "outputs": [],
   "source": [
    "combined_tenths_dataframe"
   ]
  },
  {
   "cell_type": "code",
   "execution_count": null,
   "id": "81cea4df",
   "metadata": {},
   "outputs": [],
   "source": [
    "tenths_result = combined_tenths_dataframe.groupby('tone_start_tenths').mean()"
   ]
  },
  {
   "cell_type": "code",
   "execution_count": null,
   "id": "75543a89",
   "metadata": {},
   "outputs": [],
   "source": [
    "plt.plot(tenths_result.index, tenths_result[\"overlap_ratio\"])\n",
    "plt.title(\"Proportions of time spent in port during tone\")\n",
    "plt.xlabel(\"Time from start of tone\")\n",
    "plt.ylabel(\"Proportion of time spent in port\")\n",
    "plt.show()"
   ]
  },
  {
   "cell_type": "markdown",
   "id": "910f10ef",
   "metadata": {},
   "source": [
    "# TODO: 4. Licking Specifity Average"
   ]
  },
  {
   "cell_type": "markdown",
   "id": "8911d15d",
   "metadata": {},
   "source": [
    "average(probability(t=0-10)) -average(probability(t=-20:0))"
   ]
  },
  {
   "cell_type": "markdown",
   "id": "45ff1854",
   "metadata": {},
   "source": [
    "# TODO: Get the average of each time second interval for the sessions"
   ]
  },
  {
   "cell_type": "code",
   "execution_count": null,
   "id": "c375b618",
   "metadata": {},
   "outputs": [],
   "source": []
  }
 ],
 "metadata": {
  "kernelspec": {
   "display_name": "Python 3 (ipykernel)",
   "language": "python",
   "name": "python3"
  },
  "language_info": {
   "codemirror_mode": {
    "name": "ipython",
    "version": 3
   },
   "file_extension": ".py",
   "mimetype": "text/x-python",
   "name": "python",
   "nbconvert_exporter": "python",
   "pygments_lexer": "ipython3",
   "version": "3.9.12"
  }
 },
 "nbformat": 4,
 "nbformat_minor": 5
}
