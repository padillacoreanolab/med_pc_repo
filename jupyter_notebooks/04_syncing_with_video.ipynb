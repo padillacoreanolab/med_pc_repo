{
 "cells": [
  {
   "cell_type": "markdown",
   "id": "ec0f0e72",
   "metadata": {},
   "source": [
    "# MED-PC Extracting the Recording Data and Metadata"
   ]
  },
  {
   "cell_type": "markdown",
   "id": "3e96b039",
   "metadata": {},
   "source": [
    "## Importing the Python Libraries"
   ]
  },
  {
   "cell_type": "code",
   "execution_count": 1,
   "id": "df497936",
   "metadata": {},
   "outputs": [],
   "source": [
    "import sys\n",
    "import glob\n",
    "from collections import defaultdict\n",
    "import os\n",
    "import datetime\n",
    "import numpy as np\n",
    "import pandas as pd\n",
    "import matplotlib.pyplot as plt\n",
    "from moviepy.editor import *\n",
    "from datetime import datetime\n",
    "from IPython.display import Video"
   ]
  },
  {
   "cell_type": "code",
   "execution_count": 2,
   "id": "b6678428",
   "metadata": {},
   "outputs": [],
   "source": [
    "from medpc2excel.medpc_read import medpc_read"
   ]
  },
  {
   "cell_type": "code",
   "execution_count": 3,
   "id": "d2693f50",
   "metadata": {},
   "outputs": [],
   "source": [
    "# setting path\n",
    "sys.path.append('../src')"
   ]
  },
  {
   "cell_type": "code",
   "execution_count": 4,
   "id": "2eca7742",
   "metadata": {},
   "outputs": [],
   "source": [
    "# All the libraries that were created for this repository\n",
    "import extract.dataframe\n",
    "import processing.tone\n",
    "import extract.metadata"
   ]
  },
  {
   "cell_type": "markdown",
   "id": "52dd42ca",
   "metadata": {},
   "source": [
    "## Getting the Metadata from all the MED-PC Recording Files"
   ]
  },
  {
   "cell_type": "markdown",
   "id": "51a96419",
   "metadata": {},
   "source": [
    "- Getting all the file paths of the recording files(that happen to all end in `.txt`"
   ]
  },
  {
   "cell_type": "markdown",
   "id": "005ccdc3",
   "metadata": {},
   "source": [
    "# NOTE: The following path must be changed to the directory where your MED-PC recording files are located, if they are not in the specied folder"
   ]
  },
  {
   "cell_type": "code",
   "execution_count": 5,
   "id": "faa6c858",
   "metadata": {},
   "outputs": [],
   "source": [
    "all_med_pc_file = glob.glob(\"./data/recording_with_visual_cue/*.txt\")"
   ]
  },
  {
   "cell_type": "markdown",
   "id": "07578f1d",
   "metadata": {},
   "source": [
    "- Use this instead if you're using you're own data"
   ]
  },
  {
   "cell_type": "raw",
   "id": "3d3671a9",
   "metadata": {},
   "source": [
    "all_med_pc_file = glob.glob(\"./data/clock_recording/*.txt\")"
   ]
  },
  {
   "cell_type": "code",
   "execution_count": 6,
   "id": "29194eda",
   "metadata": {},
   "outputs": [
    {
     "data": {
      "text/plain": [
       "['./data/recording_with_visual_cue/2022-07-01_12h47m_Subject .txt',\n",
       " './data/recording_with_visual_cue/2022-07-01_12h54m_Subject .txt']"
      ]
     },
     "execution_count": 6,
     "metadata": {},
     "output_type": "execute_result"
    }
   ],
   "source": [
    "all_med_pc_file[:10]"
   ]
  },
  {
   "cell_type": "markdown",
   "id": "062be1de",
   "metadata": {},
   "source": [
    "- Example of what the MED-PC Recording file looks like"
   ]
  },
  {
   "cell_type": "code",
   "execution_count": 7,
   "id": "1c7118af",
   "metadata": {},
   "outputs": [
    {
     "name": "stdout",
     "output_type": "stream",
     "text": [
      "File: C:\\MED-PC\\Data\\2022-07-01_12h47m_Subject .txt\n",
      "\n",
      "\n",
      "\n",
      "\n",
      "\n",
      "\n",
      "\n",
      "Start Date: 07/01/22\n",
      "\n",
      "End Date: 07/01/22\n",
      "\n",
      "Subject: \n",
      "\n",
      "Experiment: \n",
      "\n",
      "Group: \n",
      "\n",
      "Box: 1\n",
      "\n",
      "Start Time: 12:47:43\n",
      "\n",
      "End Time: 12:53:52\n",
      "\n",
      "MSN: iwata_clock_test\n",
      "\n",
      "A:    3399.000\n",
      "\n",
      "D:    7500.000\n",
      "\n",
      "F:    2000.000\n",
      "\n",
      "L:       0.000\n",
      "\n",
      "O:       0.000\n",
      "\n",
      "T:     344.020\n",
      "\n",
      "U:     310.010\n",
      "\n"
     ]
    }
   ],
   "source": [
    "with open(all_med_pc_file[0]) as f:\n",
    "    lines = f.readlines()\n",
    "    for line in lines[:20]:\n",
    "        print(line)"
   ]
  },
  {
   "cell_type": "markdown",
   "id": "23b6a4cc",
   "metadata": {},
   "source": [
    "- We will be extracting the first 10 or so lines that look like:\n",
    "\n",
    "```\n",
    "File: C:\\MED-PC\\Data\\2022-05-06_12h59m_Subject 3.4 (2).txt\n",
    "\n",
    "Start Date: 05/06/22\n",
    "\n",
    "End Date: 05/06/22\n",
    "\n",
    "Subject: 3.4 (2)\n",
    "\n",
    "Experiment: Pilot of Pilot\n",
    "\n",
    "Group: Cage 4\n",
    "\n",
    "Box: 1\n",
    "\n",
    "Start Time: 12:59:58\n",
    "\n",
    "End Time: 14:02:38\n",
    "\n",
    "MSN: levelNP_CS_reward_laserepochON1st_noshock\n",
    "```\n",
    "    \n",
    "- We will just find all the lines that start with \"File\", \"Start Date\", \"End Date\", \"Subject\", \"Experiment\", \"Group\", \"Box\", \"Start Time\", \"End Time\", or \"MSN\". And then stop once all the metadata types have been collected"
   ]
  },
  {
   "cell_type": "code",
   "execution_count": 8,
   "id": "67503081",
   "metadata": {},
   "outputs": [],
   "source": [
    "# This makes a nested dictionary of file paths to each individual metadata type\n",
    "file_path_to_meta_data = extract.metadata.get_all_med_pc_meta_data_from_files(list_of_files=all_med_pc_file)"
   ]
  },
  {
   "cell_type": "code",
   "execution_count": 9,
   "id": "35ff0f55",
   "metadata": {},
   "outputs": [
    {
     "name": "stdout",
     "output_type": "stream",
     "text": [
      "File path: ./data/recording_with_visual_cue/2022-07-01_12h47m_Subject .txt\n",
      "Metadata types and associated values: {'File': 'C:\\\\MED-PC\\\\Data\\\\2022-07-01_12h47m_Subject .txt', 'Start Date': '07/01/22', 'End Date': '07/01/22', 'Subject': '', 'Experiment': '', 'Group': '', 'Box': '1', 'Start Time': '12:47:43', 'End Time': '12:53:52', 'MSN': 'iwata_clock_test'}\n"
     ]
    }
   ],
   "source": [
    "for key, value in file_path_to_meta_data.items():\n",
    "    print(\"File path: {}\".format(key))\n",
    "    print(\"Metadata types and associated values: {}\".format(value))\n",
    "    break"
   ]
  },
  {
   "cell_type": "markdown",
   "id": "2c00edf5",
   "metadata": {},
   "source": [
    "## Making a Dataframe out of the Metadata"
   ]
  },
  {
   "cell_type": "code",
   "execution_count": 10,
   "id": "6fcb3201",
   "metadata": {},
   "outputs": [],
   "source": [
    "# Turning the dictionary into a Pandas Dataframe\n",
    "metadata_df = pd.DataFrame.from_dict(file_path_to_meta_data, orient=\"index\")\n",
    "# Resetting the index because currently the file path is the index \n",
    "metadata_df = metadata_df.reset_index()"
   ]
  },
  {
   "cell_type": "code",
   "execution_count": 11,
   "id": "b98fcaf2",
   "metadata": {},
   "outputs": [
    {
     "data": {
      "text/html": [
       "<div>\n",
       "<style scoped>\n",
       "    .dataframe tbody tr th:only-of-type {\n",
       "        vertical-align: middle;\n",
       "    }\n",
       "\n",
       "    .dataframe tbody tr th {\n",
       "        vertical-align: top;\n",
       "    }\n",
       "\n",
       "    .dataframe thead th {\n",
       "        text-align: right;\n",
       "    }\n",
       "</style>\n",
       "<table border=\"1\" class=\"dataframe\">\n",
       "  <thead>\n",
       "    <tr style=\"text-align: right;\">\n",
       "      <th></th>\n",
       "      <th>index</th>\n",
       "      <th>File</th>\n",
       "      <th>Start Date</th>\n",
       "      <th>End Date</th>\n",
       "      <th>Subject</th>\n",
       "      <th>Experiment</th>\n",
       "      <th>Group</th>\n",
       "      <th>Box</th>\n",
       "      <th>Start Time</th>\n",
       "      <th>End Time</th>\n",
       "      <th>MSN</th>\n",
       "    </tr>\n",
       "  </thead>\n",
       "  <tbody>\n",
       "    <tr>\n",
       "      <th>0</th>\n",
       "      <td>./data/recording_with_visual_cue/2022-07-01_12...</td>\n",
       "      <td>C:\\MED-PC\\Data\\2022-07-01_12h47m_Subject .txt</td>\n",
       "      <td>07/01/22</td>\n",
       "      <td>07/01/22</td>\n",
       "      <td></td>\n",
       "      <td></td>\n",
       "      <td></td>\n",
       "      <td>1</td>\n",
       "      <td>12:47:43</td>\n",
       "      <td>12:53:52</td>\n",
       "      <td>iwata_clock_test</td>\n",
       "    </tr>\n",
       "    <tr>\n",
       "      <th>1</th>\n",
       "      <td>./data/recording_with_visual_cue/2022-07-01_12...</td>\n",
       "      <td>C:\\MED-PC\\Data\\2022-07-01_12h54m_Subject .txt</td>\n",
       "      <td>07/01/22</td>\n",
       "      <td>07/01/22</td>\n",
       "      <td></td>\n",
       "      <td></td>\n",
       "      <td></td>\n",
       "      <td>1</td>\n",
       "      <td>12:54:17</td>\n",
       "      <td>13:00:09</td>\n",
       "      <td>iwata_clock_test</td>\n",
       "    </tr>\n",
       "  </tbody>\n",
       "</table>\n",
       "</div>"
      ],
      "text/plain": [
       "                                               index  \\\n",
       "0  ./data/recording_with_visual_cue/2022-07-01_12...   \n",
       "1  ./data/recording_with_visual_cue/2022-07-01_12...   \n",
       "\n",
       "                                            File Start Date  End Date Subject  \\\n",
       "0  C:\\MED-PC\\Data\\2022-07-01_12h47m_Subject .txt   07/01/22  07/01/22           \n",
       "1  C:\\MED-PC\\Data\\2022-07-01_12h54m_Subject .txt   07/01/22  07/01/22           \n",
       "\n",
       "  Experiment Group Box Start Time  End Time               MSN  \n",
       "0                    1   12:47:43  12:53:52  iwata_clock_test  \n",
       "1                    1   12:54:17  13:00:09  iwata_clock_test  "
      ]
     },
     "execution_count": 11,
     "metadata": {},
     "output_type": "execute_result"
    }
   ],
   "source": [
    "metadata_df.head()"
   ]
  },
  {
   "cell_type": "code",
   "execution_count": 12,
   "id": "371584e7",
   "metadata": {},
   "outputs": [
    {
     "data": {
      "text/html": [
       "<div>\n",
       "<style scoped>\n",
       "    .dataframe tbody tr th:only-of-type {\n",
       "        vertical-align: middle;\n",
       "    }\n",
       "\n",
       "    .dataframe tbody tr th {\n",
       "        vertical-align: top;\n",
       "    }\n",
       "\n",
       "    .dataframe thead th {\n",
       "        text-align: right;\n",
       "    }\n",
       "</style>\n",
       "<table border=\"1\" class=\"dataframe\">\n",
       "  <thead>\n",
       "    <tr style=\"text-align: right;\">\n",
       "      <th></th>\n",
       "      <th>index</th>\n",
       "      <th>File</th>\n",
       "      <th>Start Date</th>\n",
       "      <th>End Date</th>\n",
       "      <th>Subject</th>\n",
       "      <th>Experiment</th>\n",
       "      <th>Group</th>\n",
       "      <th>Box</th>\n",
       "      <th>Start Time</th>\n",
       "      <th>End Time</th>\n",
       "      <th>MSN</th>\n",
       "    </tr>\n",
       "  </thead>\n",
       "  <tbody>\n",
       "    <tr>\n",
       "      <th>0</th>\n",
       "      <td>./data/recording_with_visual_cue/2022-07-01_12...</td>\n",
       "      <td>C:\\MED-PC\\Data\\2022-07-01_12h47m_Subject .txt</td>\n",
       "      <td>07/01/22</td>\n",
       "      <td>07/01/22</td>\n",
       "      <td></td>\n",
       "      <td></td>\n",
       "      <td></td>\n",
       "      <td>1</td>\n",
       "      <td>12:47:43</td>\n",
       "      <td>12:53:52</td>\n",
       "      <td>iwata_clock_test</td>\n",
       "    </tr>\n",
       "    <tr>\n",
       "      <th>1</th>\n",
       "      <td>./data/recording_with_visual_cue/2022-07-01_12...</td>\n",
       "      <td>C:\\MED-PC\\Data\\2022-07-01_12h54m_Subject .txt</td>\n",
       "      <td>07/01/22</td>\n",
       "      <td>07/01/22</td>\n",
       "      <td></td>\n",
       "      <td></td>\n",
       "      <td></td>\n",
       "      <td>1</td>\n",
       "      <td>12:54:17</td>\n",
       "      <td>13:00:09</td>\n",
       "      <td>iwata_clock_test</td>\n",
       "    </tr>\n",
       "  </tbody>\n",
       "</table>\n",
       "</div>"
      ],
      "text/plain": [
       "                                               index  \\\n",
       "0  ./data/recording_with_visual_cue/2022-07-01_12...   \n",
       "1  ./data/recording_with_visual_cue/2022-07-01_12...   \n",
       "\n",
       "                                            File Start Date  End Date Subject  \\\n",
       "0  C:\\MED-PC\\Data\\2022-07-01_12h47m_Subject .txt   07/01/22  07/01/22           \n",
       "1  C:\\MED-PC\\Data\\2022-07-01_12h54m_Subject .txt   07/01/22  07/01/22           \n",
       "\n",
       "  Experiment Group Box Start Time  End Time               MSN  \n",
       "0                    1   12:47:43  12:53:52  iwata_clock_test  \n",
       "1                    1   12:54:17  13:00:09  iwata_clock_test  "
      ]
     },
     "execution_count": 12,
     "metadata": {},
     "output_type": "execute_result"
    }
   ],
   "source": [
    "metadata_df.tail()"
   ]
  },
  {
   "cell_type": "markdown",
   "id": "8ac4297a",
   "metadata": {},
   "source": [
    "- Just getting the numbers out of the column that contains the cage information"
   ]
  },
  {
   "cell_type": "markdown",
   "id": "dd4bc5a5",
   "metadata": {},
   "source": [
    "## Inputting all the MED-PC log files"
   ]
  },
  {
   "cell_type": "markdown",
   "id": "c78aaf6c",
   "metadata": {},
   "source": [
    "- Example of what the MED-PC Script looks like that was ran when recording the behaviors"
   ]
  },
  {
   "cell_type": "code",
   "execution_count": 13,
   "id": "8dee131d",
   "metadata": {},
   "outputs": [
    {
     "name": "stdout",
     "output_type": "stream",
     "text": [
      "\\v3 stop tone with poke\n",
      "\n",
      "\\v3.2 monitor port entries AND exits\n",
      "\n",
      "\n",
      "\n",
      "\\INPUTS\n",
      "\n",
      "^port = 8\n",
      "\n",
      "\n",
      "\n",
      "\\OUTPUTS\n",
      "\n",
      "^fan = 16\n",
      "\n",
      "^houselight = 11\n",
      "\n",
      "^tone1 = 2\n",
      "\n",
      "^tone2 = 3\n",
      "\n",
      "^tone3 = 4\n",
      "\n",
      "^tone4 = 5\n",
      "\n",
      "^pump = 9\n",
      "\n",
      "^whitenoise = 1\n",
      "\n",
      "^laser=10\n",
      "\n",
      "^csout = 5\n",
      "\n",
      "^peout = 15\n",
      "\n",
      "^cs1out = 12\n",
      "\n",
      "^cs2out = 13\n",
      "\n",
      "^cs3out = 14\n",
      "\n",
      "\n",
      "\n",
      "\\EXP SETTINGS\n",
      "\n",
      "^ncsNoShock = 0\n",
      "\n",
      "^initCS1trials = 3\n",
      "\n",
      "\n",
      "\n",
      "\\ARRAYS\n",
      "\n",
      "DIM P = 20000 \\Port entry time stamp array\n",
      "\n",
      "DIM Q = 2500 \\US delivery time stamp array (absolute)\n",
      "\n",
      "DIM R = 2500 \\US time stamp array (relative to last CS)\n",
      "\n",
      "DIM W = 2500 \\ITI values used for CS\n",
      "\n",
      "DIM S = 2500 \\CS presentation values (absolute - every time light turns on)\n",
      "\n",
      "DIM N = 20000 \\Port exit time stamp array\n",
      "\n",
      "DIM K = 2500 \\CS type\n",
      "\n",
      "DIM B = 2500 \\shock intensity\n",
      "\n",
      "\n",
      "\n",
      "LIST V = 30\", 30\", 30\", 30\", 100\", 95\", 90\", 80\", 90\", 100\", 90\", 120\", 90\", 85\", 90\", 95\", 120\", 80\", 95\", 80\", 90\", 80\", 75\", 100\", 95\", 90\", 80\", 90\", 100\", 90\", 120\", 90\", 85\", 90\", 95\", 90\", 80\", 90\", 100\", 90\", 90\", 90\", 90\", 90\", 90\", 90\", 90\", 90\", 90\", 90\", 90\", 90\", 90\", 90\", 90\", 90\", 90\", 90\", 90\"  \\, 100\", 108\", 117\", 121\", 133\", 145\", 165\" \\CS ITI values (tone + houselight)\n",
      "\n",
      "LIST E = 30\", 30\", 30\" \\CS ITI values for first few trials\n",
      "\n",
      "LIST M = 1, 1, 1, 1, 1, 1, 1, 1, 1, 1, 1, 1, 1, 1, 1, 1, 1, 1, 1, 1,1, 1, 1, 1, 1, 1, 1, 1, 1, 1, 1, 1, 1, 1, 1, 1, 1, 1, 1, 1 \\1 is CS1, 2 is CS2, 3 is CS3\n",
      "\n",
      "LIST J =0.7, 0.7, 0.7, 0.7 \\0.9, 0.9, 0.9, 0.9 \\0, 0.3, 0.6, 0.9\n",
      "\n",
      "\n",
      "\n",
      "\\Counter and Flag array\n",
      "\n",
      "DIM C = 10\n",
      "\n",
      "\\All counters are zero-indexed!! Meaning, if C(0) = 3, there were 4 port entries\n",
      "\n",
      "\\C(0) counter for number of port entries\n",
      "\n",
      "\\C(1) counter for CS presentation number\n",
      "\n",
      "\\C(2) counter for US delivery : this is 1-indexed,  meaning number indicates number of sucrose deliveries\n",
      "\n",
      "\\C(3) flag to indicate if sucrose is in port =0 if no port entry was made, =1 if port entry was made (i.e., no sucrose)\n",
      "\n",
      "\\C(4) counter for number of port exits\n",
      "\n",
      "\\C(5) number of CS1\n",
      "\n",
      "\\C(6) number of CS2\n",
      "\n",
      "\\C(7) number of CS3\n",
      "\n",
      "\\C(8) number of sucrose deliveries\n",
      "\n",
      "\\C(9) number of shock deliveries\n",
      "\n",
      "\n",
      "\n",
      "\\Z-pulses\n",
      "\n",
      "\\Z1: start task after initial delay\n",
      "\n",
      "\\Z2: start of CS\n",
      "\n",
      "\\Z3: port entry\n",
      "\n",
      "\\Z4: port exit\n",
      "\n",
      "\\Z5: trigger CS1\n",
      "\n",
      "\\Z6: trigger CS2\n",
      "\n",
      "\\Z7: trigger CS3\n",
      "\n",
      "\\Z8: turn off all CS triggers\n",
      "\n",
      "\\Z12: INX trigger TTL\n",
      "\n",
      "\n",
      "\n",
      "\\Variables\n",
      "\n",
      "\\A - Time since last CS\n",
      "\n",
      "\\B - Shock intensity\n",
      "\n",
      "\\C - Counter array\n",
      "\n",
      "\\D - Current ITI value\n",
      "\n",
      "\\E - CS ITI values for first few trials\n",
      "\n",
      "\\F - Shock duration\n",
      "\n",
      "\\G -\n",
      "\n",
      "\\H -\n",
      "\n",
      "\\I -\n",
      "\n",
      "\\J - Shock intensity repo\n",
      "\n",
      "\\K - CS type\n",
      "\n",
      "\\L -\n",
      "\n",
      "\\M - CS type repo\n",
      "\n",
      "\\N - Port exit time stamp array\n",
      "\n",
      "\\O -\n",
      "\n",
      "\\P - Port entry time stamp array\n",
      "\n",
      "\\Q - Sucrose delivery time stamp array (absolute)\n",
      "\n",
      "\\R - Sucrose delivery time stamp array (relative to last CS)\n",
      "\n",
      "\\S - CS presentation time stamp array\n",
      "\n",
      "\\T - Session timer\n",
      "\n",
      "\\U - Time since last CS presentation\n",
      "\n",
      "\\V - List of CS ITI values (tone + houselight)\n",
      "\n",
      "\\W - ITI values used for CS one each trial\n",
      "\n",
      "\\X -\n",
      "\n",
      "\\Y - Beam break monitor variable\n",
      "\n",
      "\\Z -\n",
      "\n",
      "\n",
      "\n",
      "\n",
      "\n",
      "DISKVARS = A, B, C, D, E, F, G, H, I, J, K, L, M, N, O, P, Q, R, S, T, U, V, W, X, Y, Z\n",
      "\n",
      "DISKCOLUMNS = 1\n",
      "\n",
      "\n",
      "\n",
      "\\Detect port entry\n",
      "\n",
      "S.S.1,\n",
      "\n"
     ]
    }
   ],
   "source": [
    "with open(\"./scripts/levelNP_CS_reward_laserepochON1st_noshock.MPC\") as f:\n",
    "    lines = f.readlines()\n",
    "    for line in lines[:100]:\n",
    "        print(line)"
   ]
  },
  {
   "cell_type": "markdown",
   "id": "0ee62e6c",
   "metadata": {},
   "source": [
    "- We will be using the comments in the MED-PC script(which starts with the `\\`) to create a name for the variables. By default, MED-PC uses a single letter as the name of the variable.\n",
    "    - This will use the medpc2excel library found in https://github.com/cyf203/medpc2excel\n",
    "- Example of the comments in the MED-PC script that we will use the names from:\n",
    "\n",
    "```\n",
    "\\Variables\n",
    "\n",
    "\\A - Time since last CS\n",
    "\n",
    "\\B - Shock intensity\n",
    "\n",
    "\\C - Counter array\n",
    "\n",
    "\\D - Current ITI value\n",
    "\n",
    "\\E - CS ITI values for first few trials\n",
    "\n",
    "\\F - Shock duration\n",
    "\n",
    "\\G -\n",
    "\n",
    "\\H -\n",
    "\n",
    "\\I -\n",
    "\n",
    "\\J - Shock intensity repo\n",
    "\n",
    "\\K - CS type\n",
    "\n",
    "\\L -\n",
    "\n",
    "\\M - CS type repo\n",
    "\n",
    "\\N - Port exit time stamp array\n",
    "\n",
    "\\O -\n",
    "\n",
    "\\P - Port entry time stamp array\n",
    "\n",
    "\\Q - Sucrose delivery time stamp array (absolute)\n",
    "\n",
    "\\R - Sucrose delivery time stamp array (relative to last CS)\n",
    "\n",
    "\\S - CS presentation time stamp array\n",
    "\n",
    "\\T - Session timer\n",
    "\n",
    "\\U - Time since last CS presentation\n",
    "\n",
    "\\V - List of CS ITI values (tone + houselight)\n",
    "\n",
    "\\W - ITI values used for CS one each trial\n",
    "\n",
    "\\X -\n",
    "\n",
    "\\Y - Beam break monitor variable\n",
    "\n",
    "\\Z -\n",
    "```"
   ]
  },
  {
   "cell_type": "code",
   "execution_count": 14,
   "id": "7d7b57bd",
   "metadata": {
    "scrolled": true
   },
   "outputs": [
    {
     "name": "stdout",
     "output_type": "stream",
     "text": [
      "File: C:\\MED-PC\\Data\\2022-07-01_12h47m_Subject .txt\n",
      "\n",
      "\n",
      "\n",
      "\n",
      "\n",
      "\n",
      "\n",
      "Start Date: 07/01/22\n",
      "\n",
      "End Date: 07/01/22\n",
      "\n",
      "Subject: \n",
      "\n",
      "Experiment: \n",
      "\n",
      "Group: \n",
      "\n",
      "Box: 1\n",
      "\n",
      "Start Time: 12:47:43\n",
      "\n",
      "End Time: 12:53:52\n",
      "\n",
      "MSN: iwata_clock_test\n",
      "\n",
      "A:    3399.000\n",
      "\n",
      "D:    7500.000\n",
      "\n",
      "F:    2000.000\n",
      "\n",
      "L:       0.000\n",
      "\n",
      "O:       0.000\n",
      "\n",
      "T:     344.020\n",
      "\n",
      "U:     310.010\n",
      "\n"
     ]
    }
   ],
   "source": [
    "with open(all_med_pc_file[0]) as f:\n",
    "    lines = f.readlines()\n",
    "    for line in lines[:20]:\n",
    "        print(line)"
   ]
  },
  {
   "cell_type": "markdown",
   "id": "3480b276",
   "metadata": {},
   "source": [
    "- **Please make sure that the corresponding `.mpc` file (aka the MED-PC script) that was ran to create the log file, is also in the same folder**"
   ]
  },
  {
   "cell_type": "code",
   "execution_count": null,
   "id": "e7afabfc",
   "metadata": {},
   "outputs": [],
   "source": []
  },
  {
   "cell_type": "code",
   "execution_count": 15,
   "id": "0c38d1eb",
   "metadata": {
    "scrolled": false
   },
   "outputs": [],
   "source": [
    "concatted_medpc_df = extract.dataframe.get_medpc_dataframe_from_list_of_files(medpc_files=all_med_pc_file)\n",
    "concatted_medpc_df = concatted_medpc_df.reset_index(drop=True)"
   ]
  },
  {
   "cell_type": "code",
   "execution_count": 16,
   "id": "f9339573",
   "metadata": {},
   "outputs": [
    {
     "data": {
      "text/html": [
       "<div>\n",
       "<style scoped>\n",
       "    .dataframe tbody tr th:only-of-type {\n",
       "        vertical-align: middle;\n",
       "    }\n",
       "\n",
       "    .dataframe tbody tr th {\n",
       "        vertical-align: top;\n",
       "    }\n",
       "\n",
       "    .dataframe thead th {\n",
       "        text-align: right;\n",
       "    }\n",
       "</style>\n",
       "<table border=\"1\" class=\"dataframe\">\n",
       "  <thead>\n",
       "    <tr style=\"text-align: right;\">\n",
       "      <th></th>\n",
       "      <th>(P)Portentry</th>\n",
       "      <th>(Q)USdelivery</th>\n",
       "      <th>(R)UStime</th>\n",
       "      <th>(W)ITIvalues</th>\n",
       "      <th>(S)CSpresentation</th>\n",
       "      <th>(G)CS_secondspresentation</th>\n",
       "      <th>(H)CS_minutespresentation</th>\n",
       "      <th>(I)CS_hourspresentation</th>\n",
       "      <th>(N)Portexit</th>\n",
       "      <th>(K)CStype</th>\n",
       "      <th>(B)shockintensity</th>\n",
       "      <th>date</th>\n",
       "      <th>subject</th>\n",
       "      <th>file_path</th>\n",
       "    </tr>\n",
       "  </thead>\n",
       "  <tbody>\n",
       "    <tr>\n",
       "      <th>0</th>\n",
       "      <td>253.30</td>\n",
       "      <td>64.0</td>\n",
       "      <td>399.0</td>\n",
       "      <td>0.0</td>\n",
       "      <td>60.01</td>\n",
       "      <td>8.0</td>\n",
       "      <td>49.0</td>\n",
       "      <td>12.0</td>\n",
       "      <td>254.27</td>\n",
       "      <td>1.0</td>\n",
       "      <td>0.0</td>\n",
       "      <td>20220701</td>\n",
       "      <td></td>\n",
       "      <td>./data/recording_with_visual_cue/2022-07-01_12...</td>\n",
       "    </tr>\n",
       "    <tr>\n",
       "      <th>1</th>\n",
       "      <td>255.08</td>\n",
       "      <td>314.0</td>\n",
       "      <td>399.0</td>\n",
       "      <td>0.0</td>\n",
       "      <td>140.01</td>\n",
       "      <td>28.0</td>\n",
       "      <td>50.0</td>\n",
       "      <td>12.0</td>\n",
       "      <td>255.79</td>\n",
       "      <td>1.0</td>\n",
       "      <td>0.0</td>\n",
       "      <td>20220701</td>\n",
       "      <td></td>\n",
       "      <td>./data/recording_with_visual_cue/2022-07-01_12...</td>\n",
       "    </tr>\n",
       "    <tr>\n",
       "      <th>2</th>\n",
       "      <td>256.75</td>\n",
       "      <td>NaN</td>\n",
       "      <td>NaN</td>\n",
       "      <td>0.0</td>\n",
       "      <td>230.01</td>\n",
       "      <td>58.0</td>\n",
       "      <td>51.0</td>\n",
       "      <td>12.0</td>\n",
       "      <td>257.63</td>\n",
       "      <td>1.0</td>\n",
       "      <td>0.0</td>\n",
       "      <td>20220701</td>\n",
       "      <td></td>\n",
       "      <td>./data/recording_with_visual_cue/2022-07-01_12...</td>\n",
       "    </tr>\n",
       "    <tr>\n",
       "      <th>3</th>\n",
       "      <td>258.44</td>\n",
       "      <td>NaN</td>\n",
       "      <td>NaN</td>\n",
       "      <td>0.0</td>\n",
       "      <td>310.01</td>\n",
       "      <td>18.0</td>\n",
       "      <td>53.0</td>\n",
       "      <td>12.0</td>\n",
       "      <td>259.22</td>\n",
       "      <td>1.0</td>\n",
       "      <td>0.0</td>\n",
       "      <td>20220701</td>\n",
       "      <td></td>\n",
       "      <td>./data/recording_with_visual_cue/2022-07-01_12...</td>\n",
       "    </tr>\n",
       "    <tr>\n",
       "      <th>4</th>\n",
       "      <td>259.80</td>\n",
       "      <td>NaN</td>\n",
       "      <td>NaN</td>\n",
       "      <td>0.0</td>\n",
       "      <td>8000.00</td>\n",
       "      <td>0.0</td>\n",
       "      <td>0.0</td>\n",
       "      <td>0.0</td>\n",
       "      <td>260.50</td>\n",
       "      <td>0.0</td>\n",
       "      <td>0.0</td>\n",
       "      <td>20220701</td>\n",
       "      <td></td>\n",
       "      <td>./data/recording_with_visual_cue/2022-07-01_12...</td>\n",
       "    </tr>\n",
       "  </tbody>\n",
       "</table>\n",
       "</div>"
      ],
      "text/plain": [
       "   (P)Portentry  (Q)USdelivery  (R)UStime  (W)ITIvalues  (S)CSpresentation  \\\n",
       "0        253.30           64.0      399.0           0.0              60.01   \n",
       "1        255.08          314.0      399.0           0.0             140.01   \n",
       "2        256.75            NaN        NaN           0.0             230.01   \n",
       "3        258.44            NaN        NaN           0.0             310.01   \n",
       "4        259.80            NaN        NaN           0.0            8000.00   \n",
       "\n",
       "   (G)CS_secondspresentation  (H)CS_minutespresentation  \\\n",
       "0                        8.0                       49.0   \n",
       "1                       28.0                       50.0   \n",
       "2                       58.0                       51.0   \n",
       "3                       18.0                       53.0   \n",
       "4                        0.0                        0.0   \n",
       "\n",
       "   (I)CS_hourspresentation  (N)Portexit  (K)CStype  (B)shockintensity  \\\n",
       "0                     12.0       254.27        1.0                0.0   \n",
       "1                     12.0       255.79        1.0                0.0   \n",
       "2                     12.0       257.63        1.0                0.0   \n",
       "3                     12.0       259.22        1.0                0.0   \n",
       "4                      0.0       260.50        0.0                0.0   \n",
       "\n",
       "       date subject                                          file_path  \n",
       "0  20220701          ./data/recording_with_visual_cue/2022-07-01_12...  \n",
       "1  20220701          ./data/recording_with_visual_cue/2022-07-01_12...  \n",
       "2  20220701          ./data/recording_with_visual_cue/2022-07-01_12...  \n",
       "3  20220701          ./data/recording_with_visual_cue/2022-07-01_12...  \n",
       "4  20220701          ./data/recording_with_visual_cue/2022-07-01_12...  "
      ]
     },
     "execution_count": 16,
     "metadata": {},
     "output_type": "execute_result"
    }
   ],
   "source": [
    "concatted_medpc_df.head()"
   ]
  },
  {
   "cell_type": "markdown",
   "id": "faf9155d",
   "metadata": {},
   "source": [
    "- Dropping all rows that don't have the CS presentation time"
   ]
  },
  {
   "cell_type": "code",
   "execution_count": 17,
   "id": "c0067591",
   "metadata": {
    "scrolled": true
   },
   "outputs": [],
   "source": [
    "cs_time_df = concatted_medpc_df[concatted_medpc_df[\"(G)CS_secondspresentation\"] != 0.0].dropna(subset=\"(G)CS_secondspresentation\")"
   ]
  },
  {
   "cell_type": "code",
   "execution_count": 18,
   "id": "b96708e1",
   "metadata": {},
   "outputs": [
    {
     "data": {
      "text/html": [
       "<div>\n",
       "<style scoped>\n",
       "    .dataframe tbody tr th:only-of-type {\n",
       "        vertical-align: middle;\n",
       "    }\n",
       "\n",
       "    .dataframe tbody tr th {\n",
       "        vertical-align: top;\n",
       "    }\n",
       "\n",
       "    .dataframe thead th {\n",
       "        text-align: right;\n",
       "    }\n",
       "</style>\n",
       "<table border=\"1\" class=\"dataframe\">\n",
       "  <thead>\n",
       "    <tr style=\"text-align: right;\">\n",
       "      <th></th>\n",
       "      <th>(P)Portentry</th>\n",
       "      <th>(Q)USdelivery</th>\n",
       "      <th>(R)UStime</th>\n",
       "      <th>(W)ITIvalues</th>\n",
       "      <th>(S)CSpresentation</th>\n",
       "      <th>(G)CS_secondspresentation</th>\n",
       "      <th>(H)CS_minutespresentation</th>\n",
       "      <th>(I)CS_hourspresentation</th>\n",
       "      <th>(N)Portexit</th>\n",
       "      <th>(K)CStype</th>\n",
       "      <th>(B)shockintensity</th>\n",
       "      <th>date</th>\n",
       "      <th>subject</th>\n",
       "      <th>file_path</th>\n",
       "    </tr>\n",
       "  </thead>\n",
       "  <tbody>\n",
       "    <tr>\n",
       "      <th>0</th>\n",
       "      <td>253.30</td>\n",
       "      <td>64.0</td>\n",
       "      <td>399.0</td>\n",
       "      <td>0.0</td>\n",
       "      <td>60.01</td>\n",
       "      <td>8.0</td>\n",
       "      <td>49.0</td>\n",
       "      <td>12.0</td>\n",
       "      <td>254.27</td>\n",
       "      <td>1.0</td>\n",
       "      <td>0.0</td>\n",
       "      <td>20220701</td>\n",
       "      <td></td>\n",
       "      <td>./data/recording_with_visual_cue/2022-07-01_12...</td>\n",
       "    </tr>\n",
       "    <tr>\n",
       "      <th>1</th>\n",
       "      <td>255.08</td>\n",
       "      <td>314.0</td>\n",
       "      <td>399.0</td>\n",
       "      <td>0.0</td>\n",
       "      <td>140.01</td>\n",
       "      <td>28.0</td>\n",
       "      <td>50.0</td>\n",
       "      <td>12.0</td>\n",
       "      <td>255.79</td>\n",
       "      <td>1.0</td>\n",
       "      <td>0.0</td>\n",
       "      <td>20220701</td>\n",
       "      <td></td>\n",
       "      <td>./data/recording_with_visual_cue/2022-07-01_12...</td>\n",
       "    </tr>\n",
       "    <tr>\n",
       "      <th>2</th>\n",
       "      <td>256.75</td>\n",
       "      <td>NaN</td>\n",
       "      <td>NaN</td>\n",
       "      <td>0.0</td>\n",
       "      <td>230.01</td>\n",
       "      <td>58.0</td>\n",
       "      <td>51.0</td>\n",
       "      <td>12.0</td>\n",
       "      <td>257.63</td>\n",
       "      <td>1.0</td>\n",
       "      <td>0.0</td>\n",
       "      <td>20220701</td>\n",
       "      <td></td>\n",
       "      <td>./data/recording_with_visual_cue/2022-07-01_12...</td>\n",
       "    </tr>\n",
       "    <tr>\n",
       "      <th>3</th>\n",
       "      <td>258.44</td>\n",
       "      <td>NaN</td>\n",
       "      <td>NaN</td>\n",
       "      <td>0.0</td>\n",
       "      <td>310.01</td>\n",
       "      <td>18.0</td>\n",
       "      <td>53.0</td>\n",
       "      <td>12.0</td>\n",
       "      <td>259.22</td>\n",
       "      <td>1.0</td>\n",
       "      <td>0.0</td>\n",
       "      <td>20220701</td>\n",
       "      <td></td>\n",
       "      <td>./data/recording_with_visual_cue/2022-07-01_12...</td>\n",
       "    </tr>\n",
       "    <tr>\n",
       "      <th>2541</th>\n",
       "      <td>75.05</td>\n",
       "      <td>64.0</td>\n",
       "      <td>399.0</td>\n",
       "      <td>0.0</td>\n",
       "      <td>60.01</td>\n",
       "      <td>21.0</td>\n",
       "      <td>55.0</td>\n",
       "      <td>12.0</td>\n",
       "      <td>75.75</td>\n",
       "      <td>1.0</td>\n",
       "      <td>0.0</td>\n",
       "      <td>20220701</td>\n",
       "      <td></td>\n",
       "      <td>./data/recording_with_visual_cue/2022-07-01_12...</td>\n",
       "    </tr>\n",
       "    <tr>\n",
       "      <th>2542</th>\n",
       "      <td>76.20</td>\n",
       "      <td>144.0</td>\n",
       "      <td>399.0</td>\n",
       "      <td>0.0</td>\n",
       "      <td>140.01</td>\n",
       "      <td>41.0</td>\n",
       "      <td>56.0</td>\n",
       "      <td>12.0</td>\n",
       "      <td>76.82</td>\n",
       "      <td>1.0</td>\n",
       "      <td>0.0</td>\n",
       "      <td>20220701</td>\n",
       "      <td></td>\n",
       "      <td>./data/recording_with_visual_cue/2022-07-01_12...</td>\n",
       "    </tr>\n",
       "    <tr>\n",
       "      <th>2543</th>\n",
       "      <td>77.65</td>\n",
       "      <td>234.0</td>\n",
       "      <td>399.0</td>\n",
       "      <td>0.0</td>\n",
       "      <td>230.01</td>\n",
       "      <td>12.0</td>\n",
       "      <td>58.0</td>\n",
       "      <td>12.0</td>\n",
       "      <td>78.32</td>\n",
       "      <td>1.0</td>\n",
       "      <td>0.0</td>\n",
       "      <td>20220701</td>\n",
       "      <td></td>\n",
       "      <td>./data/recording_with_visual_cue/2022-07-01_12...</td>\n",
       "    </tr>\n",
       "    <tr>\n",
       "      <th>2544</th>\n",
       "      <td>78.94</td>\n",
       "      <td>314.0</td>\n",
       "      <td>399.0</td>\n",
       "      <td>0.0</td>\n",
       "      <td>310.01</td>\n",
       "      <td>31.0</td>\n",
       "      <td>59.0</td>\n",
       "      <td>12.0</td>\n",
       "      <td>79.71</td>\n",
       "      <td>1.0</td>\n",
       "      <td>0.0</td>\n",
       "      <td>20220701</td>\n",
       "      <td></td>\n",
       "      <td>./data/recording_with_visual_cue/2022-07-01_12...</td>\n",
       "    </tr>\n",
       "  </tbody>\n",
       "</table>\n",
       "</div>"
      ],
      "text/plain": [
       "      (P)Portentry  (Q)USdelivery  (R)UStime  (W)ITIvalues  (S)CSpresentation  \\\n",
       "0           253.30           64.0      399.0           0.0              60.01   \n",
       "1           255.08          314.0      399.0           0.0             140.01   \n",
       "2           256.75            NaN        NaN           0.0             230.01   \n",
       "3           258.44            NaN        NaN           0.0             310.01   \n",
       "2541         75.05           64.0      399.0           0.0              60.01   \n",
       "2542         76.20          144.0      399.0           0.0             140.01   \n",
       "2543         77.65          234.0      399.0           0.0             230.01   \n",
       "2544         78.94          314.0      399.0           0.0             310.01   \n",
       "\n",
       "      (G)CS_secondspresentation  (H)CS_minutespresentation  \\\n",
       "0                           8.0                       49.0   \n",
       "1                          28.0                       50.0   \n",
       "2                          58.0                       51.0   \n",
       "3                          18.0                       53.0   \n",
       "2541                       21.0                       55.0   \n",
       "2542                       41.0                       56.0   \n",
       "2543                       12.0                       58.0   \n",
       "2544                       31.0                       59.0   \n",
       "\n",
       "      (I)CS_hourspresentation  (N)Portexit  (K)CStype  (B)shockintensity  \\\n",
       "0                        12.0       254.27        1.0                0.0   \n",
       "1                        12.0       255.79        1.0                0.0   \n",
       "2                        12.0       257.63        1.0                0.0   \n",
       "3                        12.0       259.22        1.0                0.0   \n",
       "2541                     12.0        75.75        1.0                0.0   \n",
       "2542                     12.0        76.82        1.0                0.0   \n",
       "2543                     12.0        78.32        1.0                0.0   \n",
       "2544                     12.0        79.71        1.0                0.0   \n",
       "\n",
       "          date subject                                          file_path  \n",
       "0     20220701          ./data/recording_with_visual_cue/2022-07-01_12...  \n",
       "1     20220701          ./data/recording_with_visual_cue/2022-07-01_12...  \n",
       "2     20220701          ./data/recording_with_visual_cue/2022-07-01_12...  \n",
       "3     20220701          ./data/recording_with_visual_cue/2022-07-01_12...  \n",
       "2541  20220701          ./data/recording_with_visual_cue/2022-07-01_12...  \n",
       "2542  20220701          ./data/recording_with_visual_cue/2022-07-01_12...  \n",
       "2543  20220701          ./data/recording_with_visual_cue/2022-07-01_12...  \n",
       "2544  20220701          ./data/recording_with_visual_cue/2022-07-01_12...  "
      ]
     },
     "execution_count": 18,
     "metadata": {},
     "output_type": "execute_result"
    }
   ],
   "source": [
    "cs_time_df"
   ]
  },
  {
   "cell_type": "markdown",
   "id": "39b836dd",
   "metadata": {},
   "source": [
    "# Making a column for the time"
   ]
  },
  {
   "cell_type": "markdown",
   "id": "76a67b79",
   "metadata": {},
   "source": [
    "- Because the hour, the minute, and the seconds are all in different columns we will combine them into one"
   ]
  },
  {
   "cell_type": "code",
   "execution_count": 19,
   "id": "29acd960",
   "metadata": {},
   "outputs": [
    {
     "data": {
      "text/plain": [
       "Index(['(P)Portentry', '(Q)USdelivery', '(R)UStime', '(W)ITIvalues',\n",
       "       '(S)CSpresentation', '(G)CS_secondspresentation',\n",
       "       '(H)CS_minutespresentation', '(I)CS_hourspresentation', '(N)Portexit',\n",
       "       '(K)CStype', '(B)shockintensity', 'date', 'subject', 'file_path'],\n",
       "      dtype='object')"
      ]
     },
     "execution_count": 19,
     "metadata": {},
     "output_type": "execute_result"
    }
   ],
   "source": [
    "cs_time_df.columns"
   ]
  },
  {
   "cell_type": "markdown",
   "id": "4f5c97dd",
   "metadata": {},
   "source": [
    "- Making the numbers for hours, minutes, and seconds into whole numbers"
   ]
  },
  {
   "cell_type": "code",
   "execution_count": 20,
   "id": "c84b6279",
   "metadata": {},
   "outputs": [],
   "source": [
    "cs_time_df[\"cs_second\"] = cs_time_df[\"(G)CS_secondspresentation\"].astype(int).astype(str)\n",
    "cs_time_df[\"cs_minute\"] = cs_time_df[\"(H)CS_minutespresentation\"].astype(int).astype(str)\n",
    "cs_time_df[\"cs_hour\"] = cs_time_df[\"(I)CS_hourspresentation\"].astype(int).astype(str)\n"
   ]
  },
  {
   "cell_type": "markdown",
   "id": "a8fe568a",
   "metadata": {},
   "source": [
    "- Combining the hours, minutes, and seconds into one column as a string"
   ]
  },
  {
   "cell_type": "code",
   "execution_count": 21,
   "id": "c1f66194",
   "metadata": {},
   "outputs": [],
   "source": [
    "cs_time_df[\"cs_time_str\"] = cs_time_df.apply(lambda x: \":\".join([x[\"cs_hour\"], x[\"cs_minute\"],  x[\"cs_second\"]]), axis=1)"
   ]
  },
  {
   "cell_type": "markdown",
   "id": "440c4041",
   "metadata": {},
   "source": [
    "- Converting the time into a Python datetime object\n",
    "    - This will allow us to make calculations"
   ]
  },
  {
   "cell_type": "code",
   "execution_count": 22,
   "id": "3350191f",
   "metadata": {},
   "outputs": [],
   "source": [
    "cs_time_df[\"cs_time_object\"] = cs_time_df[\"cs_time_str\"].apply(lambda x: datetime.strptime(x, '%H:%M:%S'))\n"
   ]
  },
  {
   "cell_type": "code",
   "execution_count": 23,
   "id": "4869260e",
   "metadata": {},
   "outputs": [
    {
     "data": {
      "text/html": [
       "<div>\n",
       "<style scoped>\n",
       "    .dataframe tbody tr th:only-of-type {\n",
       "        vertical-align: middle;\n",
       "    }\n",
       "\n",
       "    .dataframe tbody tr th {\n",
       "        vertical-align: top;\n",
       "    }\n",
       "\n",
       "    .dataframe thead th {\n",
       "        text-align: right;\n",
       "    }\n",
       "</style>\n",
       "<table border=\"1\" class=\"dataframe\">\n",
       "  <thead>\n",
       "    <tr style=\"text-align: right;\">\n",
       "      <th></th>\n",
       "      <th>(P)Portentry</th>\n",
       "      <th>(Q)USdelivery</th>\n",
       "      <th>(R)UStime</th>\n",
       "      <th>(W)ITIvalues</th>\n",
       "      <th>(S)CSpresentation</th>\n",
       "      <th>(G)CS_secondspresentation</th>\n",
       "      <th>(H)CS_minutespresentation</th>\n",
       "      <th>(I)CS_hourspresentation</th>\n",
       "      <th>(N)Portexit</th>\n",
       "      <th>(K)CStype</th>\n",
       "      <th>(B)shockintensity</th>\n",
       "      <th>date</th>\n",
       "      <th>subject</th>\n",
       "      <th>file_path</th>\n",
       "      <th>cs_second</th>\n",
       "      <th>cs_minute</th>\n",
       "      <th>cs_hour</th>\n",
       "      <th>cs_time_str</th>\n",
       "      <th>cs_time_object</th>\n",
       "    </tr>\n",
       "  </thead>\n",
       "  <tbody>\n",
       "    <tr>\n",
       "      <th>0</th>\n",
       "      <td>253.30</td>\n",
       "      <td>64.0</td>\n",
       "      <td>399.0</td>\n",
       "      <td>0.0</td>\n",
       "      <td>60.01</td>\n",
       "      <td>8.0</td>\n",
       "      <td>49.0</td>\n",
       "      <td>12.0</td>\n",
       "      <td>254.27</td>\n",
       "      <td>1.0</td>\n",
       "      <td>0.0</td>\n",
       "      <td>20220701</td>\n",
       "      <td></td>\n",
       "      <td>./data/recording_with_visual_cue/2022-07-01_12...</td>\n",
       "      <td>8</td>\n",
       "      <td>49</td>\n",
       "      <td>12</td>\n",
       "      <td>12:49:8</td>\n",
       "      <td>1900-01-01 12:49:08</td>\n",
       "    </tr>\n",
       "    <tr>\n",
       "      <th>1</th>\n",
       "      <td>255.08</td>\n",
       "      <td>314.0</td>\n",
       "      <td>399.0</td>\n",
       "      <td>0.0</td>\n",
       "      <td>140.01</td>\n",
       "      <td>28.0</td>\n",
       "      <td>50.0</td>\n",
       "      <td>12.0</td>\n",
       "      <td>255.79</td>\n",
       "      <td>1.0</td>\n",
       "      <td>0.0</td>\n",
       "      <td>20220701</td>\n",
       "      <td></td>\n",
       "      <td>./data/recording_with_visual_cue/2022-07-01_12...</td>\n",
       "      <td>28</td>\n",
       "      <td>50</td>\n",
       "      <td>12</td>\n",
       "      <td>12:50:28</td>\n",
       "      <td>1900-01-01 12:50:28</td>\n",
       "    </tr>\n",
       "    <tr>\n",
       "      <th>2</th>\n",
       "      <td>256.75</td>\n",
       "      <td>NaN</td>\n",
       "      <td>NaN</td>\n",
       "      <td>0.0</td>\n",
       "      <td>230.01</td>\n",
       "      <td>58.0</td>\n",
       "      <td>51.0</td>\n",
       "      <td>12.0</td>\n",
       "      <td>257.63</td>\n",
       "      <td>1.0</td>\n",
       "      <td>0.0</td>\n",
       "      <td>20220701</td>\n",
       "      <td></td>\n",
       "      <td>./data/recording_with_visual_cue/2022-07-01_12...</td>\n",
       "      <td>58</td>\n",
       "      <td>51</td>\n",
       "      <td>12</td>\n",
       "      <td>12:51:58</td>\n",
       "      <td>1900-01-01 12:51:58</td>\n",
       "    </tr>\n",
       "    <tr>\n",
       "      <th>3</th>\n",
       "      <td>258.44</td>\n",
       "      <td>NaN</td>\n",
       "      <td>NaN</td>\n",
       "      <td>0.0</td>\n",
       "      <td>310.01</td>\n",
       "      <td>18.0</td>\n",
       "      <td>53.0</td>\n",
       "      <td>12.0</td>\n",
       "      <td>259.22</td>\n",
       "      <td>1.0</td>\n",
       "      <td>0.0</td>\n",
       "      <td>20220701</td>\n",
       "      <td></td>\n",
       "      <td>./data/recording_with_visual_cue/2022-07-01_12...</td>\n",
       "      <td>18</td>\n",
       "      <td>53</td>\n",
       "      <td>12</td>\n",
       "      <td>12:53:18</td>\n",
       "      <td>1900-01-01 12:53:18</td>\n",
       "    </tr>\n",
       "    <tr>\n",
       "      <th>2541</th>\n",
       "      <td>75.05</td>\n",
       "      <td>64.0</td>\n",
       "      <td>399.0</td>\n",
       "      <td>0.0</td>\n",
       "      <td>60.01</td>\n",
       "      <td>21.0</td>\n",
       "      <td>55.0</td>\n",
       "      <td>12.0</td>\n",
       "      <td>75.75</td>\n",
       "      <td>1.0</td>\n",
       "      <td>0.0</td>\n",
       "      <td>20220701</td>\n",
       "      <td></td>\n",
       "      <td>./data/recording_with_visual_cue/2022-07-01_12...</td>\n",
       "      <td>21</td>\n",
       "      <td>55</td>\n",
       "      <td>12</td>\n",
       "      <td>12:55:21</td>\n",
       "      <td>1900-01-01 12:55:21</td>\n",
       "    </tr>\n",
       "    <tr>\n",
       "      <th>2542</th>\n",
       "      <td>76.20</td>\n",
       "      <td>144.0</td>\n",
       "      <td>399.0</td>\n",
       "      <td>0.0</td>\n",
       "      <td>140.01</td>\n",
       "      <td>41.0</td>\n",
       "      <td>56.0</td>\n",
       "      <td>12.0</td>\n",
       "      <td>76.82</td>\n",
       "      <td>1.0</td>\n",
       "      <td>0.0</td>\n",
       "      <td>20220701</td>\n",
       "      <td></td>\n",
       "      <td>./data/recording_with_visual_cue/2022-07-01_12...</td>\n",
       "      <td>41</td>\n",
       "      <td>56</td>\n",
       "      <td>12</td>\n",
       "      <td>12:56:41</td>\n",
       "      <td>1900-01-01 12:56:41</td>\n",
       "    </tr>\n",
       "    <tr>\n",
       "      <th>2543</th>\n",
       "      <td>77.65</td>\n",
       "      <td>234.0</td>\n",
       "      <td>399.0</td>\n",
       "      <td>0.0</td>\n",
       "      <td>230.01</td>\n",
       "      <td>12.0</td>\n",
       "      <td>58.0</td>\n",
       "      <td>12.0</td>\n",
       "      <td>78.32</td>\n",
       "      <td>1.0</td>\n",
       "      <td>0.0</td>\n",
       "      <td>20220701</td>\n",
       "      <td></td>\n",
       "      <td>./data/recording_with_visual_cue/2022-07-01_12...</td>\n",
       "      <td>12</td>\n",
       "      <td>58</td>\n",
       "      <td>12</td>\n",
       "      <td>12:58:12</td>\n",
       "      <td>1900-01-01 12:58:12</td>\n",
       "    </tr>\n",
       "    <tr>\n",
       "      <th>2544</th>\n",
       "      <td>78.94</td>\n",
       "      <td>314.0</td>\n",
       "      <td>399.0</td>\n",
       "      <td>0.0</td>\n",
       "      <td>310.01</td>\n",
       "      <td>31.0</td>\n",
       "      <td>59.0</td>\n",
       "      <td>12.0</td>\n",
       "      <td>79.71</td>\n",
       "      <td>1.0</td>\n",
       "      <td>0.0</td>\n",
       "      <td>20220701</td>\n",
       "      <td></td>\n",
       "      <td>./data/recording_with_visual_cue/2022-07-01_12...</td>\n",
       "      <td>31</td>\n",
       "      <td>59</td>\n",
       "      <td>12</td>\n",
       "      <td>12:59:31</td>\n",
       "      <td>1900-01-01 12:59:31</td>\n",
       "    </tr>\n",
       "  </tbody>\n",
       "</table>\n",
       "</div>"
      ],
      "text/plain": [
       "      (P)Portentry  (Q)USdelivery  (R)UStime  (W)ITIvalues  (S)CSpresentation  \\\n",
       "0           253.30           64.0      399.0           0.0              60.01   \n",
       "1           255.08          314.0      399.0           0.0             140.01   \n",
       "2           256.75            NaN        NaN           0.0             230.01   \n",
       "3           258.44            NaN        NaN           0.0             310.01   \n",
       "2541         75.05           64.0      399.0           0.0              60.01   \n",
       "2542         76.20          144.0      399.0           0.0             140.01   \n",
       "2543         77.65          234.0      399.0           0.0             230.01   \n",
       "2544         78.94          314.0      399.0           0.0             310.01   \n",
       "\n",
       "      (G)CS_secondspresentation  (H)CS_minutespresentation  \\\n",
       "0                           8.0                       49.0   \n",
       "1                          28.0                       50.0   \n",
       "2                          58.0                       51.0   \n",
       "3                          18.0                       53.0   \n",
       "2541                       21.0                       55.0   \n",
       "2542                       41.0                       56.0   \n",
       "2543                       12.0                       58.0   \n",
       "2544                       31.0                       59.0   \n",
       "\n",
       "      (I)CS_hourspresentation  (N)Portexit  (K)CStype  (B)shockintensity  \\\n",
       "0                        12.0       254.27        1.0                0.0   \n",
       "1                        12.0       255.79        1.0                0.0   \n",
       "2                        12.0       257.63        1.0                0.0   \n",
       "3                        12.0       259.22        1.0                0.0   \n",
       "2541                     12.0        75.75        1.0                0.0   \n",
       "2542                     12.0        76.82        1.0                0.0   \n",
       "2543                     12.0        78.32        1.0                0.0   \n",
       "2544                     12.0        79.71        1.0                0.0   \n",
       "\n",
       "          date subject                                          file_path  \\\n",
       "0     20220701          ./data/recording_with_visual_cue/2022-07-01_12...   \n",
       "1     20220701          ./data/recording_with_visual_cue/2022-07-01_12...   \n",
       "2     20220701          ./data/recording_with_visual_cue/2022-07-01_12...   \n",
       "3     20220701          ./data/recording_with_visual_cue/2022-07-01_12...   \n",
       "2541  20220701          ./data/recording_with_visual_cue/2022-07-01_12...   \n",
       "2542  20220701          ./data/recording_with_visual_cue/2022-07-01_12...   \n",
       "2543  20220701          ./data/recording_with_visual_cue/2022-07-01_12...   \n",
       "2544  20220701          ./data/recording_with_visual_cue/2022-07-01_12...   \n",
       "\n",
       "     cs_second cs_minute cs_hour cs_time_str      cs_time_object  \n",
       "0            8        49      12     12:49:8 1900-01-01 12:49:08  \n",
       "1           28        50      12    12:50:28 1900-01-01 12:50:28  \n",
       "2           58        51      12    12:51:58 1900-01-01 12:51:58  \n",
       "3           18        53      12    12:53:18 1900-01-01 12:53:18  \n",
       "2541        21        55      12    12:55:21 1900-01-01 12:55:21  \n",
       "2542        41        56      12    12:56:41 1900-01-01 12:56:41  \n",
       "2543        12        58      12    12:58:12 1900-01-01 12:58:12  \n",
       "2544        31        59      12    12:59:31 1900-01-01 12:59:31  "
      ]
     },
     "execution_count": 23,
     "metadata": {},
     "output_type": "execute_result"
    }
   ],
   "source": [
    "cs_time_df"
   ]
  },
  {
   "cell_type": "markdown",
   "id": "9a473a52",
   "metadata": {},
   "source": [
    "# Importing Video Data"
   ]
  },
  {
   "cell_type": "markdown",
   "id": "c9ccf26c",
   "metadata": {},
   "source": [
    "- These CSVs are create in Bonsai when the video is being recorded. They give a time stamp of when the video is first being recorded."
   ]
  },
  {
   "cell_type": "code",
   "execution_count": 24,
   "id": "5f545e57",
   "metadata": {},
   "outputs": [],
   "source": [
    "video_recording_time_stamps = pd.read_csv(\"./data/recording_with_visual_cue/clock_test_time_2022-07-01T12_48_15.csv\", header=None)"
   ]
  },
  {
   "cell_type": "code",
   "execution_count": 25,
   "id": "afb672e4",
   "metadata": {},
   "outputs": [
    {
     "data": {
      "text/html": [
       "<div>\n",
       "<style scoped>\n",
       "    .dataframe tbody tr th:only-of-type {\n",
       "        vertical-align: middle;\n",
       "    }\n",
       "\n",
       "    .dataframe tbody tr th {\n",
       "        vertical-align: top;\n",
       "    }\n",
       "\n",
       "    .dataframe thead th {\n",
       "        text-align: right;\n",
       "    }\n",
       "</style>\n",
       "<table border=\"1\" class=\"dataframe\">\n",
       "  <thead>\n",
       "    <tr style=\"text-align: right;\">\n",
       "      <th></th>\n",
       "      <th>0</th>\n",
       "      <th>1</th>\n",
       "    </tr>\n",
       "  </thead>\n",
       "  <tbody>\n",
       "    <tr>\n",
       "      <th>0</th>\n",
       "      <td>(7/1/2022 4:49:00 PM</td>\n",
       "      <td>984); 2022-07-01 12:49:00.951000</td>\n",
       "    </tr>\n",
       "    <tr>\n",
       "      <th>1</th>\n",
       "      <td>(7/1/2022 4:49:01 PM</td>\n",
       "      <td>16); 2022-07-01 12:49:00.981000</td>\n",
       "    </tr>\n",
       "    <tr>\n",
       "      <th>2</th>\n",
       "      <td>(7/1/2022 4:49:01 PM</td>\n",
       "      <td>48); 2022-07-01 12:49:01.013000</td>\n",
       "    </tr>\n",
       "    <tr>\n",
       "      <th>3</th>\n",
       "      <td>(7/1/2022 4:49:01 PM</td>\n",
       "      <td>81); 2022-07-01 12:49:01.046000</td>\n",
       "    </tr>\n",
       "    <tr>\n",
       "      <th>4</th>\n",
       "      <td>(7/1/2022 4:49:01 PM</td>\n",
       "      <td>112); 2022-07-01 12:49:01.077000</td>\n",
       "    </tr>\n",
       "  </tbody>\n",
       "</table>\n",
       "</div>"
      ],
      "text/plain": [
       "                      0                                  1\n",
       "0  (7/1/2022 4:49:00 PM   984); 2022-07-01 12:49:00.951000\n",
       "1  (7/1/2022 4:49:01 PM    16); 2022-07-01 12:49:00.981000\n",
       "2  (7/1/2022 4:49:01 PM    48); 2022-07-01 12:49:01.013000\n",
       "3  (7/1/2022 4:49:01 PM    81); 2022-07-01 12:49:01.046000\n",
       "4  (7/1/2022 4:49:01 PM   112); 2022-07-01 12:49:01.077000"
      ]
     },
     "execution_count": 25,
     "metadata": {},
     "output_type": "execute_result"
    }
   ],
   "source": [
    "video_recording_time_stamps.head()"
   ]
  },
  {
   "cell_type": "markdown",
   "id": "08373149",
   "metadata": {},
   "source": [
    "- The video is first being recorded in the time specified by the cell in the first row and the first column\n",
    "    - We will try to get on the hour, minute, seconds from this\n",
    "        - By getting everthing after the space, and then removing everything before the period"
   ]
  },
  {
   "cell_type": "code",
   "execution_count": 26,
   "id": "42dad327",
   "metadata": {},
   "outputs": [],
   "source": [
    "video_recording_time_stamps[\"time\"] = video_recording_time_stamps[1].apply(lambda x: x.split()[-1].split(\".\")[0])\n"
   ]
  },
  {
   "cell_type": "code",
   "execution_count": 27,
   "id": "181e0d31",
   "metadata": {},
   "outputs": [
    {
     "data": {
      "text/html": [
       "<div>\n",
       "<style scoped>\n",
       "    .dataframe tbody tr th:only-of-type {\n",
       "        vertical-align: middle;\n",
       "    }\n",
       "\n",
       "    .dataframe tbody tr th {\n",
       "        vertical-align: top;\n",
       "    }\n",
       "\n",
       "    .dataframe thead th {\n",
       "        text-align: right;\n",
       "    }\n",
       "</style>\n",
       "<table border=\"1\" class=\"dataframe\">\n",
       "  <thead>\n",
       "    <tr style=\"text-align: right;\">\n",
       "      <th></th>\n",
       "      <th>0</th>\n",
       "      <th>1</th>\n",
       "      <th>time</th>\n",
       "    </tr>\n",
       "  </thead>\n",
       "  <tbody>\n",
       "    <tr>\n",
       "      <th>0</th>\n",
       "      <td>(7/1/2022 4:49:00 PM</td>\n",
       "      <td>984); 2022-07-01 12:49:00.951000</td>\n",
       "      <td>12:49:00</td>\n",
       "    </tr>\n",
       "    <tr>\n",
       "      <th>1</th>\n",
       "      <td>(7/1/2022 4:49:01 PM</td>\n",
       "      <td>16); 2022-07-01 12:49:00.981000</td>\n",
       "      <td>12:49:00</td>\n",
       "    </tr>\n",
       "    <tr>\n",
       "      <th>2</th>\n",
       "      <td>(7/1/2022 4:49:01 PM</td>\n",
       "      <td>48); 2022-07-01 12:49:01.013000</td>\n",
       "      <td>12:49:01</td>\n",
       "    </tr>\n",
       "    <tr>\n",
       "      <th>3</th>\n",
       "      <td>(7/1/2022 4:49:01 PM</td>\n",
       "      <td>81); 2022-07-01 12:49:01.046000</td>\n",
       "      <td>12:49:01</td>\n",
       "    </tr>\n",
       "    <tr>\n",
       "      <th>4</th>\n",
       "      <td>(7/1/2022 4:49:01 PM</td>\n",
       "      <td>112); 2022-07-01 12:49:01.077000</td>\n",
       "      <td>12:49:01</td>\n",
       "    </tr>\n",
       "  </tbody>\n",
       "</table>\n",
       "</div>"
      ],
      "text/plain": [
       "                      0                                  1      time\n",
       "0  (7/1/2022 4:49:00 PM   984); 2022-07-01 12:49:00.951000  12:49:00\n",
       "1  (7/1/2022 4:49:01 PM    16); 2022-07-01 12:49:00.981000  12:49:00\n",
       "2  (7/1/2022 4:49:01 PM    48); 2022-07-01 12:49:01.013000  12:49:01\n",
       "3  (7/1/2022 4:49:01 PM    81); 2022-07-01 12:49:01.046000  12:49:01\n",
       "4  (7/1/2022 4:49:01 PM   112); 2022-07-01 12:49:01.077000  12:49:01"
      ]
     },
     "execution_count": 27,
     "metadata": {},
     "output_type": "execute_result"
    }
   ],
   "source": [
    "video_recording_time_stamps.head()"
   ]
  },
  {
   "cell_type": "markdown",
   "id": "828a2752",
   "metadata": {},
   "source": [
    "- Getting the first time that's listed, which is when the video starts being recorded"
   ]
  },
  {
   "cell_type": "code",
   "execution_count": 28,
   "id": "c4bd22c8",
   "metadata": {},
   "outputs": [],
   "source": [
    "video_recording_start_time_str = video_recording_time_stamps[\"time\"][0]\n"
   ]
  },
  {
   "cell_type": "code",
   "execution_count": 29,
   "id": "bbf79883",
   "metadata": {},
   "outputs": [
    {
     "data": {
      "text/plain": [
       "'12:49:00'"
      ]
     },
     "execution_count": 29,
     "metadata": {},
     "output_type": "execute_result"
    }
   ],
   "source": [
    "video_recording_start_time_str"
   ]
  },
  {
   "cell_type": "markdown",
   "id": "8e9fab6d",
   "metadata": {},
   "source": [
    "- Converting this into a datetime object so that we can make calculations"
   ]
  },
  {
   "cell_type": "code",
   "execution_count": 30,
   "id": "e08d8afe",
   "metadata": {},
   "outputs": [],
   "source": [
    "video_recording_start_time_object = datetime.strptime(video_recording_start_time_str, '%H:%M:%S')\n"
   ]
  },
  {
   "cell_type": "code",
   "execution_count": 31,
   "id": "b56a00bf",
   "metadata": {},
   "outputs": [
    {
     "data": {
      "text/plain": [
       "datetime.datetime(1900, 1, 1, 12, 49)"
      ]
     },
     "execution_count": 31,
     "metadata": {},
     "output_type": "execute_result"
    }
   ],
   "source": [
    "video_recording_start_time_object"
   ]
  },
  {
   "cell_type": "markdown",
   "id": "10324f04",
   "metadata": {},
   "source": [
    "# Syncing the MED-PC timestamps with the time in the video"
   ]
  },
  {
   "cell_type": "markdown",
   "id": "418ddc09",
   "metadata": {},
   "source": [
    "- To get when in the video something happens(i.e. 10 seconds), we will calculate the difference of the time of the event with the time that the video first starts being recorded\n",
    "- NOTE: Make sure that you are using the associated files for the MED-PC recording file and the video file"
   ]
  },
  {
   "cell_type": "code",
   "execution_count": 32,
   "id": "e0aa620e",
   "metadata": {},
   "outputs": [],
   "source": [
    "first_medpc_recording_file = cs_time_df[\"file_path\"].unique()[0]\n",
    "\n",
    "first_cs_time_df = cs_time_df[cs_time_df[\"file_path\"] == first_medpc_recording_file]"
   ]
  },
  {
   "cell_type": "code",
   "execution_count": 33,
   "id": "f68a39d2",
   "metadata": {},
   "outputs": [
    {
     "data": {
      "text/plain": [
       "Timestamp('1900-01-01 12:49:08')"
      ]
     },
     "execution_count": 33,
     "metadata": {},
     "output_type": "execute_result"
    }
   ],
   "source": [
    "# The time of the first controlled stimulus \n",
    "first_cs_time_df[\"cs_time_object\"].iloc[0]"
   ]
  },
  {
   "cell_type": "code",
   "execution_count": 34,
   "id": "70528a1f",
   "metadata": {},
   "outputs": [
    {
     "data": {
      "text/plain": [
       "Timestamp('1900-01-01 12:50:28')"
      ]
     },
     "execution_count": 34,
     "metadata": {},
     "output_type": "execute_result"
    }
   ],
   "source": [
    "# The time of the second controlled stiumuls\n",
    "first_cs_time_df[\"cs_time_object\"].iloc[1]"
   ]
  },
  {
   "cell_type": "code",
   "execution_count": 35,
   "id": "2e9f4704",
   "metadata": {},
   "outputs": [
    {
     "data": {
      "text/plain": [
       "datetime.datetime(1900, 1, 1, 12, 49)"
      ]
     },
     "execution_count": 35,
     "metadata": {},
     "output_type": "execute_result"
    }
   ],
   "source": [
    "# The time that the video started being recorded\n",
    "video_recording_start_time_object"
   ]
  },
  {
   "cell_type": "code",
   "execution_count": 36,
   "id": "15cdea03",
   "metadata": {},
   "outputs": [],
   "source": [
    "# The time in the video that the controlled stimulus occurs\n",
    "cs_01_time_object = first_cs_time_df[\"cs_time_object\"].iloc[0] - video_recording_start_time_object \n",
    "cs_02_time_object = first_cs_time_df[\"cs_time_object\"].iloc[1] - video_recording_start_time_object \n",
    "cs_03_time_object = first_cs_time_df[\"cs_time_object\"].iloc[2] - video_recording_start_time_object "
   ]
  },
  {
   "cell_type": "code",
   "execution_count": 37,
   "id": "198d60b7",
   "metadata": {},
   "outputs": [
    {
     "data": {
      "text/plain": [
       "8"
      ]
     },
     "execution_count": 37,
     "metadata": {},
     "output_type": "execute_result"
    }
   ],
   "source": [
    "cs_01_time_object.seconds"
   ]
  },
  {
   "cell_type": "code",
   "execution_count": 38,
   "id": "ad48a7df",
   "metadata": {},
   "outputs": [
    {
     "data": {
      "text/plain": [
       "88"
      ]
     },
     "execution_count": 38,
     "metadata": {},
     "output_type": "execute_result"
    }
   ],
   "source": [
    "cs_02_time_object.seconds"
   ]
  },
  {
   "cell_type": "code",
   "execution_count": 39,
   "id": "9035aa4e",
   "metadata": {},
   "outputs": [
    {
     "data": {
      "text/plain": [
       "178"
      ]
     },
     "execution_count": 39,
     "metadata": {},
     "output_type": "execute_result"
    }
   ],
   "source": [
    "cs_03_time_object.seconds"
   ]
  },
  {
   "cell_type": "markdown",
   "id": "78318ba8",
   "metadata": {},
   "source": [
    "# Trimming the video"
   ]
  },
  {
   "cell_type": "code",
   "execution_count": 40,
   "id": "e3f90100",
   "metadata": {},
   "outputs": [],
   "source": [
    "video_object = VideoFileClip(\"./data/recording_with_visual_cue/clock_test_recording_2022-07-01T12_49_00.avi\")"
   ]
  },
  {
   "cell_type": "code",
   "execution_count": 41,
   "id": "1360d5a8",
   "metadata": {},
   "outputs": [
    {
     "data": {
      "text/plain": [
       "293.7"
      ]
     },
     "execution_count": 41,
     "metadata": {},
     "output_type": "execute_result"
    }
   ],
   "source": [
    "video_object.duration"
   ]
  },
  {
   "cell_type": "markdown",
   "id": "b27e7765",
   "metadata": {},
   "source": [
    "fixed func issue with: https://github.com/Zulko/moviepy/issues/1765\n"
   ]
  },
  {
   "cell_type": "code",
   "execution_count": 42,
   "id": "9d24075e",
   "metadata": {},
   "outputs": [],
   "source": [
    "cs1_trimmed_video = video_object.subclip(cs_01_time_object.seconds, cs_02_time_object.seconds + 20)"
   ]
  },
  {
   "cell_type": "code",
   "execution_count": 43,
   "id": "db2662bc",
   "metadata": {},
   "outputs": [],
   "source": [
    "cs2_trimmed_video = video_object.subclip(cs_02_time_object.seconds, cs_03_time_object.seconds + 20)"
   ]
  },
  {
   "cell_type": "code",
   "execution_count": 44,
   "id": "3cf48a80",
   "metadata": {},
   "outputs": [],
   "source": [
    "cs3_trimmed_video = video_object.subclip(cs_03_time_object.seconds, video_object.duration)"
   ]
  },
  {
   "cell_type": "code",
   "execution_count": 45,
   "id": "e376b7c8",
   "metadata": {},
   "outputs": [
    {
     "name": "stdout",
     "output_type": "stream",
     "text": [
      "Moviepy - Building video ./data/recording_with_visual_cue/trimmed_cs1.mp4.\n",
      "Moviepy - Writing video ./data/recording_with_visual_cue/trimmed_cs1.mp4\n",
      "\n"
     ]
    },
    {
     "name": "stderr",
     "output_type": "stream",
     "text": [
      "                                                                                                                                 \r"
     ]
    },
    {
     "name": "stdout",
     "output_type": "stream",
     "text": [
      "Moviepy - Done !\n",
      "Moviepy - video ready ./data/recording_with_visual_cue/trimmed_cs1.mp4\n"
     ]
    }
   ],
   "source": [
    "cs1_trimmed_video.to_videofile(\"./data/recording_with_visual_cue/trimmed_cs1.mp4\")"
   ]
  },
  {
   "cell_type": "code",
   "execution_count": 46,
   "id": "f9713b8c",
   "metadata": {},
   "outputs": [
    {
     "name": "stdout",
     "output_type": "stream",
     "text": [
      "Moviepy - Building video ./data/recording_with_visual_cue/trimmed_cs2.mp4.\n",
      "Moviepy - Writing video ./data/recording_with_visual_cue/trimmed_cs2.mp4\n",
      "\n"
     ]
    },
    {
     "name": "stderr",
     "output_type": "stream",
     "text": [
      "                                                                                                                                 "
     ]
    },
    {
     "name": "stdout",
     "output_type": "stream",
     "text": [
      "Moviepy - Done !\n",
      "Moviepy - video ready ./data/recording_with_visual_cue/trimmed_cs2.mp4\n"
     ]
    },
    {
     "name": "stderr",
     "output_type": "stream",
     "text": [
      "\r"
     ]
    }
   ],
   "source": [
    "cs2_trimmed_video.to_videofile(\"./data/recording_with_visual_cue/trimmed_cs2.mp4\")"
   ]
  },
  {
   "cell_type": "code",
   "execution_count": 47,
   "id": "ceeaae6f",
   "metadata": {},
   "outputs": [
    {
     "name": "stdout",
     "output_type": "stream",
     "text": [
      "Moviepy - Building video ./data/recording_with_visual_cue/trimmed_cs3.mp4.\n",
      "Moviepy - Writing video ./data/recording_with_visual_cue/trimmed_cs3.mp4\n",
      "\n"
     ]
    },
    {
     "name": "stderr",
     "output_type": "stream",
     "text": [
      "                                                                                                                                 \r"
     ]
    },
    {
     "name": "stdout",
     "output_type": "stream",
     "text": [
      "Moviepy - Done !\n",
      "Moviepy - video ready ./data/recording_with_visual_cue/trimmed_cs3.mp4\n"
     ]
    }
   ],
   "source": [
    "cs3_trimmed_video.to_videofile(\"./data/recording_with_visual_cue/trimmed_cs3.mp4\")"
   ]
  },
  {
   "cell_type": "code",
   "execution_count": null,
   "id": "43470ac2",
   "metadata": {},
   "outputs": [],
   "source": []
  },
  {
   "cell_type": "code",
   "execution_count": 48,
   "id": "9a9cad23",
   "metadata": {
    "scrolled": false
   },
   "outputs": [
    {
     "data": {
      "text/html": [
       "<video src=\"./data/recording_with_visual_cue/trimmed_cs1.mp4\" controls  >\n",
       "      Your browser does not support the <code>video</code> element.\n",
       "    </video>"
      ],
      "text/plain": [
       "<IPython.core.display.Video object>"
      ]
     },
     "execution_count": 48,
     "metadata": {},
     "output_type": "execute_result"
    }
   ],
   "source": [
    "Video(\"./data/recording_with_visual_cue/trimmed_cs1.mp4\")"
   ]
  },
  {
   "cell_type": "markdown",
   "id": "6df04a67",
   "metadata": {},
   "source": [
    "# Repeating again with a different video"
   ]
  },
  {
   "cell_type": "markdown",
   "id": "4a7b3273",
   "metadata": {},
   "source": [
    "# Importing Video Data"
   ]
  },
  {
   "cell_type": "markdown",
   "id": "3559d426",
   "metadata": {},
   "source": [
    "- These CSVs are create in Bonsai when the video is being recorded. They give a time stamp of when the video is first being recorded."
   ]
  },
  {
   "cell_type": "code",
   "execution_count": 49,
   "id": "b50b083e",
   "metadata": {},
   "outputs": [],
   "source": [
    "video_recording_time_stamps = pd.read_csv(\"./data/recording_with_visual_cue/clock_test_time_2022-07-01T12_54_07.csv\", header=None)"
   ]
  },
  {
   "cell_type": "code",
   "execution_count": 50,
   "id": "9ea7c7d6",
   "metadata": {},
   "outputs": [
    {
     "data": {
      "text/html": [
       "<div>\n",
       "<style scoped>\n",
       "    .dataframe tbody tr th:only-of-type {\n",
       "        vertical-align: middle;\n",
       "    }\n",
       "\n",
       "    .dataframe tbody tr th {\n",
       "        vertical-align: top;\n",
       "    }\n",
       "\n",
       "    .dataframe thead th {\n",
       "        text-align: right;\n",
       "    }\n",
       "</style>\n",
       "<table border=\"1\" class=\"dataframe\">\n",
       "  <thead>\n",
       "    <tr style=\"text-align: right;\">\n",
       "      <th></th>\n",
       "      <th>0</th>\n",
       "      <th>1</th>\n",
       "    </tr>\n",
       "  </thead>\n",
       "  <tbody>\n",
       "    <tr>\n",
       "      <th>0</th>\n",
       "      <td>(7/1/2022 4:58:56 PM</td>\n",
       "      <td>338); 2022-07-01 12:58:56.230000</td>\n",
       "    </tr>\n",
       "    <tr>\n",
       "      <th>1</th>\n",
       "      <td>(7/1/2022 4:58:56 PM</td>\n",
       "      <td>370); 2022-07-01 12:58:56.260000</td>\n",
       "    </tr>\n",
       "    <tr>\n",
       "      <th>2</th>\n",
       "      <td>(7/1/2022 4:58:56 PM</td>\n",
       "      <td>418); 2022-07-01 12:58:56.308000</td>\n",
       "    </tr>\n",
       "    <tr>\n",
       "      <th>3</th>\n",
       "      <td>(7/1/2022 4:58:56 PM</td>\n",
       "      <td>450); 2022-07-01 12:58:56.340000</td>\n",
       "    </tr>\n",
       "    <tr>\n",
       "      <th>4</th>\n",
       "      <td>(7/1/2022 4:58:56 PM</td>\n",
       "      <td>482); 2022-07-01 12:58:56.372000</td>\n",
       "    </tr>\n",
       "  </tbody>\n",
       "</table>\n",
       "</div>"
      ],
      "text/plain": [
       "                      0                                  1\n",
       "0  (7/1/2022 4:58:56 PM   338); 2022-07-01 12:58:56.230000\n",
       "1  (7/1/2022 4:58:56 PM   370); 2022-07-01 12:58:56.260000\n",
       "2  (7/1/2022 4:58:56 PM   418); 2022-07-01 12:58:56.308000\n",
       "3  (7/1/2022 4:58:56 PM   450); 2022-07-01 12:58:56.340000\n",
       "4  (7/1/2022 4:58:56 PM   482); 2022-07-01 12:58:56.372000"
      ]
     },
     "execution_count": 50,
     "metadata": {},
     "output_type": "execute_result"
    }
   ],
   "source": [
    "video_recording_time_stamps.head()"
   ]
  },
  {
   "cell_type": "markdown",
   "id": "8c8ba046",
   "metadata": {},
   "source": [
    "- The video is first being recorded in the time specified by the cell in the first row and the first column\n",
    "    - We will try to get on the hour, minute, seconds from this\n",
    "        - By getting everthing after the space, and then removing everything before the period"
   ]
  },
  {
   "cell_type": "code",
   "execution_count": 51,
   "id": "cd4acfa9",
   "metadata": {},
   "outputs": [],
   "source": [
    "video_recording_time_stamps[\"time\"] = video_recording_time_stamps[1].apply(lambda x: x.split()[-1].split(\".\")[0])\n"
   ]
  },
  {
   "cell_type": "code",
   "execution_count": 52,
   "id": "4aea38a3",
   "metadata": {},
   "outputs": [
    {
     "data": {
      "text/html": [
       "<div>\n",
       "<style scoped>\n",
       "    .dataframe tbody tr th:only-of-type {\n",
       "        vertical-align: middle;\n",
       "    }\n",
       "\n",
       "    .dataframe tbody tr th {\n",
       "        vertical-align: top;\n",
       "    }\n",
       "\n",
       "    .dataframe thead th {\n",
       "        text-align: right;\n",
       "    }\n",
       "</style>\n",
       "<table border=\"1\" class=\"dataframe\">\n",
       "  <thead>\n",
       "    <tr style=\"text-align: right;\">\n",
       "      <th></th>\n",
       "      <th>0</th>\n",
       "      <th>1</th>\n",
       "      <th>time</th>\n",
       "    </tr>\n",
       "  </thead>\n",
       "  <tbody>\n",
       "    <tr>\n",
       "      <th>0</th>\n",
       "      <td>(7/1/2022 4:58:56 PM</td>\n",
       "      <td>338); 2022-07-01 12:58:56.230000</td>\n",
       "      <td>12:58:56</td>\n",
       "    </tr>\n",
       "    <tr>\n",
       "      <th>1</th>\n",
       "      <td>(7/1/2022 4:58:56 PM</td>\n",
       "      <td>370); 2022-07-01 12:58:56.260000</td>\n",
       "      <td>12:58:56</td>\n",
       "    </tr>\n",
       "    <tr>\n",
       "      <th>2</th>\n",
       "      <td>(7/1/2022 4:58:56 PM</td>\n",
       "      <td>418); 2022-07-01 12:58:56.308000</td>\n",
       "      <td>12:58:56</td>\n",
       "    </tr>\n",
       "    <tr>\n",
       "      <th>3</th>\n",
       "      <td>(7/1/2022 4:58:56 PM</td>\n",
       "      <td>450); 2022-07-01 12:58:56.340000</td>\n",
       "      <td>12:58:56</td>\n",
       "    </tr>\n",
       "    <tr>\n",
       "      <th>4</th>\n",
       "      <td>(7/1/2022 4:58:56 PM</td>\n",
       "      <td>482); 2022-07-01 12:58:56.372000</td>\n",
       "      <td>12:58:56</td>\n",
       "    </tr>\n",
       "  </tbody>\n",
       "</table>\n",
       "</div>"
      ],
      "text/plain": [
       "                      0                                  1      time\n",
       "0  (7/1/2022 4:58:56 PM   338); 2022-07-01 12:58:56.230000  12:58:56\n",
       "1  (7/1/2022 4:58:56 PM   370); 2022-07-01 12:58:56.260000  12:58:56\n",
       "2  (7/1/2022 4:58:56 PM   418); 2022-07-01 12:58:56.308000  12:58:56\n",
       "3  (7/1/2022 4:58:56 PM   450); 2022-07-01 12:58:56.340000  12:58:56\n",
       "4  (7/1/2022 4:58:56 PM   482); 2022-07-01 12:58:56.372000  12:58:56"
      ]
     },
     "execution_count": 52,
     "metadata": {},
     "output_type": "execute_result"
    }
   ],
   "source": [
    "video_recording_time_stamps.head()"
   ]
  },
  {
   "cell_type": "markdown",
   "id": "46998892",
   "metadata": {},
   "source": [
    "- Getting the first time that's listed, which is when the video starts being recorded"
   ]
  },
  {
   "cell_type": "code",
   "execution_count": 53,
   "id": "6ba508aa",
   "metadata": {},
   "outputs": [],
   "source": [
    "video_recording_start_time_str = video_recording_time_stamps[\"time\"][0]\n"
   ]
  },
  {
   "cell_type": "code",
   "execution_count": 54,
   "id": "ed4dc959",
   "metadata": {},
   "outputs": [
    {
     "data": {
      "text/plain": [
       "'12:58:56'"
      ]
     },
     "execution_count": 54,
     "metadata": {},
     "output_type": "execute_result"
    }
   ],
   "source": [
    "video_recording_start_time_str"
   ]
  },
  {
   "cell_type": "markdown",
   "id": "9519e8d0",
   "metadata": {},
   "source": [
    "- Converting this into a datetime object so that we can make calculations"
   ]
  },
  {
   "cell_type": "code",
   "execution_count": 55,
   "id": "74d58dd5",
   "metadata": {},
   "outputs": [],
   "source": [
    "video_recording_start_time_object = datetime.strptime(video_recording_start_time_str, '%H:%M:%S')\n"
   ]
  },
  {
   "cell_type": "code",
   "execution_count": 56,
   "id": "7efeaddb",
   "metadata": {},
   "outputs": [
    {
     "data": {
      "text/plain": [
       "datetime.datetime(1900, 1, 1, 12, 58, 56)"
      ]
     },
     "execution_count": 56,
     "metadata": {},
     "output_type": "execute_result"
    }
   ],
   "source": [
    "video_recording_start_time_object"
   ]
  },
  {
   "cell_type": "markdown",
   "id": "7d1d45da",
   "metadata": {},
   "source": [
    "# Syncing the MED-PC timestamps with the time in the video"
   ]
  },
  {
   "cell_type": "markdown",
   "id": "8d0d845e",
   "metadata": {},
   "source": [
    "- To get when in the video something happens(i.e. 10 seconds), we will calculate the difference of the time of the event with the time that the video first starts being recorded\n",
    "- NOTE: Make sure that you are using the associated files for the MED-PC recording file and the video file"
   ]
  },
  {
   "cell_type": "code",
   "execution_count": 57,
   "id": "4e3e2662",
   "metadata": {},
   "outputs": [],
   "source": [
    "second_medpc_recording_file = cs_time_df[\"file_path\"].unique()[1]\n",
    "\n",
    "second_cs_time_df = cs_time_df[cs_time_df[\"file_path\"] == second_medpc_recording_file]"
   ]
  },
  {
   "cell_type": "code",
   "execution_count": 68,
   "id": "7a4e021d",
   "metadata": {},
   "outputs": [
    {
     "data": {
      "text/html": [
       "<div>\n",
       "<style scoped>\n",
       "    .dataframe tbody tr th:only-of-type {\n",
       "        vertical-align: middle;\n",
       "    }\n",
       "\n",
       "    .dataframe tbody tr th {\n",
       "        vertical-align: top;\n",
       "    }\n",
       "\n",
       "    .dataframe thead th {\n",
       "        text-align: right;\n",
       "    }\n",
       "</style>\n",
       "<table border=\"1\" class=\"dataframe\">\n",
       "  <thead>\n",
       "    <tr style=\"text-align: right;\">\n",
       "      <th></th>\n",
       "      <th>(P)Portentry</th>\n",
       "      <th>(Q)USdelivery</th>\n",
       "      <th>(R)UStime</th>\n",
       "      <th>(W)ITIvalues</th>\n",
       "      <th>(S)CSpresentation</th>\n",
       "      <th>(G)CS_secondspresentation</th>\n",
       "      <th>(H)CS_minutespresentation</th>\n",
       "      <th>(I)CS_hourspresentation</th>\n",
       "      <th>(N)Portexit</th>\n",
       "      <th>(K)CStype</th>\n",
       "      <th>(B)shockintensity</th>\n",
       "      <th>date</th>\n",
       "      <th>subject</th>\n",
       "      <th>file_path</th>\n",
       "      <th>cs_second</th>\n",
       "      <th>cs_minute</th>\n",
       "      <th>cs_hour</th>\n",
       "      <th>cs_time_str</th>\n",
       "      <th>cs_time_object</th>\n",
       "    </tr>\n",
       "  </thead>\n",
       "  <tbody>\n",
       "    <tr>\n",
       "      <th>2541</th>\n",
       "      <td>75.05</td>\n",
       "      <td>64.0</td>\n",
       "      <td>399.0</td>\n",
       "      <td>0.0</td>\n",
       "      <td>60.01</td>\n",
       "      <td>21.0</td>\n",
       "      <td>55.0</td>\n",
       "      <td>12.0</td>\n",
       "      <td>75.75</td>\n",
       "      <td>1.0</td>\n",
       "      <td>0.0</td>\n",
       "      <td>20220701</td>\n",
       "      <td></td>\n",
       "      <td>./data/recording_with_visual_cue/2022-07-01_12...</td>\n",
       "      <td>21</td>\n",
       "      <td>55</td>\n",
       "      <td>12</td>\n",
       "      <td>12:55:21</td>\n",
       "      <td>1900-01-01 12:55:21</td>\n",
       "    </tr>\n",
       "    <tr>\n",
       "      <th>2542</th>\n",
       "      <td>76.20</td>\n",
       "      <td>144.0</td>\n",
       "      <td>399.0</td>\n",
       "      <td>0.0</td>\n",
       "      <td>140.01</td>\n",
       "      <td>41.0</td>\n",
       "      <td>56.0</td>\n",
       "      <td>12.0</td>\n",
       "      <td>76.82</td>\n",
       "      <td>1.0</td>\n",
       "      <td>0.0</td>\n",
       "      <td>20220701</td>\n",
       "      <td></td>\n",
       "      <td>./data/recording_with_visual_cue/2022-07-01_12...</td>\n",
       "      <td>41</td>\n",
       "      <td>56</td>\n",
       "      <td>12</td>\n",
       "      <td>12:56:41</td>\n",
       "      <td>1900-01-01 12:56:41</td>\n",
       "    </tr>\n",
       "    <tr>\n",
       "      <th>2543</th>\n",
       "      <td>77.65</td>\n",
       "      <td>234.0</td>\n",
       "      <td>399.0</td>\n",
       "      <td>0.0</td>\n",
       "      <td>230.01</td>\n",
       "      <td>12.0</td>\n",
       "      <td>58.0</td>\n",
       "      <td>12.0</td>\n",
       "      <td>78.32</td>\n",
       "      <td>1.0</td>\n",
       "      <td>0.0</td>\n",
       "      <td>20220701</td>\n",
       "      <td></td>\n",
       "      <td>./data/recording_with_visual_cue/2022-07-01_12...</td>\n",
       "      <td>12</td>\n",
       "      <td>58</td>\n",
       "      <td>12</td>\n",
       "      <td>12:58:12</td>\n",
       "      <td>1900-01-01 12:58:12</td>\n",
       "    </tr>\n",
       "    <tr>\n",
       "      <th>2544</th>\n",
       "      <td>78.94</td>\n",
       "      <td>314.0</td>\n",
       "      <td>399.0</td>\n",
       "      <td>0.0</td>\n",
       "      <td>310.01</td>\n",
       "      <td>31.0</td>\n",
       "      <td>59.0</td>\n",
       "      <td>12.0</td>\n",
       "      <td>79.71</td>\n",
       "      <td>1.0</td>\n",
       "      <td>0.0</td>\n",
       "      <td>20220701</td>\n",
       "      <td></td>\n",
       "      <td>./data/recording_with_visual_cue/2022-07-01_12...</td>\n",
       "      <td>31</td>\n",
       "      <td>59</td>\n",
       "      <td>12</td>\n",
       "      <td>12:59:31</td>\n",
       "      <td>1900-01-01 12:59:31</td>\n",
       "    </tr>\n",
       "  </tbody>\n",
       "</table>\n",
       "</div>"
      ],
      "text/plain": [
       "      (P)Portentry  (Q)USdelivery  (R)UStime  (W)ITIvalues  (S)CSpresentation  \\\n",
       "2541         75.05           64.0      399.0           0.0              60.01   \n",
       "2542         76.20          144.0      399.0           0.0             140.01   \n",
       "2543         77.65          234.0      399.0           0.0             230.01   \n",
       "2544         78.94          314.0      399.0           0.0             310.01   \n",
       "\n",
       "      (G)CS_secondspresentation  (H)CS_minutespresentation  \\\n",
       "2541                       21.0                       55.0   \n",
       "2542                       41.0                       56.0   \n",
       "2543                       12.0                       58.0   \n",
       "2544                       31.0                       59.0   \n",
       "\n",
       "      (I)CS_hourspresentation  (N)Portexit  (K)CStype  (B)shockintensity  \\\n",
       "2541                     12.0        75.75        1.0                0.0   \n",
       "2542                     12.0        76.82        1.0                0.0   \n",
       "2543                     12.0        78.32        1.0                0.0   \n",
       "2544                     12.0        79.71        1.0                0.0   \n",
       "\n",
       "          date subject                                          file_path  \\\n",
       "2541  20220701          ./data/recording_with_visual_cue/2022-07-01_12...   \n",
       "2542  20220701          ./data/recording_with_visual_cue/2022-07-01_12...   \n",
       "2543  20220701          ./data/recording_with_visual_cue/2022-07-01_12...   \n",
       "2544  20220701          ./data/recording_with_visual_cue/2022-07-01_12...   \n",
       "\n",
       "     cs_second cs_minute cs_hour cs_time_str      cs_time_object  \n",
       "2541        21        55      12    12:55:21 1900-01-01 12:55:21  \n",
       "2542        41        56      12    12:56:41 1900-01-01 12:56:41  \n",
       "2543        12        58      12    12:58:12 1900-01-01 12:58:12  \n",
       "2544        31        59      12    12:59:31 1900-01-01 12:59:31  "
      ]
     },
     "execution_count": 68,
     "metadata": {},
     "output_type": "execute_result"
    }
   ],
   "source": [
    "second_cs_time_df"
   ]
  },
  {
   "cell_type": "code",
   "execution_count": 70,
   "id": "47d5ef25",
   "metadata": {},
   "outputs": [
    {
     "data": {
      "text/plain": [
       "Timestamp('1900-01-01 12:59:31')"
      ]
     },
     "execution_count": 70,
     "metadata": {},
     "output_type": "execute_result"
    }
   ],
   "source": [
    "# The time of the first controlled stimulus \n",
    "second_cs_time_df[\"cs_time_object\"].iloc[3]"
   ]
  },
  {
   "cell_type": "code",
   "execution_count": 71,
   "id": "814d060f",
   "metadata": {},
   "outputs": [
    {
     "data": {
      "text/plain": [
       "datetime.datetime(1900, 1, 1, 12, 58, 56)"
      ]
     },
     "execution_count": 71,
     "metadata": {},
     "output_type": "execute_result"
    }
   ],
   "source": [
    "# The time that the video started being recorded\n",
    "video_recording_start_time_object"
   ]
  },
  {
   "cell_type": "code",
   "execution_count": 72,
   "id": "689aaa4a",
   "metadata": {},
   "outputs": [],
   "source": [
    "# The time in the video that the controlled stimulus occurs\n",
    "# cs_01_time_object = second_cs_time_df[\"cs_time_object\"].iloc[0] - video_recording_start_time_object \n",
    "# cs_02_time_object = second_cs_time_df[\"cs_time_object\"].iloc[1] - video_recording_start_time_object \n",
    "# cs_03_time_object = second_cs_time_df[\"cs_time_object\"].iloc[2] - video_recording_start_time_object \n",
    "cs_04_time_object = second_cs_time_df[\"cs_time_object\"].iloc[3] - video_recording_start_time_object \n"
   ]
  },
  {
   "cell_type": "code",
   "execution_count": 73,
   "id": "4d523818",
   "metadata": {},
   "outputs": [
    {
     "data": {
      "text/plain": [
       "35"
      ]
     },
     "execution_count": 73,
     "metadata": {},
     "output_type": "execute_result"
    }
   ],
   "source": [
    "cs_04_time_object.seconds"
   ]
  },
  {
   "cell_type": "markdown",
   "id": "cc88e634",
   "metadata": {},
   "source": [
    "# Trimming the video"
   ]
  },
  {
   "cell_type": "code",
   "execution_count": 74,
   "id": "97ca4e56",
   "metadata": {},
   "outputs": [],
   "source": [
    "video_object = VideoFileClip(\"./data/recording_with_visual_cue/clock_test_recording_2022-07-01T12_58_56.avi\")"
   ]
  },
  {
   "cell_type": "code",
   "execution_count": 75,
   "id": "a8b8930a",
   "metadata": {},
   "outputs": [
    {
     "data": {
      "text/plain": [
       "77.5"
      ]
     },
     "execution_count": 75,
     "metadata": {},
     "output_type": "execute_result"
    }
   ],
   "source": [
    "video_object.duration"
   ]
  },
  {
   "cell_type": "markdown",
   "id": "e32dbb46",
   "metadata": {},
   "source": [
    "fixed func issue with: https://github.com/Zulko/moviepy/issues/1765\n"
   ]
  },
  {
   "cell_type": "code",
   "execution_count": 76,
   "id": "1f675b6f",
   "metadata": {},
   "outputs": [],
   "source": [
    "cs1_trimmed_video = video_object.subclip(cs_04_time_object.seconds, video_object.duration)"
   ]
  },
  {
   "cell_type": "raw",
   "id": "451cfc0a",
   "metadata": {},
   "source": [
    "cs2_trimmed_video = video_object.subclip(cs_02_time_object.seconds, cs_03_time_object.seconds + 20)"
   ]
  },
  {
   "cell_type": "raw",
   "id": "4eb3afba",
   "metadata": {},
   "source": [
    "cs3_trimmed_video = video_object.subclip(cs_03_time_object.seconds, video_object.duration)"
   ]
  },
  {
   "cell_type": "code",
   "execution_count": 78,
   "id": "edf460d1",
   "metadata": {},
   "outputs": [
    {
     "name": "stdout",
     "output_type": "stream",
     "text": [
      "Moviepy - Building video ./data/recording_with_visual_cue/trimmed_cs4.mp4.\n",
      "Moviepy - Writing video ./data/recording_with_visual_cue/trimmed_cs4.mp4\n",
      "\n"
     ]
    },
    {
     "name": "stderr",
     "output_type": "stream",
     "text": [
      "                                                                                                                                 "
     ]
    },
    {
     "name": "stdout",
     "output_type": "stream",
     "text": [
      "Moviepy - Done !\n",
      "Moviepy - video ready ./data/recording_with_visual_cue/trimmed_cs4.mp4\n"
     ]
    },
    {
     "name": "stderr",
     "output_type": "stream",
     "text": [
      "\r"
     ]
    }
   ],
   "source": [
    "cs1_trimmed_video.to_videofile(\"./data/recording_with_visual_cue/trimmed_cs4.mp4\")"
   ]
  },
  {
   "cell_type": "raw",
   "id": "627d15af",
   "metadata": {},
   "source": [
    "cs2_trimmed_video.to_videofile(\"./data/recording_with_visual_cue/trimmed_cs2.mp4\")"
   ]
  },
  {
   "cell_type": "raw",
   "id": "1e8da0c0",
   "metadata": {},
   "source": [
    "cs3_trimmed_video.to_videofile(\"./data/recording_with_visual_cue/trimmed_cs3.mp4\")"
   ]
  },
  {
   "cell_type": "code",
   "execution_count": null,
   "id": "00da6036",
   "metadata": {},
   "outputs": [],
   "source": []
  },
  {
   "cell_type": "code",
   "execution_count": 79,
   "id": "e32a2f70",
   "metadata": {
    "scrolled": true
   },
   "outputs": [
    {
     "data": {
      "text/html": [
       "<video src=\"./data/recording_with_visual_cue/trimmed_cs4.mp4\" controls  >\n",
       "      Your browser does not support the <code>video</code> element.\n",
       "    </video>"
      ],
      "text/plain": [
       "<IPython.core.display.Video object>"
      ]
     },
     "execution_count": 79,
     "metadata": {},
     "output_type": "execute_result"
    }
   ],
   "source": [
    "Video(\"./data/recording_with_visual_cue/trimmed_cs4.mp4\")"
   ]
  },
  {
   "cell_type": "code",
   "execution_count": null,
   "id": "6dfe2275",
   "metadata": {},
   "outputs": [],
   "source": []
  }
 ],
 "metadata": {
  "kernelspec": {
   "display_name": "Python 3 (ipykernel)",
   "language": "python",
   "name": "python3"
  },
  "language_info": {
   "codemirror_mode": {
    "name": "ipython",
    "version": 3
   },
   "file_extension": ".py",
   "mimetype": "text/x-python",
   "name": "python",
   "nbconvert_exporter": "python",
   "pygments_lexer": "ipython3",
   "version": "3.9.12"
  }
 },
 "nbformat": 4,
 "nbformat_minor": 5
}
